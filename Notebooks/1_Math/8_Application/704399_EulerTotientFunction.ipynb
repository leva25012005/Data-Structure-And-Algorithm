{
 "cells": [
  {
   "cell_type": "markdown",
   "id": "da93d6c9-8b34-46c4-83ca-ddcf2a2949cd",
   "metadata": {},
   "source": [
    "Solution:\n",
    "\n",
    "---\n",
    "\n",
    "---"
   ]
  },
  {
   "cell_type": "code",
   "execution_count": null,
   "id": "a65f5ca0",
   "metadata": {
    "vscode": {
     "languageId": "cpp"
    }
   },
   "outputs": [],
   "source": [
    "#include <iostream>\n",
    "#include <numeric> // for std::gcd\n",
    "using namespace std;\n",
    "\n",
    "class Solution {\n",
    "public:\n",
    "    /*\n",
    "    =============================\n",
    "    - Name Solution: Brute-force Euler's Totient Function\n",
    "    - Idea: Count all numbers from 1 to n-1 that are coprime with n using gcd. \n",
    "            Increment result for each i where gcd(i, n) == 1.\n",
    "    - Time: O(n * log n), due to gcd computation for each number\n",
    "    - Space: O(1), only a counter variable is used\n",
    "    =============================\n",
    "    */\n",
    "    int etfBrute(int n) { \n",
    "        int result = 1; // start counting from 1\n",
    "        for (int i = 2; i < n; i++) {\n",
    "            if (__gcd(i, n) == 1) // check if i is coprime with n\n",
    "                result++;\n",
    "        }\n",
    "        return result; \n",
    "    } \n",
    "\n",
    "    /*\n",
    "    =============================\n",
    "    - Name Solution: Efficient Euler's Totient Function using prime factorization\n",
    "    - Idea: Use the formula phi(n) = n * Π(1 - 1/p) over all distinct prime factors p of n.\n",
    "            Iterate over all primes <= sqrt(n) to factorize n and apply the formula efficiently.\n",
    "    - Time: O(sqrt(n)), iterate over possible prime factors\n",
    "    - Space: O(1), only a few variables needed\n",
    "    =============================\n",
    "    */\n",
    "    int etfEfficient(int n) {\n",
    "        if (n <= 1) return n; // phi(0)=0, phi(1)=1\n",
    "\n",
    "        long long m = n;\n",
    "        long long result = m;\n",
    "\n",
    "        // iterate over all prime factors <= sqrt(n)\n",
    "        for (long long p = 2; p * p <= m; ++p) {\n",
    "            if (m % p == 0) {\n",
    "                while (m % p == 0) m /= p; // remove all occurrences of p\n",
    "                result -= result / p; // apply formula: phi(n) *= (1 - 1/p)\n",
    "            }\n",
    "        }\n",
    "        if (m > 1) result -= result / m; // leftover prime factor\n",
    "\n",
    "        return (int)result;\n",
    "    }\n",
    "};\n",
    "\n",
    "\n",
    "int main() {\n",
    "    Solution sol;\n",
    "\n",
    "    // Test cases\n",
    "    int testCases[] = {1, 2, 5, 10, 13, 20};\n",
    "    int size = sizeof(testCases) / sizeof(testCases[0]);\n",
    "\n",
    "    for (int i = 0; i < size; i++) {\n",
    "        int n = testCases[i];\n",
    "        cout << \"Test case n = \" << n << endl;\n",
    "        cout << \"ETF Brute-force: \" << sol.etfBrute(n) << endl;\n",
    "        cout << \"ETF Efficient: \" << sol.etfEfficient(n) << endl;\n",
    "        cout << \"-------------------------\" << endl;\n",
    "    }\n",
    "\n",
    "    return 0;\n",
    "}\n"
   ]
  },
  {
   "cell_type": "markdown",
   "id": "cd5602a5-2575-4d2b-9713-8362076faea0",
   "metadata": {},
   "source": [
    "Test Case:"
   ]
  },
  {
   "cell_type": "code",
   "execution_count": null,
   "id": "9b9c38bb",
   "metadata": {
    "vscode": {
     "languageId": "cpp"
    }
   },
   "outputs": [],
   "source": [
    "Solution sol;\n",
    "\n",
    "return 0;"
   ]
  }
 ],
 "metadata": {
  "kernelspec": {
   "display_name": "C++17",
   "language": "C++17",
   "name": "xcpp17"
  },
  "language_info": {
   "codemirror_mode": "text/x-c++src",
   "file_extension": ".cpp",
   "mimetype": "text/x-c++src",
   "name": "c++",
   "version": "17"
  }
 },
 "nbformat": 4,
 "nbformat_minor": 5
}
