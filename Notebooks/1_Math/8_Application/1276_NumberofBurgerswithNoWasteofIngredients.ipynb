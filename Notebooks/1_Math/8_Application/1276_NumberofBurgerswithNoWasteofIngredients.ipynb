{
 "cells": [
  {
   "cell_type": "markdown",
   "id": "da93d6c9-8b34-46c4-83ca-ddcf2a2949cd",
   "metadata": {},
   "source": [
    "Solution:\n",
    "\n",
    "---\n",
    "\n",
    "---"
   ]
  },
  {
   "cell_type": "code",
   "execution_count": null,
   "id": "a65f5ca0",
   "metadata": {
    "vscode": {
     "languageId": "cpp"
    }
   },
   "outputs": [],
   "source": [
    "#include <iostream>\n",
    "#include <vector>\n",
    "using namespace std;\n",
    "\n",
    "/*\n",
    "    =============================\n",
    "    - Name Solution: Using System of Equations\n",
    "    - Idea: Represent the problem with two linear equations based on the number of tomato and cheese slices:\n",
    "            1) 4*Jumbo + 2*Small = tomatoSlices\n",
    "            2) Jumbo + Small = cheeseSlices\n",
    "            Solve the system to get:\n",
    "            Jumbo = (tomatoSlices - 2*cheeseSlices) / 2\n",
    "            Small = cheeseSlices - Jumbo\n",
    "            Ensure that solutions are non-negative integers and tomatoSlices is even.\n",
    "    - Time: O(1), direct arithmetic calculations\n",
    "    - Space: O(1), no extra memory used\n",
    "    =============================\n",
    "*/\n",
    "vector<int> numOfBurgers(int tomatoSlices, int cheeseSlices) {\n",
    "    if (tomatoSlices % 2 != 0) return {}; // must be even\n",
    "    int x = (tomatoSlices - 2 * cheeseSlices) / 2; // Jumbo burgers\n",
    "    int y = cheeseSlices - x; // Small burgers\n",
    "    if (x < 0 || y < 0) return {}; // invalid case\n",
    "    return {x, y}; // {Jumbo, Small}\n",
    "}\n",
    "\n",
    "\n",
    "int main() {\n",
    "    Solution sol;\n",
    "\n",
    "    // Test cases: {tomatoSlices, cheeseSlices}\n",
    "    vector<pair<int, int>> testCases = {\n",
    "        {16, 7},   // Expected: [1,6]\n",
    "        {17, 4},   // Expected: []\n",
    "        {4, 17},   // Expected: []\n",
    "        {0, 0},    // Expected: [0,0]\n",
    "        {2, 1}     // Expected: [0,1]\n",
    "    };\n",
    "\n",
    "    for (auto &tc : testCases) {\n",
    "        int tomato = tc.first;\n",
    "        int cheese = tc.second;\n",
    "        cout << \"Test case: tomatoSlices = \" << tomato \n",
    "             << \", cheeseSlices = \" << cheese << endl;\n",
    "        \n",
    "        vector<int> res = sol.numOfBurgers(tomato, cheese);\n",
    "        if (res.empty()) {\n",
    "            cout << \"No valid solution\" << endl;\n",
    "        } else {\n",
    "            cout << \"Jumbo = \" << res[0] << \", Small = \" << res[1] << endl;\n",
    "        }\n",
    "        cout << \"-------------------------\" << endl;\n",
    "    }\n",
    "\n",
    "    return 0;\n",
    "}\n"
   ]
  },
  {
   "cell_type": "markdown",
   "id": "cd5602a5-2575-4d2b-9713-8362076faea0",
   "metadata": {},
   "source": [
    "Test Case:"
   ]
  },
  {
   "cell_type": "code",
   "execution_count": null,
   "id": "9b9c38bb",
   "metadata": {
    "vscode": {
     "languageId": "cpp"
    }
   },
   "outputs": [],
   "source": [
    "Solution sol;\n",
    "\n",
    "return 0;"
   ]
  }
 ],
 "metadata": {
  "kernelspec": {
   "display_name": "C++17",
   "language": "C++17",
   "name": "xcpp17"
  },
  "language_info": {
   "codemirror_mode": "text/x-c++src",
   "file_extension": ".cpp",
   "mimetype": "text/x-c++src",
   "name": "c++",
   "version": "17"
  }
 },
 "nbformat": 4,
 "nbformat_minor": 5
}
