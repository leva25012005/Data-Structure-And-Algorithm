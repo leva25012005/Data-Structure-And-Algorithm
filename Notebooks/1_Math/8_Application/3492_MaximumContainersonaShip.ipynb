{
 "cells": [
  {
   "cell_type": "markdown",
   "id": "da93d6c9-8b34-46c4-83ca-ddcf2a2949cd",
   "metadata": {},
   "source": [
    "Solution:\n",
    "\n",
    "---\n",
    "\n",
    "---"
   ]
  },
  {
   "cell_type": "code",
   "execution_count": null,
   "id": "a65f5ca0",
   "metadata": {
    "vscode": {
     "languageId": "cpp"
    }
   },
   "outputs": [],
   "source": [
    "#include<iostream>\n",
    "#include<vector>\n",
    "using namespace std;\n",
    "\n",
    "/*\n",
    "    =============================\n",
    "    - Name Solution: Max Containers Calculation\n",
    "    - Idea: The maximum number of containers is limited by two constraints: \n",
    "            1) Total weight capacity (maxWeight / w)\n",
    "            2) Maximum number of containers allowed by the deck arrangement (n * n)\n",
    "            The solution takes the minimum of these two constraints to get the final answer.\n",
    "    - Time: O(1), only arithmetic operations and min comparison\n",
    "    - Space: O(1), no extra memory used\n",
    "    =============================\n",
    "*/\n",
    "class Solution {\n",
    "public:\n",
    "    int maxContainers(int n, int w, int maxWeight) {\n",
    "        long long maxByCapacity = maxWeight / w;  \n",
    "        long long maxByDeck = 1LL * n * n;       \n",
    "        return (int)min(maxByCapacity, maxByDeck);\n",
    "    }\n",
    "};\n",
    "\n",
    "int main() {\n",
    "    Solution sol;\n",
    "\n",
    "    // Test cases: {n, w, maxWeight}\n",
    "    vector<tuple<int, int, int>> testCases = {\n",
    "        {2, 3, 20},    // small numbers\n",
    "        {5, 2, 100},   // larger capacity\n",
    "        {10, 5, 300},  // balanced case\n",
    "        {7, 4, 50}     // tighter weight limit\n",
    "    };\n",
    "\n",
    "    for (auto &tc : testCases) {\n",
    "        int n, w, maxWeight;\n",
    "        tie(n, w, maxWeight) = tc;\n",
    "\n",
    "        cout << \"Test case: n = \" << n \n",
    "             << \", w = \" << w \n",
    "             << \", maxWeight = \" << maxWeight << endl;\n",
    "\n",
    "        cout << \"Maximum containers = \" << sol.maxContainers(n, w, maxWeight) << endl;\n",
    "        cout << \"-------------------------\" << endl;\n",
    "    }\n",
    "\n",
    "    return 0;\n",
    "}\n"
   ]
  },
  {
   "cell_type": "markdown",
   "id": "cd5602a5-2575-4d2b-9713-8362076faea0",
   "metadata": {},
   "source": [
    "Test Case:"
   ]
  },
  {
   "cell_type": "code",
   "execution_count": null,
   "id": "9b9c38bb",
   "metadata": {
    "vscode": {
     "languageId": "cpp"
    }
   },
   "outputs": [],
   "source": [
    "Solution sol;\n",
    "\n",
    "return 0;"
   ]
  }
 ],
 "metadata": {
  "kernelspec": {
   "display_name": "C++17",
   "language": "C++17",
   "name": "xcpp17"
  },
  "language_info": {
   "codemirror_mode": "text/x-c++src",
   "file_extension": ".cpp",
   "mimetype": "text/x-c++src",
   "name": "c++",
   "version": "17"
  }
 },
 "nbformat": 4,
 "nbformat_minor": 5
}
