{
 "cells": [
  {
   "cell_type": "markdown",
   "id": "da93d6c9-8b34-46c4-83ca-ddcf2a2949cd",
   "metadata": {},
   "source": [
    "Solution:\n",
    "\n",
    "---\n",
    "\n",
    "---"
   ]
  },
  {
   "cell_type": "code",
   "execution_count": null,
   "id": "a65f5ca0",
   "metadata": {
    "vscode": {
     "languageId": "cpp"
    }
   },
   "outputs": [],
   "source": [
    "#include <iostream>\n",
    "using namespace std;\n",
    "\n",
    "/*\n",
    "    =============================\n",
    "    - Name Solution: Tower of Hanoi (Recursive)\n",
    "    - Idea: Solve the problem recursively by moving (n-1) disks to an auxiliary rod, \n",
    "            then moving the largest disk to the target rod, \n",
    "            and finally moving the (n-1) disks from auxiliary to target rod. \n",
    "            The minimum number of moves required is 2^n - 1.\n",
    "    - Time: O(2^N), as each call generates two recursive calls\n",
    "    - Space: O(N), due to the recursion stack\n",
    "    =============================\n",
    "*/\n",
    "class Solution {\n",
    "public:\n",
    "    int towerOfHanoi(int n, int from, int to, int aux) {\n",
    "        if (n == 1) return 1; // Base case: 1 disk requires 1 move\n",
    "        return 2 * towerOfHanoi(n - 1, from, aux, to) + 1; // Recursive formula\n",
    "    }\n",
    "};\n",
    "\n",
    "\n",
    "int main() {\n",
    "    Solution sol;\n",
    "\n",
    "    // Test cases\n",
    "    int testCases[] = {1, 2, 3, 4, 5};\n",
    "    int size = sizeof(testCases) / sizeof(testCases[0]);\n",
    "\n",
    "    for (int i = 0; i < size; i++) {\n",
    "        int n = testCases[i];\n",
    "        cout << \"Number of disks = \" << n << endl;\n",
    "        cout << \"Minimum moves required: \" << sol.towerOfHanoi(n, 1, 3, 2) << endl;\n",
    "        cout << \"-------------------------\" << endl;\n",
    "    }\n",
    "\n",
    "    return 0;\n",
    "}\n"
   ]
  },
  {
   "cell_type": "markdown",
   "id": "cd5602a5-2575-4d2b-9713-8362076faea0",
   "metadata": {},
   "source": [
    "Test Case:"
   ]
  },
  {
   "cell_type": "code",
   "execution_count": null,
   "id": "9b9c38bb",
   "metadata": {
    "vscode": {
     "languageId": "cpp"
    }
   },
   "outputs": [],
   "source": [
    "Solution sol;\n",
    "\n",
    "return 0;"
   ]
  }
 ],
 "metadata": {
  "kernelspec": {
   "display_name": "C++17",
   "language": "C++17",
   "name": "xcpp17"
  },
  "language_info": {
   "codemirror_mode": "text/x-c++src",
   "file_extension": ".cpp",
   "mimetype": "text/x-c++src",
   "name": "c++",
   "version": "17"
  }
 },
 "nbformat": 4,
 "nbformat_minor": 5
}
