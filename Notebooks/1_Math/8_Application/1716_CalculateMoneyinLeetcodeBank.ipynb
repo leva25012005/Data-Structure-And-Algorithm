{
 "cells": [
  {
   "cell_type": "markdown",
   "id": "da93d6c9-8b34-46c4-83ca-ddcf2a2949cd",
   "metadata": {},
   "source": [
    "Solution:\n",
    "\n",
    "---\n",
    "\n",
    "---"
   ]
  },
  {
   "cell_type": "code",
   "execution_count": null,
   "id": "a65f5ca0",
   "metadata": {
    "vscode": {
     "languageId": "cpp"
    }
   },
   "outputs": [],
   "source": [
    "#include<iostream>\n",
    "#include<vector>\n",
    "using namespace std;\n",
    "\n",
    "class Solution {\n",
    "public:\n",
    "    /*\n",
    "    =============================\n",
    "    - Name Solution: Simulation using while + for loop\n",
    "    - Idea: Simulate week by week. Each Monday, the starting money increases by 1. Add money for each day of the week until n days are counted.\n",
    "    - Time: O(N), iterate through each day\n",
    "    - Space: O(1), only a few variables are used\n",
    "    =============================\n",
    "    */\n",
    "    int totalMoneyWhileFor(int n) {\n",
    "        int ans = 0;\n",
    "        int monday = 1;\n",
    "        \n",
    "        while (n > 0) {\n",
    "            for (int day = 0; day < min(n, 7); day++) {\n",
    "                ans += monday + day;\n",
    "            }\n",
    "            n -= 7;      // move to next week\n",
    "            monday++;    // next week starts with more money\n",
    "        }\n",
    "        return ans;\n",
    "    }\n",
    "\n",
    "    /*\n",
    "    =============================\n",
    "    - Name Solution: Simulation using single for loop\n",
    "    - Idea: Iterate day by day, track \"start of week\" and \"day offset\". Reset offset when a new week starts and increase start of week by 1.\n",
    "    - Time: O(N), iterate through each day\n",
    "    - Space: O(1), only a few variables are used\n",
    "    =============================\n",
    "    */\n",
    "    int totalMoneyForLoop(int n) {\n",
    "        int total = 0;\n",
    "        int start = 1;   // money put on the first Monday\n",
    "        int day = 0;     // offset within the week\n",
    "\n",
    "        for (int i = 1; i <= n; i++) {\n",
    "            total += start + day;\n",
    "            day++;\n",
    "            if (day == 7) {  // reset when a new week starts\n",
    "                day = 0;\n",
    "                start++;\n",
    "            }\n",
    "        }\n",
    "        return total;\n",
    "    }\n",
    "\n",
    "    /*\n",
    "    =============================\n",
    "    - Name Solution: Formula-based approach\n",
    "    - Idea: \n",
    "      - Calculate total money of complete weeks using arithmetic series: sum of 7 days per week increases each week.\n",
    "      - Add the remaining days using arithmetic series formula for the partial week.\n",
    "    - Time: O(1), direct formula calculation\n",
    "    - Space: O(1), only a few variables are used\n",
    "    =============================\n",
    "    */\n",
    "    int totalMoneyFormula(int n) {\n",
    "        int weeks = n / 7;\n",
    "        int days = n % 7;\n",
    "        // sum of full weeks: each week contributes 28, and increases by 7 for each next week\n",
    "        int fullWeeks = weeks * 28 + (weeks * (weeks - 1) * 7) / 2;\n",
    "        // sum of remaining days using arithmetic series\n",
    "        int remaining = (days * (2 * (weeks + 1) + (days - 1))) / 2;\n",
    "        return fullWeeks + remaining;\n",
    "    }\n",
    "};\n",
    "\n",
    "\n",
    "int main() {\n",
    "    Solution sol;\n",
    "\n",
    "    // Test cases\n",
    "    vector<int> testCases = {4, 10, 20, 30};\n",
    "\n",
    "    for (int n : testCases) {\n",
    "        cout << \"Test case n = \" << n << endl;\n",
    "        cout << \"Using While+For Loop: \" << sol.totalMoneyWhileFor(n) << endl;\n",
    "        cout << \"Using Single For Loop: \" << sol.totalMoneyForLoop(n) << endl;\n",
    "        cout << \"Using Formula: \" << sol.totalMoneyFormula(n) << endl;\n",
    "        cout << \"-------------------------\" << endl;\n",
    "    }\n",
    "\n",
    "    return 0;\n",
    "}\n"
   ]
  },
  {
   "cell_type": "markdown",
   "id": "cd5602a5-2575-4d2b-9713-8362076faea0",
   "metadata": {},
   "source": [
    "Test Case:"
   ]
  },
  {
   "cell_type": "code",
   "execution_count": null,
   "id": "9b9c38bb",
   "metadata": {
    "vscode": {
     "languageId": "cpp"
    }
   },
   "outputs": [],
   "source": [
    "Solution sol;\n",
    "\n",
    "return 0;"
   ]
  }
 ],
 "metadata": {
  "kernelspec": {
   "display_name": "C++17",
   "language": "C++17",
   "name": "xcpp17"
  },
  "language_info": {
   "codemirror_mode": "text/x-c++src",
   "file_extension": ".cpp",
   "mimetype": "text/x-c++src",
   "name": "c++",
   "version": "17"
  }
 },
 "nbformat": 4,
 "nbformat_minor": 5
}
