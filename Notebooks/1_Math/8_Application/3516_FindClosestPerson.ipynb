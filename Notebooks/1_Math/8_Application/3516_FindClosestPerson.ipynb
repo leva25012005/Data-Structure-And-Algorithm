{
 "cells": [
  {
   "cell_type": "markdown",
   "id": "da93d6c9-8b34-46c4-83ca-ddcf2a2949cd",
   "metadata": {},
   "source": [
    "Solution:\n",
    "\n",
    "---\n",
    "\n",
    "---"
   ]
  },
  {
   "cell_type": "code",
   "execution_count": null,
   "id": "a65f5ca0",
   "metadata": {
    "vscode": {
     "languageId": "cpp"
    }
   },
   "outputs": [],
   "source": [
    "#include <iostream>\n",
    "#include <vector>\n",
    "#include <tuple>\n",
    "#include <cmath> // for abs()\n",
    "using namespace std;\n",
    "\n",
    "/*\n",
    "    =============================\n",
    "    - Name Solution: Find Closest Number\n",
    "    - Idea: To determine which of two numbers (x or y) is closer to a target z, calculate the absolute distance \n",
    "            of each number from z and compare. Return 1 if x is closer, 2 if y is closer, or 0 if both are equally close.\n",
    "    - Time: O(1), only a few arithmetic operations are needed\n",
    "    - Space: O(1), only a few variables for distance calculation\n",
    "    =============================\n",
    "*/\n",
    "class Solution {\n",
    "public:\n",
    "    int findClosest(int x, int y, int z) {\n",
    "        int dist1 = abs(x - z); // Distance from x to z\n",
    "        int dist2 = abs(y - z); // Distance from y to z\n",
    "\n",
    "        if (dist1 < dist2) return 1;\n",
    "        if (dist2 < dist1) return 2;\n",
    "        return 0;\n",
    "    }\n",
    "};\n",
    "\n",
    "int main() {\n",
    "    Solution sol;\n",
    "\n",
    "    // Test cases: (x, y, z)\n",
    "    vector<tuple<int, int, int>> testCases = {\n",
    "        {3, 7, 5},   // x is closer\n",
    "        {10, 20, 18}, // y is closer\n",
    "        {4, 8, 6},    // both are equally close\n",
    "        {100, 200, 150}, // x is closer\n",
    "    };\n",
    "\n",
    "    for (auto &tc : testCases) {\n",
    "        int x, y, z;\n",
    "        tie(x, y, z) = tc;\n",
    "\n",
    "        cout << \"Test case: x = \" << x << \", y = \" << y << \", z = \" << z << endl;\n",
    "        int res = sol.findClosest(x, y, z);\n",
    "\n",
    "        if (res == 1)\n",
    "            cout << \"Result: x is closer to z\" << endl;\n",
    "        else if (res == 2)\n",
    "            cout << \"Result: y is closer to z\" << endl;\n",
    "        else\n",
    "            cout << \"Result: both are equally close\" << endl;\n",
    "\n",
    "        cout << \"-------------------------\" << endl;\n",
    "    }\n",
    "\n",
    "    return 0;\n",
    "}\n"
   ]
  },
  {
   "cell_type": "markdown",
   "id": "cd5602a5-2575-4d2b-9713-8362076faea0",
   "metadata": {},
   "source": [
    "Test Case:"
   ]
  },
  {
   "cell_type": "code",
   "execution_count": null,
   "id": "9b9c38bb",
   "metadata": {
    "vscode": {
     "languageId": "cpp"
    }
   },
   "outputs": [],
   "source": [
    "Solution sol;\n",
    "\n",
    "return 0;"
   ]
  }
 ],
 "metadata": {
  "kernelspec": {
   "display_name": "C++17",
   "language": "C++17",
   "name": "xcpp17"
  },
  "language_info": {
   "codemirror_mode": "text/x-c++src",
   "file_extension": ".cpp",
   "mimetype": "text/x-c++src",
   "name": "c++",
   "version": "17"
  }
 },
 "nbformat": 4,
 "nbformat_minor": 5
}
