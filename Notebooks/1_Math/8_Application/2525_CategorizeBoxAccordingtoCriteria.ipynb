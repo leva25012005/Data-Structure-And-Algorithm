{
 "cells": [
  {
   "cell_type": "markdown",
   "id": "da93d6c9-8b34-46c4-83ca-ddcf2a2949cd",
   "metadata": {},
   "source": [
    "Solution:\n",
    "\n",
    "---\n",
    "\n",
    "---"
   ]
  },
  {
   "cell_type": "code",
   "execution_count": null,
   "id": "a65f5ca0",
   "metadata": {
    "vscode": {
     "languageId": "cpp"
    }
   },
   "outputs": [],
   "source": [
    "#include<iostream>\n",
    "#include<vector>\n",
    "using namespace std;\n",
    "\n",
    "/*\n",
    "    =============================\n",
    "    - Name Solution: Categorize Box\n",
    "    - Idea: Determine if a box is \"Bulky\", \"Heavy\", \"Both\", or \"Neither\" based on its dimensions and mass:\n",
    "            1. Calculate the volume = length * width * height.\n",
    "            2. A box is \"Bulky\" if any side >= 10,000 or volume >= 1,000,000,000.\n",
    "            3. A box is \"Heavy\" if mass >= 100.\n",
    "            4. Return the corresponding category based on the combination of bulky and heavy.\n",
    "    - Time: O(1), simple arithmetic and comparisons\n",
    "    - Space: O(1), only a few variables used\n",
    "    =============================\n",
    "*/\n",
    "class Solution {\n",
    "public:\n",
    "    string categorizeBox(int length, int width, int height, int mass) {\n",
    "        long long volume = 1LL * length * width * height;\n",
    "        bool bulky = (length >= 10000 || width >= 10000 || height >= 10000 ||\n",
    "                      volume >= 1000000000LL);\n",
    "        bool heavy = (mass >= 100);\n",
    "        return bulky && heavy ? \"Both\" :\n",
    "               bulky ? \"Bulky\" :\n",
    "               heavy ? \"Heavy\" :\n",
    "               \"Neither\";\n",
    "    }\n",
    "};\n",
    "\n",
    "\n",
    "int main()\n",
    "{\n",
    "    Solution sol;\n",
    "\n",
    "    // Test cases: {length, width, height, mass}\n",
    "    vector<vector<int>> testCases = {\n",
    "        {10000, 1, 1, 50},   // \"Bulky\" because of length >= 10000\n",
    "        {10, 10, 10, 200},   // \"Heavy\" because of mass >= 100\n",
    "        {10000, 10000, 10000, 200}, // \"Both\" because of both bulky and heavy\n",
    "        {5, 5, 5, 10}        // \"Neither\" because of neither bulky nor heavy\n",
    "    };\n",
    "\n",
    "    for (auto &tc : testCases) {\n",
    "        int length = tc[0], width = tc[1], height = tc[2], mass = tc[3];\n",
    "        cout << \"Box (L=\" << length \n",
    "             << \", W=\" << width \n",
    "             << \", H=\" << height \n",
    "             << \", M=\" << mass << \") => \"\n",
    "             << sol.categorizeBox(length, width, height, mass) << endl;\n",
    "        cout << \"-------------------------\" << endl;\n",
    "    }\n",
    "\n",
    "    return 0;\n",
    "}\n"
   ]
  },
  {
   "cell_type": "markdown",
   "id": "cd5602a5-2575-4d2b-9713-8362076faea0",
   "metadata": {},
   "source": [
    "Test Case:"
   ]
  },
  {
   "cell_type": "code",
   "execution_count": null,
   "id": "9b9c38bb",
   "metadata": {
    "vscode": {
     "languageId": "cpp"
    }
   },
   "outputs": [],
   "source": [
    "Solution sol;\n",
    "\n",
    "return 0;"
   ]
  }
 ],
 "metadata": {
  "kernelspec": {
   "display_name": "C++17",
   "language": "C++17",
   "name": "xcpp17"
  },
  "language_info": {
   "codemirror_mode": "text/x-c++src",
   "file_extension": ".cpp",
   "mimetype": "text/x-c++src",
   "name": "c++",
   "version": "17"
  }
 },
 "nbformat": 4,
 "nbformat_minor": 5
}
