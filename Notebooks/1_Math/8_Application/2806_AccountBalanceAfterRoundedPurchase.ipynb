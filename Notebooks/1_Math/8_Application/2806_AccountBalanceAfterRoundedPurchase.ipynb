{
 "cells": [
  {
   "cell_type": "markdown",
   "id": "da93d6c9-8b34-46c4-83ca-ddcf2a2949cd",
   "metadata": {},
   "source": [
    "Solution:\n",
    "\n",
    "---\n",
    "\n",
    "---"
   ]
  },
  {
   "cell_type": "code",
   "execution_count": null,
   "id": "a65f5ca0",
   "metadata": {
    "vscode": {
     "languageId": "cpp"
    }
   },
   "outputs": [],
   "source": [
    "#include <iostream>\n",
    "using namespace std;\n",
    "\n",
    "/*\n",
    "    =============================\n",
    "    - Name Solution: Round Purchase Using Arithmetic\n",
    "    - Idea: Round the purchase amount to the nearest multiple of 10 by adding 5 and then dividing by 10. \n",
    "            Subtract the rounded value from the initial balance (100) to get the remaining balance.\n",
    "    - Time: O(1), simple arithmetic operations\n",
    "    - Space: O(1), no extra memory required\n",
    "    =============================\n",
    "*/\n",
    "class Solution {\n",
    "public:\n",
    "    int accountBalanceAfterPurchase(int purchaseAmount) {\n",
    "        int roundedAmount = ((purchaseAmount + 5) / 10) * 10;\n",
    "        return 100 - roundedAmount;\n",
    "    }\n",
    "};\n",
    "\n",
    "int main() {\n",
    "    Solution sol;\n",
    "\n",
    "    // Test cases\n",
    "    int testCases[] = {0, 5, 9, 15, 24, 30, 55, 73, 99};\n",
    "    int size = sizeof(testCases) / sizeof(testCases[0]);\n",
    "\n",
    "    for (int i = 0; i < size; i++) {\n",
    "        int purchase = testCases[i];\n",
    "        cout << \"Purchase = \" << purchase \n",
    "             << \" -> Balance after purchase = \" \n",
    "             << sol.accountBalanceAfterPurchase(purchase) << endl;\n",
    "    }\n",
    "\n",
    "    return 0;\n",
    "}\n"
   ]
  },
  {
   "cell_type": "markdown",
   "id": "cd5602a5-2575-4d2b-9713-8362076faea0",
   "metadata": {},
   "source": [
    "Test Case:"
   ]
  },
  {
   "cell_type": "code",
   "execution_count": null,
   "id": "9b9c38bb",
   "metadata": {
    "vscode": {
     "languageId": "cpp"
    }
   },
   "outputs": [],
   "source": [
    "Solution sol;\n",
    "\n",
    "return 0;"
   ]
  }
 ],
 "metadata": {
  "kernelspec": {
   "display_name": "C++17",
   "language": "C++17",
   "name": "xcpp17"
  },
  "language_info": {
   "codemirror_mode": "text/x-c++src",
   "file_extension": ".cpp",
   "mimetype": "text/x-c++src",
   "name": "c++",
   "version": "17"
  }
 },
 "nbformat": 4,
 "nbformat_minor": 5
}
