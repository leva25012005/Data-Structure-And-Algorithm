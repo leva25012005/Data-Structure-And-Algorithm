{
 "cells": [
  {
   "cell_type": "markdown",
   "id": "da93d6c9-8b34-46c4-83ca-ddcf2a2949cd",
   "metadata": {},
   "source": [
    "Solution:\n",
    "\n",
    "---\n",
    "\n",
    "---"
   ]
  },
  {
   "cell_type": "code",
   "execution_count": null,
   "id": "a65f5ca0",
   "metadata": {
    "vscode": {
     "languageId": "cpp"
    }
   },
   "outputs": [],
   "source": [
    "#include <iostream>\n",
    "#include <vector>\n",
    "using namespace std;\n",
    "\n",
    "class Solution {\n",
    "public:\n",
    "    /*\n",
    "    =============================\n",
    "    - Name Solution: Using Odd/Even Decomposition\n",
    "    - Idea: Count how many odd and even numbers exist in [1..n] and [1..m].\n",
    "            A valid pair has one odd and one even number. \n",
    "            So, valid pairs = (odd from n * even from m) + (even from n * odd from m)\n",
    "    - Time: O(1), simple arithmetic\n",
    "    - Space: O(1), no extra memory needed\n",
    "    =============================\n",
    "    */\n",
    "    long long flowerGameOddEven(int n, int m) {\n",
    "        long long oddX = (n + 1LL) / 2;   // count of odd numbers in [1..n]\n",
    "        long long evenX = n / 2LL;        // count of even numbers in [1..n]\n",
    "        long long oddY = (m + 1LL) / 2;   // count of odd numbers in [1..m]\n",
    "        long long evenY = m / 2LL;        // count of even numbers in [1..m]\n",
    "        return oddX * evenY + evenX * oddY;\n",
    "    }\n",
    "\n",
    "    /*\n",
    "    =============================\n",
    "    - Name Solution: Using Direct Formula\n",
    "    - Idea: Total pairs = n * m. Exactly half of these pairs will have an odd sum, so valid pairs = n * m / 2\n",
    "    - Time: O(1), single arithmetic calculation\n",
    "    - Space: O(1), no extra memory needed\n",
    "    =============================\n",
    "    */\n",
    "    long long flowerGameFormula(int n, int m) {\n",
    "        return (long long)m * n / 2;\n",
    "    }\n",
    "};\n",
    "\n",
    "int main() {\n",
    "    Solution sol;\n",
    "\n",
    "    // Test cases (n, m)\n",
    "    vector<pair<int, int>> testCases = {\n",
    "        {1, 1},\n",
    "        {2, 3},\n",
    "        {3, 3},\n",
    "        {5, 10},\n",
    "        {100, 200}\n",
    "    };\n",
    "\n",
    "    for (auto &tc : testCases) {\n",
    "        int n = tc.first, m = tc.second;\n",
    "        cout << \"Test case: n = \" << n << \", m = \" << m << endl;\n",
    "        cout << \"Odd/Even decomposition method: \" << sol.flowerGameOddEven(n, m) << endl;\n",
    "        cout << \"Formula method: \" << sol.flowerGameFormula(n, m) << endl;\n",
    "        cout << \"-----------------------------\" << endl;\n",
    "    }\n",
    "\n",
    "    return 0;\n",
    "}\n"
   ]
  },
  {
   "cell_type": "markdown",
   "id": "cd5602a5-2575-4d2b-9713-8362076faea0",
   "metadata": {},
   "source": [
    "Test Case:"
   ]
  },
  {
   "cell_type": "code",
   "execution_count": null,
   "id": "9b9c38bb",
   "metadata": {
    "vscode": {
     "languageId": "cpp"
    }
   },
   "outputs": [],
   "source": [
    "Solution sol;\n",
    "\n",
    "return 0;"
   ]
  }
 ],
 "metadata": {
  "kernelspec": {
   "display_name": "C++17",
   "language": "C++17",
   "name": "xcpp17"
  },
  "language_info": {
   "codemirror_mode": "text/x-c++src",
   "file_extension": ".cpp",
   "mimetype": "text/x-c++src",
   "name": "c++",
   "version": "17"
  }
 },
 "nbformat": 4,
 "nbformat_minor": 5
}
