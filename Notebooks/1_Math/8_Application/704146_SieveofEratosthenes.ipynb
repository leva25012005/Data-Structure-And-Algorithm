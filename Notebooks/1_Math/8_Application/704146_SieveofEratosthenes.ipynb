{
 "cells": [
  {
   "cell_type": "markdown",
   "id": "da93d6c9-8b34-46c4-83ca-ddcf2a2949cd",
   "metadata": {},
   "source": [
    "Solution:\n",
    "\n",
    "---\n",
    "\n",
    "---"
   ]
  },
  {
   "cell_type": "code",
   "execution_count": null,
   "id": "a65f5ca0",
   "metadata": {
    "vscode": {
     "languageId": "cpp"
    }
   },
   "outputs": [],
   "source": [
    "#include <iostream>\n",
    "#include <vector>\n",
    "using namespace std;\n",
    "\n",
    "/*\n",
    "    =============================\n",
    "    - Name Solution: Sieve of Eratosthenes\n",
    "    - Idea: Generate all prime numbers up to n efficiently by marking multiples of each prime starting from 2. \n",
    "            Numbers that remain unmarked are prime. This avoids checking divisibility for each number individually.\n",
    "    - Time: O(N log log N), due to marking multiples of primes\n",
    "    - Space: O(N), for the boolean array tracking primality\n",
    "    =============================\n",
    "*/\n",
    "class Solution {\n",
    "public:\n",
    "    vector<int> sieve(int n) {\n",
    "        vector<int> primes;\n",
    "\n",
    "        // Handle small cases\n",
    "        if (n < 2) return primes;\n",
    "\n",
    "        // Step 1: Initialize boolean array to track prime numbers\n",
    "        vector<bool> is_prime(n + 1, true);\n",
    "        is_prime[0] = is_prime[1] = false; // 0 and 1 are not prime\n",
    "\n",
    "        // Step 2: Mark multiples of each prime number\n",
    "        for (int p = 2; p * p <= n; p++) {\n",
    "            if (is_prime[p]) {\n",
    "                // Mark all multiples of p as non-prime\n",
    "                for (int i = p * p; i <= n; i += p) {\n",
    "                    is_prime[i] = false;\n",
    "                }\n",
    "            }\n",
    "        }\n",
    "\n",
    "        // Step 3: Collect all prime numbers\n",
    "        for (int i = 2; i <= n; i++) {\n",
    "            if (is_prime[i]) {\n",
    "                primes.push_back(i);\n",
    "            }\n",
    "        }\n",
    "\n",
    "        return primes;\n",
    "    }\n",
    "};\n",
    "\n",
    "int main() {\n",
    "    Solution sol;\n",
    "\n",
    "    // Test cases\n",
    "    vector<int> testCases = {10, 30, 50};\n",
    "\n",
    "    for (int n : testCases) {\n",
    "        cout << \"Primes up to \" << n << \": \";\n",
    "        vector<int> primes = sol.sieve(n);\n",
    "        for (int p : primes) cout << p << \" \";\n",
    "        cout << endl << \"-------------------------\" << endl;\n",
    "    }\n",
    "\n",
    "    return 0;\n",
    "}\n"
   ]
  },
  {
   "cell_type": "markdown",
   "id": "cd5602a5-2575-4d2b-9713-8362076faea0",
   "metadata": {},
   "source": [
    "Test Case:"
   ]
  },
  {
   "cell_type": "code",
   "execution_count": null,
   "id": "9b9c38bb",
   "metadata": {
    "vscode": {
     "languageId": "cpp"
    }
   },
   "outputs": [],
   "source": [
    "Solution sol;\n",
    "\n",
    "return 0;"
   ]
  }
 ],
 "metadata": {
  "kernelspec": {
   "display_name": "C++17",
   "language": "C++17",
   "name": "xcpp17"
  },
  "language_info": {
   "codemirror_mode": "text/x-c++src",
   "file_extension": ".cpp",
   "mimetype": "text/x-c++src",
   "name": "c++",
   "version": "17"
  }
 },
 "nbformat": 4,
 "nbformat_minor": 5
}
