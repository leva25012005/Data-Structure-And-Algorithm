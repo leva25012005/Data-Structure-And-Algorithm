{
 "cells": [
  {
   "cell_type": "markdown",
   "id": "da93d6c9-8b34-46c4-83ca-ddcf2a2949cd",
   "metadata": {},
   "source": [
    "Solution:\n",
    "\n",
    "---\n",
    "\n",
    "---"
   ]
  },
  {
   "cell_type": "code",
   "execution_count": null,
   "id": "a65f5ca0",
   "metadata": {
    "vscode": {
     "languageId": "cpp"
    }
   },
   "outputs": [],
   "source": [
    "#include <iostream>\n",
    "#include <vector>\n",
    "#include <numeric>  // for std::iota\n",
    "using namespace std;\n",
    "\n",
    "class Solution {\n",
    "public:\n",
    "    /*\n",
    "    =============================\n",
    "    - Name Solution: Iterative Approach Using Vector\n",
    "    - Idea: Simulate the Josephus elimination process by storing people in a vector.\n",
    "            At each step, calculate the index of the k-th person using modulo, then remove them.\n",
    "            Repeat until one person remains.\n",
    "    - Time: O(n*k), each elimination takes O(k) steps in the worst case\n",
    "    - Space: O(n), storing all people in a vector\n",
    "    =============================\n",
    "    */\n",
    "    int josephusIterative(int n, int k) {\n",
    "        vector<int> people(n);\n",
    "        iota(people.begin(), people.end(), 1); // fill vector with 1 to n\n",
    "\n",
    "        int index = 0;\n",
    "        while (people.size() > 1) {\n",
    "            index = (index + k - 1) % people.size(); // find the k-th person\n",
    "            people.erase(people.begin() + index);    // remove them\n",
    "        }\n",
    "\n",
    "        return people[0]; // the last remaining person\n",
    "    }\n",
    "\n",
    "    /*\n",
    "    =============================\n",
    "    - Name Solution: Recursive Approach\n",
    "    - Idea: Solve Josephus problem recursively. \n",
    "            For n people and step k, reduce problem to (n-1) people, then adjust the result to find the correct position.\n",
    "    - Time: O(n), each recursive call reduces the problem size by 1\n",
    "    - Space: O(n), recursion stack depth is n\n",
    "    =============================\n",
    "    */\n",
    "    int josephusRecursive(int n, int k) {\n",
    "        if (n == 1) // base case: only one person left\n",
    "            return 1;\n",
    "        else\n",
    "            return (josephusRecursive(n - 1, k) + k - 1) % n + 1;\n",
    "    }\n",
    "};\n",
    "\n",
    "\n",
    "int main() {\n",
    "    Solution sol;\n",
    "\n",
    "    // Test cases\n",
    "    vector<pair<int,int>> testCases = {{5,2}, {7,3}, {10,4}};\n",
    "\n",
    "    for(auto &[n,k] : testCases) {\n",
    "        cout << \"Test case: n = \" << n << \", k = \" << k << endl;\n",
    "        cout << \"Last person standing (Iterative): \" << sol.josephusIterative(n,k) << endl;\n",
    "        cout << \"Last person standing (Recursive): \" << sol.josephusRecursive(n,k) << endl;\n",
    "        cout << \"-------------------------\" << endl;\n",
    "    }\n",
    "\n",
    "    return 0;\n",
    "}\n"
   ]
  },
  {
   "cell_type": "markdown",
   "id": "cd5602a5-2575-4d2b-9713-8362076faea0",
   "metadata": {},
   "source": [
    "Test Case:"
   ]
  },
  {
   "cell_type": "code",
   "execution_count": null,
   "id": "9b9c38bb",
   "metadata": {
    "vscode": {
     "languageId": "cpp"
    }
   },
   "outputs": [],
   "source": [
    "Solution sol;\n",
    "\n",
    "return 0;"
   ]
  }
 ],
 "metadata": {
  "kernelspec": {
   "display_name": "C++17",
   "language": "C++17",
   "name": "xcpp17"
  },
  "language_info": {
   "codemirror_mode": "text/x-c++src",
   "file_extension": ".cpp",
   "mimetype": "text/x-c++src",
   "name": "c++",
   "version": "17"
  }
 },
 "nbformat": 4,
 "nbformat_minor": 5
}
