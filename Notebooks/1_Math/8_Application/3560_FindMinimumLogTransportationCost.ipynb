{
 "cells": [
  {
   "cell_type": "markdown",
   "id": "da93d6c9-8b34-46c4-83ca-ddcf2a2949cd",
   "metadata": {},
   "source": [
    "Solution:\n",
    "\n",
    "---\n",
    "\n",
    "---"
   ]
  },
  {
   "cell_type": "code",
   "execution_count": null,
   "id": "a65f5ca0",
   "metadata": {
    "vscode": {
     "languageId": "cpp"
    }
   },
   "outputs": [],
   "source": [
    "#include <iostream>\n",
    "#include <climits>\n",
    "using namespace std;\n",
    "\n",
    "/*\n",
    "    =============================\n",
    "    - Name Solution: Minimum Cutting Cost\n",
    "    - Idea: \n",
    "        1. For a single dimension x, try splitting it into two parts a + b = x such that both a, b <= k. \n",
    "           The cost of a cut is defined as a * b. We pick the split with the minimum cost.\n",
    "        2. For a rectangle n x m, check three cases:\n",
    "           - If both n and m <= k, no cut is needed.\n",
    "           - If only one dimension exceeds k, cut that dimension optimally using cutCost().\n",
    "           - If both dimensions exceed k, it's impossible (-1).\n",
    "    - Time: O(k) for each cutCost() call, so O(k) in worst-case scenario\n",
    "    - Space: O(1), no extra memory besides a few variables\n",
    "    =============================\n",
    "*/\n",
    "class Solution {\n",
    "public:\n",
    "    /*\n",
    "        =============================\n",
    "        - Name Solution: Helper Function cutCost\n",
    "        - Idea: Find minimum cost to split a single dimension x into two parts <= k.\n",
    "                Loop from max(1, x - k) to k, check all possible splits a + b = x, cost = a * b.\n",
    "                Return minimum cost, or -1 if impossible.\n",
    "        - Time: O(k)\n",
    "        - Space: O(1)\n",
    "        =============================\n",
    "    */\n",
    "    long long cutCost(int x, int k) {\n",
    "        long long res = LLONG_MAX;\n",
    "        for (int a = max(1, x - k); a <= k && a < x; a++) {\n",
    "            long long b = x - a;\n",
    "            if (b <= k) {\n",
    "                res = min(res, 1LL * a * b);\n",
    "            }\n",
    "        }\n",
    "        return res == LLONG_MAX ? -1 : res;\n",
    "    }\n",
    "\n",
    "    /*\n",
    "        =============================\n",
    "        - Name Solution: Main Function minCuttingCost\n",
    "        - Idea: Compute minimum cutting cost for rectangle n x m:\n",
    "                1. If both sides <= k, return 0.\n",
    "                2. If only one side > k, cut that side optimally with cutCost().\n",
    "                3. If both sides > k, return -1 (impossible).\n",
    "        - Time: O(k) in worst-case\n",
    "        - Space: O(1)\n",
    "        =============================\n",
    "    */\n",
    "    long long minCuttingCost(int n, int m, int k) {\n",
    "        if (n <= k && m <= k)\n",
    "            return 0;\n",
    "        if (n <= k && m > k)\n",
    "            return cutCost(m, k);\n",
    "        if (m <= k && n > k)\n",
    "            return cutCost(n, k);\n",
    "        return -1;\n",
    "    }\n",
    "};\n",
    "\n",
    "\n",
    "int main() {\n",
    "    Solution sol;\n",
    "\n",
    "    // Test cases\n",
    "    cout << sol.minCuttingCost(2, 2, 3) << endl;   // 0 (no cut needed)\n",
    "    cout << sol.minCuttingCost(2, 5, 3) << endl;   // min cost for cutting 5 into parts <= 3\n",
    "    cout << sol.minCuttingCost(7, 2, 3) << endl;   // min cost for cutting 7 into parts <= 3\n",
    "    cout << sol.minCuttingCost(5, 5, 3) << endl;   // -1 (both > k, impossible)\n",
    "    return 0;\n",
    "}\n"
   ]
  },
  {
   "cell_type": "markdown",
   "id": "cd5602a5-2575-4d2b-9713-8362076faea0",
   "metadata": {},
   "source": [
    "Test Case:"
   ]
  },
  {
   "cell_type": "code",
   "execution_count": null,
   "id": "9b9c38bb",
   "metadata": {
    "vscode": {
     "languageId": "cpp"
    }
   },
   "outputs": [],
   "source": [
    "Solution sol;\n",
    "\n",
    "return 0;"
   ]
  }
 ],
 "metadata": {
  "kernelspec": {
   "display_name": "C++17",
   "language": "C++17",
   "name": "xcpp17"
  },
  "language_info": {
   "codemirror_mode": "text/x-c++src",
   "file_extension": ".cpp",
   "mimetype": "text/x-c++src",
   "name": "c++",
   "version": "17"
  }
 },
 "nbformat": 4,
 "nbformat_minor": 5
}
