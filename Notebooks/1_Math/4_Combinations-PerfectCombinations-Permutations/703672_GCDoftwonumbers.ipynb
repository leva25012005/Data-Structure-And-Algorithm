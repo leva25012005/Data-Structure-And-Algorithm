{
 "cells": [
  {
   "cell_type": "markdown",
   "id": "da93d6c9-8b34-46c4-83ca-ddcf2a2949cd",
   "metadata": {},
   "source": [
    "Solution:\n",
    "\n",
    "---\n",
    "\n",
    "---"
   ]
  },
  {
   "cell_type": "code",
   "execution_count": null,
   "id": "a65f5ca0",
   "metadata": {
    "vscode": {
     "languageId": "cpp"
    }
   },
   "outputs": [],
   "source": [
    "#include<iostream>\n",
    "#include<vector>\n",
    "#include<algorithm> // for std::gcd (C++17 and above)\n",
    "using namespace std;\n",
    "\n",
    "class Solution {\n",
    "public:\n",
    "    /*\n",
    "    =============================\n",
    "    - Name Solution: Brute Force Method\n",
    "    - Idea: Start from the minimum of a and b, check each number downwards to see if it divides both a and b. \n",
    "            The first number that does is the GCD.\n",
    "    - Time: O(min(a, b)), need to check up to min(a, b) numbers\n",
    "    - Space: O(1), constant extra space\n",
    "    =============================\n",
    "    */\n",
    "    int gcdBruteForce(int a, int b) {\n",
    "        int res = min(a, b);\n",
    "        while (res > 0) {\n",
    "            if (a % res == 0 && b % res == 0)\n",
    "                break;\n",
    "            res--;\n",
    "        }\n",
    "        return res;\n",
    "    }\n",
    "\n",
    "    /*\n",
    "    =============================\n",
    "    - Name Solution: Euclidean Algorithm (Iterative)\n",
    "    - Idea: Replace (a, b) with (b, a % b) repeatedly until b becomes 0. a at that point is GCD.\n",
    "    - Time: O(log(min(a, b))), very efficient compared to brute force\n",
    "    - Space: O(1), no recursion or extra storage\n",
    "    =============================\n",
    "    */\n",
    "    int gcdEuclideanLoop(int a, int b) {\n",
    "        while (b != 0) {\n",
    "            int temp = b;\n",
    "            b = a % b;\n",
    "            a = temp;\n",
    "        }\n",
    "        return a;\n",
    "    }\n",
    "\n",
    "    /*\n",
    "    =============================\n",
    "    - Name Solution: Subtraction Method\n",
    "    - Idea: Repeatedly subtract the smaller number from the larger until they are equal. The result is GCD.\n",
    "    - Time: O(max(a, b)), less efficient for large numbers\n",
    "    - Space: O(1), no extra memory needed\n",
    "    =============================\n",
    "    */\n",
    "    int gcdSubtraction(int a, int b) {\n",
    "        while (a != b) {\n",
    "            if (a > b)\n",
    "                a -= b;\n",
    "            else\n",
    "                b -= a;\n",
    "        }\n",
    "        return a;\n",
    "    }\n",
    "\n",
    "    /*\n",
    "    =============================\n",
    "    - Name Solution: Euclidean Algorithm (Recursive)\n",
    "    - Idea: Recursively call gcd(b, a % b) until b is 0. The recursion unwinds giving the GCD.\n",
    "    - Time: O(log(min(a, b))), efficient\n",
    "    - Space: O(log(min(a, b))), recursion stack space\n",
    "    =============================\n",
    "    */\n",
    "    int gcdRecursion(int a, int b) {\n",
    "        return (b == 0) ? a : gcdRecursion(b, a % b);\n",
    "    }\n",
    "\n",
    "    /*\n",
    "    =============================\n",
    "    - Name Solution: Built-in Function\n",
    "    - Idea: Use C++17 std::gcd function from <algorithm> to compute GCD directly.\n",
    "    - Time: O(log(min(a, b))), internally uses Euclidean algorithm\n",
    "    - Space: O(1), no extra memory\n",
    "    =============================\n",
    "    */\n",
    "    int gcdBuiltin(int a, int b) {\n",
    "        return std::__gcd(a, b); \n",
    "    }\n",
    "};\n",
    "\n",
    "int main()\n",
    "{\n",
    "    Solution sol;\n",
    "\n",
    "    // Test cases (pairs of numbers)\n",
    "    vector<pair<int, int>> testCases = {\n",
    "        {48, 18}, {101, 103}, {56, 98}, {270, 192}\n",
    "    };\n",
    "\n",
    "    for (auto &tc : testCases) {\n",
    "        int a = tc.first, b = tc.second;\n",
    "        cout << \"Test case: a = \" << a << \", b = \" << b << endl;\n",
    "        cout << \"Brute Force GCD: \" << sol.gcdBruteForce(a, b) << endl;\n",
    "        cout << \"Euclidean Loop GCD: \" << sol.gcdEuclideanLoop(a, b) << endl;\n",
    "        cout << \"Subtraction GCD: \" << sol.gcdSubtraction(a, b) << endl;\n",
    "        cout << \"Recursive GCD: \" << sol.gcdRecursion(a, b) << endl;\n",
    "        cout << \"Built-in GCD: \" << sol.gcdBuiltin(a, b) << endl;\n",
    "        cout << \"-------------------------\" << endl;\n",
    "    }\n",
    "\n",
    "    return 0;\n",
    "}\n"
   ]
  },
  {
   "cell_type": "markdown",
   "id": "cd5602a5-2575-4d2b-9713-8362076faea0",
   "metadata": {},
   "source": [
    "Test Case:"
   ]
  },
  {
   "cell_type": "code",
   "execution_count": null,
   "id": "9b9c38bb",
   "metadata": {
    "vscode": {
     "languageId": "cpp"
    }
   },
   "outputs": [],
   "source": [
    "Solution sol;\n",
    "\n",
    "return 0;"
   ]
  }
 ],
 "metadata": {
  "kernelspec": {
   "display_name": "C++17",
   "language": "C++17",
   "name": "xcpp17"
  },
  "language_info": {
   "codemirror_mode": "text/x-c++src",
   "file_extension": ".cpp",
   "mimetype": "text/x-c++src",
   "name": "c++",
   "version": "17"
  }
 },
 "nbformat": 4,
 "nbformat_minor": 5
}
