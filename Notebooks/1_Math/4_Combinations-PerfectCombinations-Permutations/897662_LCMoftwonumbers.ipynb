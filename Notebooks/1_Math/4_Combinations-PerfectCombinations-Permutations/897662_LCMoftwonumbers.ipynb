{
 "cells": [
  {
   "cell_type": "markdown",
   "id": "da93d6c9-8b34-46c4-83ca-ddcf2a2949cd",
   "metadata": {},
   "source": [
    "Solution:\n",
    "\n",
    "---\n",
    "\n",
    "---"
   ]
  },
  {
   "cell_type": "code",
   "execution_count": null,
   "id": "a65f5ca0",
   "metadata": {
    "vscode": {
     "languageId": "cpp"
    }
   },
   "outputs": [],
   "source": [
    "#include<iostream>\n",
    "#include<numeric> // for std::gcd and std::lcm\n",
    "#include<vector>\n",
    "#include<utility>\n",
    "using namespace std;\n",
    "\n",
    "class Solution {\n",
    "public:\n",
    "    /*\n",
    "    =============================\n",
    "    - Name Solution: Using Loop (Brute Force)\n",
    "    - Idea: Start from the larger number and keep checking multiples of it until we find one divisible by the smaller number.\n",
    "            This finds the LCM by brute force without any advanced formula.\n",
    "    - Time: O(a * b), as we might need to check up to a*b\n",
    "    - Space: O(1), no extra memory used\n",
    "    =============================\n",
    "    */\n",
    "    int lcmLoop(int a, int b) {\n",
    "        int larger_num = max(a, b);\n",
    "        int smaller_num = min(a, b);\n",
    "        for (int i = larger_num; i <= larger_num * smaller_num; i += larger_num)\n",
    "            if (i % smaller_num == 0)\n",
    "                return i;\n",
    "        return -1; // should never reach here\n",
    "    }\n",
    "\n",
    "    /*\n",
    "    =============================\n",
    "    - Name Solution: Using GCD Formula\n",
    "    - Idea: LCM of two numbers can be computed efficiently using the formula lcm(a, b) = (a / gcd(a, b)) * b.\n",
    "            First find the GCD, then calculate LCM.\n",
    "    - Time: O(log(min(a, b))), because gcd calculation uses Euclidean algorithm\n",
    "    - Space: O(1), no extra memory used\n",
    "    =============================\n",
    "    */\n",
    "    int lcmGCD(int a, int b) {\n",
    "        return (a / std::gcd(a, b)) * b;\n",
    "    }\n",
    "\n",
    "    /*\n",
    "    =============================\n",
    "    - Name Solution: Using Built-in std::lcm\n",
    "    - Idea: Use the C++17 standard library function std::lcm which internally uses efficient algorithms to compute LCM.\n",
    "    - Time: O(log(min(a, b))), similar to GCD-based method\n",
    "    - Space: O(1), no extra memory used\n",
    "    =============================\n",
    "    */\n",
    "    int lcmBuiltIn(int a, int b) {\n",
    "        return std::lcm(a, b);\n",
    "    }\n",
    "};\n",
    "\n",
    "int main()\n",
    "{\n",
    "    Solution sol;\n",
    "\n",
    "    // Test cases: pairs of numbers\n",
    "    vector<pair<int,int>> testCases = {{4, 6}, {10, 15}, {21, 6}, {100, 250}};\n",
    "\n",
    "    for (auto &tc : testCases) {\n",
    "        int a = tc.first, b = tc.second;\n",
    "        cout << \"Test case: a = \" << a << \", b = \" << b << endl;\n",
    "        cout << \"LCM using Loop: \" << sol.lcmLoop(a, b) << endl;\n",
    "        cout << \"LCM using GCD: \" << sol.lcmGCD(a, b) << endl;\n",
    "        cout << \"LCM using Built-in: \" << sol.lcmBuiltIn(a, b) << endl;\n",
    "        cout << \"-------------------------\" << endl;\n",
    "    }\n",
    "\n",
    "    return 0;\n",
    "}\n"
   ]
  },
  {
   "cell_type": "markdown",
   "id": "cd5602a5-2575-4d2b-9713-8362076faea0",
   "metadata": {},
   "source": [
    "Test Case:"
   ]
  },
  {
   "cell_type": "code",
   "execution_count": null,
   "id": "9b9c38bb",
   "metadata": {
    "vscode": {
     "languageId": "cpp"
    }
   },
   "outputs": [],
   "source": [
    "Solution sol;\n",
    "\n",
    "return 0;"
   ]
  }
 ],
 "metadata": {
  "kernelspec": {
   "display_name": "C++17",
   "language": "C++17",
   "name": "xcpp17"
  },
  "language_info": {
   "codemirror_mode": "text/x-c++src",
   "file_extension": ".cpp",
   "mimetype": "text/x-c++src",
   "name": "c++",
   "version": "17"
  }
 },
 "nbformat": 4,
 "nbformat_minor": 5
}
