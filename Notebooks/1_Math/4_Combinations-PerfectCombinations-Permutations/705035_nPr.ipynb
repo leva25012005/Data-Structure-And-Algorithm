{
 "cells": [
  {
   "cell_type": "markdown",
   "id": "da93d6c9-8b34-46c4-83ca-ddcf2a2949cd",
   "metadata": {},
   "source": [
    "Solution:\n",
    "\n",
    "---\n",
    "\n",
    "---"
   ]
  },
  {
   "cell_type": "code",
   "execution_count": null,
   "id": "a65f5ca0",
   "metadata": {
    "vscode": {
     "languageId": "cpp"
    }
   },
   "outputs": [],
   "source": [
    "#include<iostream>\n",
    "#include<vector>\n",
    "using namespace std;\n",
    "\n",
    "class Solution {\n",
    "public:\n",
    "    /*\n",
    "    =============================\n",
    "    - Name Solution: Loop Method\n",
    "    - Idea: Compute nPr (permutation) directly by multiplying n * (n-1) * ... * (n-r+1) in a loop. \n",
    "            Avoids computing full factorials, slightly more efficient for small r.\n",
    "    - Time: O(r), loop runs r times\n",
    "    - Space: O(1), only one variable used for result\n",
    "    =============================\n",
    "    */\n",
    "    long long nPrLoop(int n, int r) {\n",
    "        long long result = 1;\n",
    "        for (int i = 0; i < r; i++) {\n",
    "            result *= (n - i);\n",
    "        }\n",
    "        return result;\n",
    "    }\n",
    "\n",
    "    /*\n",
    "    =============================\n",
    "    - Name Solution: Factorial Helper\n",
    "    - Idea: Computes factorial of x by multiplying all integers from 2 to x. \n",
    "            Used as a helper for formula-based permutation calculation.\n",
    "    - Time: O(x), loop runs x-1 times\n",
    "    - Space: O(1), only one variable used\n",
    "    =============================\n",
    "    */\n",
    "    long long factorial(int x) {\n",
    "        long long res = 1;\n",
    "        for (int i = 2; i <= x; i++) res *= i;\n",
    "        return res;\n",
    "    }\n",
    "\n",
    "    /*\n",
    "    =============================\n",
    "    - Name Solution: Formula Method\n",
    "    - Idea: Compute nPr using the formula nPr = n! / (n-r)! by calling the factorial helper. \n",
    "            Cleaner and mathematically straightforward, but may be slower for large n due to full factorial computation.\n",
    "    - Time: O(n), factorials take O(n) and O(n-r)\n",
    "    - Space: O(1), only one variable used for result\n",
    "    =============================\n",
    "    */\n",
    "    long long nPrFormula(int n, int r) {\n",
    "        return factorial(n) / factorial(n - r);\n",
    "    }\n",
    "};\n",
    "\n",
    "int main()\n",
    "{\n",
    "    Solution sol;\n",
    "\n",
    "    // Test cases: (n, r)\n",
    "    vector<pair<int,int>> testCases = {\n",
    "        {5, 2},   // Expected: 20\n",
    "        {10, 3},  // Expected: 720\n",
    "        {6, 6},   // Expected: 720\n",
    "        {7, 0}    // Expected: 1\n",
    "    };\n",
    "\n",
    "    for (auto &tc : testCases) {\n",
    "        int n = tc.first, r = tc.second;\n",
    "        cout << \"Test case: n = \" << n << \", r = \" << r << endl;\n",
    "        cout << \"nPr using Loop: \" << sol.nPrLoop(n, r) << endl;\n",
    "        cout << \"nPr using Formula: \" << sol.nPrFormula(n, r) << endl;\n",
    "        cout << \"-------------------------\" << endl;\n",
    "    }\n",
    "\n",
    "    return 0;\n",
    "}\n"
   ]
  },
  {
   "cell_type": "markdown",
   "id": "cd5602a5-2575-4d2b-9713-8362076faea0",
   "metadata": {},
   "source": [
    "Test Case:"
   ]
  },
  {
   "cell_type": "code",
   "execution_count": null,
   "id": "9b9c38bb",
   "metadata": {
    "vscode": {
     "languageId": "cpp"
    }
   },
   "outputs": [],
   "source": [
    "Solution sol;\n",
    "\n",
    "return 0;"
   ]
  }
 ],
 "metadata": {
  "kernelspec": {
   "display_name": "C++17",
   "language": "C++17",
   "name": "xcpp17"
  },
  "language_info": {
   "codemirror_mode": "text/x-c++src",
   "file_extension": ".cpp",
   "mimetype": "text/x-c++src",
   "name": "c++",
   "version": "17"
  }
 },
 "nbformat": 4,
 "nbformat_minor": 5
}
