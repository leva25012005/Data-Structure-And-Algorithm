{
 "cells": [
  {
   "cell_type": "markdown",
   "id": "da93d6c9-8b34-46c4-83ca-ddcf2a2949cd",
   "metadata": {},
   "source": [
    "Solution:\n",
    "\n",
    "---\n",
    "\n",
    "---"
   ]
  },
  {
   "cell_type": "code",
   "execution_count": null,
   "id": "a65f5ca0",
   "metadata": {
    "vscode": {
     "languageId": "cpp"
    }
   },
   "outputs": [],
   "source": [
    "#include <iostream>\n",
    "#include <vector>\n",
    "using namespace std;\n",
    "\n",
    "class Solution {\n",
    "public:\n",
    "    /*\n",
    "    =============================\n",
    "    - Name Solution: Direct nCr Formula\n",
    "    - Idea: Calculate the binomial coefficient nCr iteratively using the property nCr = nC(n-r) to reduce computation.\n",
    "    - Time: O(r) where r = min(r, n-r)\n",
    "    - Space: O(1)\n",
    "    =============================\n",
    "    */\n",
    "    long long nCr(int n, int r) {\n",
    "        if (r > n) return 0;\n",
    "        if (r > n - r) r = n - r; // use symmetry property nCr = nC(n-r)\n",
    "        long long res = 1;\n",
    "        for (int i = 0; i < r; i++) {\n",
    "            res *= (n - i);\n",
    "            res /= (i + 1);\n",
    "        }\n",
    "        return res;\n",
    "    }\n",
    "\n",
    "    /*\n",
    "    =============================\n",
    "    - Name Solution: Catalan Number Using nCr Formula\n",
    "    - Idea: Compute the nth Catalan number using the formula Cn = (1 / (n+1)) * (2n choose n)\n",
    "    - Time: O(n) due to nCr calculation\n",
    "    - Space: O(1)\n",
    "    =============================\n",
    "    */\n",
    "    int catalanUsingNCR(int n) {\n",
    "        long long val = nCr(2 * n, n);\n",
    "        return (int)(val / (n + 1));\n",
    "    }\n",
    "\n",
    "    /*\n",
    "    =============================\n",
    "    - Name Solution: Catalan Number Using Dynamic Programming\n",
    "    - Idea: Use DP recurrence Cn = Σ (Ci * Cn-i-1) for i = 0..n-1 to build up the Catalan numbers from smaller values\n",
    "    - Time: O(n^2)\n",
    "    - Space: O(n)\n",
    "    =============================\n",
    "    */\n",
    "    int catalanUsingDP(int n) {\n",
    "        vector<long long> dp(n + 1, 0);\n",
    "        dp[0] = 1;\n",
    "        dp[1] = 1;\n",
    "\n",
    "        for (int i = 2; i <= n; i++) {\n",
    "            for (int j = 0; j < i; j++) {\n",
    "                dp[i] += dp[j] * dp[i - j - 1];\n",
    "            }\n",
    "        }\n",
    "        return (int)dp[n];\n",
    "    }\n",
    "\n",
    "    /*\n",
    "    =============================\n",
    "    - Name Solution: Catalan Number Using Multiplicative Formula\n",
    "    - Idea: Compute Cn = (2n)! / (n! * (n+1)!) iteratively as res = ∏ (n+k)/k for k = 2..n to avoid large factorials\n",
    "    - Time: O(n)\n",
    "    - Space: O(1)\n",
    "    =============================\n",
    "    */\n",
    "    int catalanUsingMultiplicative(int n) {\n",
    "        long long res = 1;\n",
    "        for (int k = 2; k <= n; k++) {\n",
    "            res = res * (n + k) / k;\n",
    "        }\n",
    "        return (int)res;\n",
    "    }\n",
    "};\n",
    "\n",
    "int main() {\n",
    "    Solution sol;\n",
    "\n",
    "    // Test cases\n",
    "    vector<int> testCases = {0, 1, 2, 3, 4, 5, 10};\n",
    "\n",
    "    for (int n : testCases) {\n",
    "        cout << \"n = \" << n << endl;\n",
    "        cout << \"Catalan using NCR: \" << sol.catalanUsingNCR(n) << endl;\n",
    "        cout << \"Catalan using DP: \" << sol.catalanUsingDP(n) << endl;\n",
    "        cout << \"Catalan using Multiplicative formula: \" << sol.catalanUsingMultiplicative(n) << endl;\n",
    "        cout << \"-----------------------------\" << endl;\n",
    "    }\n",
    "\n",
    "    return 0;\n",
    "}\n"
   ]
  },
  {
   "cell_type": "markdown",
   "id": "cd5602a5-2575-4d2b-9713-8362076faea0",
   "metadata": {},
   "source": [
    "Test Case:"
   ]
  },
  {
   "cell_type": "code",
   "execution_count": null,
   "id": "9b9c38bb",
   "metadata": {
    "vscode": {
     "languageId": "cpp"
    }
   },
   "outputs": [],
   "source": [
    "Solution sol;\n",
    "\n",
    "return 0;"
   ]
  }
 ],
 "metadata": {
  "kernelspec": {
   "display_name": "C++17",
   "language": "C++17",
   "name": "xcpp17"
  },
  "language_info": {
   "codemirror_mode": "text/x-c++src",
   "file_extension": ".cpp",
   "mimetype": "text/x-c++src",
   "name": "c++",
   "version": "17"
  }
 },
 "nbformat": 4,
 "nbformat_minor": 5
}
