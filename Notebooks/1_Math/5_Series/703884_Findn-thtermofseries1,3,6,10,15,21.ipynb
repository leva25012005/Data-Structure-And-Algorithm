{
 "cells": [
  {
   "cell_type": "markdown",
   "id": "da93d6c9-8b34-46c4-83ca-ddcf2a2949cd",
   "metadata": {},
   "source": [
    "Solution:\n",
    "\n",
    "---\n",
    "\n",
    "---"
   ]
  },
  {
   "cell_type": "code",
   "execution_count": null,
   "id": "a65f5ca0",
   "metadata": {
    "vscode": {
     "languageId": "cpp"
    }
   },
   "outputs": [],
   "source": [
    "#include<iostream>\n",
    "using namespace std;\n",
    "\n",
    "class Solution {\n",
    "public:\n",
    "    /*\n",
    "    =============================\n",
    "    - Name Solution: Using Loop\n",
    "    - Idea: Calculate the nth triangular number by iterating from 1 to n and summing all numbers. \n",
    "            This is straightforward but requires O(n) operations.\n",
    "    - Time: O(N), because it sums all numbers from 1 to n\n",
    "    - Space: O(1), only a single variable is used\n",
    "    =============================\n",
    "    */\n",
    "    int findNthTermLoop(int n) {\n",
    "        int res = 0;\n",
    "        for (int i = 1; i <= n; i++)\n",
    "            res += i;\n",
    "        return res;\n",
    "    }\n",
    "\n",
    "    /*\n",
    "    =============================\n",
    "    - Name Solution: Using Formula\n",
    "    - Idea: Use the arithmetic series formula sum = n * (n + 1) / 2 to compute the nth triangular number directly. \n",
    "            This avoids loops and calculates in constant time.\n",
    "    - Time: O(1), only a single arithmetic calculation\n",
    "    - Space: O(1), no extra space needed\n",
    "    =============================\n",
    "    */\n",
    "    int findNthTermFormula(int n) {\n",
    "        return n * (n + 1) / 2; \n",
    "    }\n",
    "};\n",
    "\n",
    "int main()\n",
    "{\n",
    "    Solution sol;\n",
    "\n",
    "    // Test cases\n",
    "    int testCases[] = {1, 5, 10, 100};\n",
    "    int size = sizeof(testCases) / sizeof(testCases[0]);\n",
    "\n",
    "    for (int i = 0; i < size; i++) {\n",
    "        int n = testCases[i];\n",
    "        cout << \"Test case n = \" << n << endl;\n",
    "        cout << \"Nth term using Loop: \" << sol.findNthTermLoop(n) << endl;\n",
    "        cout << \"Nth term using Formula: \" << sol.findNthTermFormula(n) << endl;\n",
    "        cout << \"-------------------------\" << endl;\n",
    "    }\n",
    "\n",
    "    return 0;\n",
    "}\n"
   ]
  },
  {
   "cell_type": "markdown",
   "id": "cd5602a5-2575-4d2b-9713-8362076faea0",
   "metadata": {},
   "source": [
    "Test Case:"
   ]
  },
  {
   "cell_type": "code",
   "execution_count": null,
   "id": "9b9c38bb",
   "metadata": {
    "vscode": {
     "languageId": "cpp"
    }
   },
   "outputs": [],
   "source": [
    "Solution sol;\n",
    "\n",
    "return 0;"
   ]
  }
 ],
 "metadata": {
  "kernelspec": {
   "display_name": "C++17",
   "language": "C++17",
   "name": "xcpp17"
  },
  "language_info": {
   "codemirror_mode": "text/x-c++src",
   "file_extension": ".cpp",
   "mimetype": "text/x-c++src",
   "name": "c++",
   "version": "17"
  }
 },
 "nbformat": 4,
 "nbformat_minor": 5
}
