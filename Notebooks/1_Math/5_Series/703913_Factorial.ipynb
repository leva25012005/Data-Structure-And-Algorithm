{
 "cells": [
  {
   "cell_type": "markdown",
   "id": "da93d6c9-8b34-46c4-83ca-ddcf2a2949cd",
   "metadata": {},
   "source": [
    "Solution:\n",
    "\n",
    "---\n",
    "\n",
    "---"
   ]
  },
  {
   "cell_type": "code",
   "execution_count": null,
   "id": "a65f5ca0",
   "metadata": {
    "vscode": {
     "languageId": "cpp"
    }
   },
   "outputs": [],
   "source": [
    "#include<iostream>\n",
    "using namespace std;\n",
    "\n",
    "class Solution {\n",
    "public:\n",
    "    /*\n",
    "    =============================\n",
    "    - Name Solution: Iterative Method (Using Loop)\n",
    "    - Idea: Compute factorial by multiplying numbers from 1 to n step by step in a loop.\n",
    "    - Time: O(N), as we iterate through all numbers from 1 to n\n",
    "    - Space: O(1), only a single variable is used to store the result\n",
    "    =============================\n",
    "    */\n",
    "    int factorialLoop(int n) {\n",
    "        int res = 1;\n",
    "        for (int i = 2; i <= n; i++) {\n",
    "            res = res * i;\n",
    "        }\n",
    "        return res;\n",
    "    }\n",
    "\n",
    "    /*\n",
    "    =============================\n",
    "    - Name Solution: Recursive Method\n",
    "    - Idea: Compute factorial using the relation n! = n * (n-1)!, \n",
    "            with base case factorial(0) = 1. Recursion handles the multiplication automatically.\n",
    "    - Time: O(N), each number from n down to 1 is multiplied\n",
    "    - Space: O(N), due to call stack of recursive function calls\n",
    "    =============================\n",
    "    */\n",
    "    int factorialRecursive(int n) {\n",
    "        return (n == 0 || n == 1) ? 1 : n * factorialRecursive(n - 1);\n",
    "    }\n",
    "};\n",
    "\n",
    "int main() {\n",
    "    Solution sol;\n",
    "\n",
    "    // Test cases\n",
    "    int testCases[] = {0, 1, 5, 7, 10};\n",
    "    int size = sizeof(testCases) / sizeof(testCases[0]);\n",
    "\n",
    "    for (int i = 0; i < size; i++) {\n",
    "        int n = testCases[i];\n",
    "        cout << \"Test case n = \" << n << endl;\n",
    "        cout << \"Factorial using Loop: \" << sol.factorialLoop(n) << endl;\n",
    "        cout << \"Factorial using Recursion: \" << sol.factorialRecursive(n) << endl;\n",
    "        cout << \"-------------------------\" << endl;\n",
    "    }\n",
    "\n",
    "    return 0;\n",
    "}\n"
   ]
  },
  {
   "cell_type": "markdown",
   "id": "cd5602a5-2575-4d2b-9713-8362076faea0",
   "metadata": {},
   "source": [
    "Test Case:"
   ]
  },
  {
   "cell_type": "code",
   "execution_count": null,
   "id": "9b9c38bb",
   "metadata": {
    "vscode": {
     "languageId": "cpp"
    }
   },
   "outputs": [],
   "source": [
    "Solution sol;\n",
    "\n",
    "return 0;"
   ]
  }
 ],
 "metadata": {
  "kernelspec": {
   "display_name": "C++17",
   "language": "C++17",
   "name": "xcpp17"
  },
  "language_info": {
   "codemirror_mode": "text/x-c++src",
   "file_extension": ".cpp",
   "mimetype": "text/x-c++src",
   "name": "c++",
   "version": "17"
  }
 },
 "nbformat": 4,
 "nbformat_minor": 5
}
