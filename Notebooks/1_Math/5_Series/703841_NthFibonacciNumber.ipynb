{
 "cells": [
  {
   "cell_type": "markdown",
   "id": "da93d6c9-8b34-46c4-83ca-ddcf2a2949cd",
   "metadata": {},
   "source": [
    "Solution:\n",
    "\n",
    "---\n",
    "\n",
    "---"
   ]
  },
  {
   "cell_type": "code",
   "execution_count": null,
   "id": "a65f5ca0",
   "metadata": {
    "vscode": {
     "languageId": "cpp"
    }
   },
   "outputs": [],
   "source": [
    "#include<iostream>\n",
    "using namespace std;\n",
    "\n",
    "class Solution {\n",
    "public:\n",
    "    /*\n",
    "    =============================\n",
    "    - Name Solution: Recursive Method\n",
    "    - Idea: Compute the nth Fibonacci number using the recursive definition:\n",
    "            F(n) = F(n-1) + F(n-2). Each call breaks the problem into smaller subproblems.\n",
    "    - Time: O(2^N), exponential due to repeated subproblems\n",
    "    - Space: O(N), due to recursion stack\n",
    "    =============================\n",
    "    */\n",
    "    int nthFibonacciRecursive(int n) {\n",
    "        if (n <= 1)\n",
    "            return n;\n",
    "        return nthFibonacciRecursive(n - 1) + nthFibonacciRecursive(n - 2);\n",
    "    }\n",
    "\n",
    "    /*\n",
    "    =============================\n",
    "    - Name Solution: Iterative (Dynamic Programming) Method\n",
    "    - Idea: Compute Fibonacci iteratively by storing only the last two computed values.\n",
    "            This avoids recursion and redundant calculations.\n",
    "    - Time: O(N), each Fibonacci number up to n is computed once\n",
    "    - Space: O(1), only constant extra space is used\n",
    "    =============================\n",
    "    */\n",
    "    int nthFibonacciIterative(int n) {\n",
    "        if (n == 0)\n",
    "            return 0; // F(0)\n",
    "        if (n == 1)\n",
    "            return 1; // F(1)\n",
    "\n",
    "        int a = 0; // F(0)\n",
    "        int b = 1; // F(1)\n",
    "        int c;     // To store F(n)\n",
    "\n",
    "        for (int i = 2; i <= n; i++) {\n",
    "            c = a + b; // Compute F(i)\n",
    "            a = b;     // Update a to F(i-1)\n",
    "            b = c;     // Update b to F(i)\n",
    "        }\n",
    "        return b; // Return F(n)\n",
    "    }\n",
    "};\n",
    "\n",
    "int main()\n",
    "{\n",
    "    Solution sol;\n",
    "\n",
    "    // Test cases\n",
    "    int testCases[] = {0, 1, 2, 5, 10};\n",
    "    int size = sizeof(testCases) / sizeof(testCases[0]);\n",
    "\n",
    "    for (int i = 0; i < size; i++) {\n",
    "        int n = testCases[i];\n",
    "        cout << \"Test case n = \" << n << endl;\n",
    "        cout << \"Fibonacci (Recursive): \" << sol.nthFibonacciRecursive(n) << endl;\n",
    "        cout << \"Fibonacci (Iterative): \" << sol.nthFibonacciIterative(n) << endl;\n",
    "        cout << \"-------------------------\" << endl;\n",
    "    }\n",
    "\n",
    "    return 0;\n",
    "}\n"
   ]
  },
  {
   "cell_type": "markdown",
   "id": "cd5602a5-2575-4d2b-9713-8362076faea0",
   "metadata": {},
   "source": [
    "Test Case:"
   ]
  },
  {
   "cell_type": "code",
   "execution_count": null,
   "id": "9b9c38bb",
   "metadata": {
    "vscode": {
     "languageId": "cpp"
    }
   },
   "outputs": [],
   "source": [
    "Solution sol;\n",
    "\n",
    "return 0;"
   ]
  }
 ],
 "metadata": {
  "kernelspec": {
   "display_name": "C++17",
   "language": "C++17",
   "name": "xcpp17"
  },
  "language_info": {
   "codemirror_mode": "text/x-c++src",
   "file_extension": ".cpp",
   "mimetype": "text/x-c++src",
   "name": "c++",
   "version": "17"
  }
 },
 "nbformat": 4,
 "nbformat_minor": 5
}
