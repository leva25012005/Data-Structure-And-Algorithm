{
 "cells": [
  {
   "cell_type": "markdown",
   "id": "da93d6c9-8b34-46c4-83ca-ddcf2a2949cd",
   "metadata": {},
   "source": [
    "Solution:\n",
    "\n",
    "---\n",
    "\n",
    "---"
   ]
  },
  {
   "cell_type": "code",
   "execution_count": null,
   "id": "a65f5ca0",
   "metadata": {
    "vscode": {
     "languageId": "cpp"
    }
   },
   "outputs": [],
   "source": [
    "#include<iostream>\n",
    "using namespace std;\n",
    "\n",
    "class Solution {\n",
    "public:\n",
    "    /*\n",
    "    =============================\n",
    "    - Name Solution: Using Loop\n",
    "    - Idea: Compute the nth term of an arithmetic progression (AP) by iteratively adding the common difference.\n",
    "            First, find the common difference d = a2 - a1, then add d repeatedly (n-1 times) to a1.\n",
    "    - Time: O(N), because we loop n-1 times\n",
    "    - Space: O(1), only a few variables used\n",
    "    =============================\n",
    "    */\n",
    "    int nthTermOfAP_Loop(int a1, int a2, int n) {\n",
    "        int nthTerm = a1;\n",
    "        int d = a2 - a1; // common difference\n",
    "        for (int i = 1; i < n; i++) {\n",
    "            nthTerm += d;\n",
    "        }\n",
    "        return nthTerm;\n",
    "    }\n",
    "\n",
    "    /*\n",
    "    =============================\n",
    "    - Name Solution: Using Formula\n",
    "    - Idea: Directly compute the nth term of an arithmetic progression using the formula a_n = a1 + (n - 1) * d,\n",
    "            where d = a2 - a1 is the common difference. No loop required.\n",
    "    - Time: O(1), single arithmetic operation\n",
    "    - Space: O(1), only a few variables used\n",
    "    =============================\n",
    "    */\n",
    "    int nthTermOfAP_Formula(int a1, int a2, int n) {\n",
    "        int d = a2 - a1; // common difference\n",
    "        return a1 + (n - 1) * d;\n",
    "    }\n",
    "};\n",
    "\n",
    "int main()\n",
    "{\n",
    "    Solution sol;\n",
    "\n",
    "    // Test cases\n",
    "    int a1 = 2, a2 = 5;\n",
    "    int testCases[] = {1, 2, 5, 10};\n",
    "    int size = sizeof(testCases) / sizeof(testCases[0]);\n",
    "\n",
    "    for (int i = 0; i < size; i++) {\n",
    "        int n = testCases[i];\n",
    "        cout << \"Test case n = \" << n << endl;\n",
    "        cout << \"nth term using Loop: \" << sol.nthTermOfAP_Loop(a1, a2, n) << endl;\n",
    "        cout << \"nth term using Formula: \" << sol.nthTermOfAP_Formula(a1, a2, n) << endl;\n",
    "        cout << \"-------------------------\" << endl;\n",
    "    }\n",
    "\n",
    "    return 0;\n",
    "}\n"
   ]
  },
  {
   "cell_type": "markdown",
   "id": "cd5602a5-2575-4d2b-9713-8362076faea0",
   "metadata": {},
   "source": [
    "Test Case:"
   ]
  },
  {
   "cell_type": "code",
   "execution_count": null,
   "id": "9b9c38bb",
   "metadata": {
    "vscode": {
     "languageId": "cpp"
    }
   },
   "outputs": [],
   "source": [
    "Solution sol;\n",
    "\n",
    "return 0;"
   ]
  }
 ],
 "metadata": {
  "kernelspec": {
   "display_name": "C++17",
   "language": "C++17",
   "name": "xcpp17"
  },
  "language_info": {
   "codemirror_mode": "text/x-c++src",
   "file_extension": ".cpp",
   "mimetype": "text/x-c++src",
   "name": "c++",
   "version": "17"
  }
 },
 "nbformat": 4,
 "nbformat_minor": 5
}
