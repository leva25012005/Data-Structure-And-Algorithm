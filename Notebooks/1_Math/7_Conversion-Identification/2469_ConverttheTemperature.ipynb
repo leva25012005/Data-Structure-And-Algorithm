{
 "cells": [
  {
   "cell_type": "markdown",
   "id": "da93d6c9-8b34-46c4-83ca-ddcf2a2949cd",
   "metadata": {},
   "source": [
    "Solution:\n",
    "\n",
    "---\n",
    "\n",
    "---"
   ]
  },
  {
   "cell_type": "code",
   "execution_count": null,
   "id": "a65f5ca0",
   "metadata": {
    "vscode": {
     "languageId": "cpp"
    }
   },
   "outputs": [],
   "source": [
    "#include <iostream>\n",
    "#include <vector>\n",
    "using namespace std;\n",
    "\n",
    "class Solution {\n",
    "public:\n",
    "    /*\n",
    "    =============================\n",
    "    - Name Solution: Temperature Conversion\n",
    "    - Idea: Convert a given temperature in Celsius to both Kelvin and Fahrenheit using direct formulas:\n",
    "            Kelvin = Celsius + 273.15\n",
    "            Fahrenheit = Celsius * 1.8 + 32\n",
    "            Return both results in a vector.\n",
    "    - Time: O(1), constant time calculations\n",
    "    - Space: O(1), only a few variables used\n",
    "    =============================\n",
    "    */\n",
    "    vector<double> convertTemperature(double celsius) {\n",
    "        double kelvin = celsius + 273.15;\n",
    "        double fahrenheit = celsius * 1.80 + 32.00;\n",
    "        return {kelvin, fahrenheit};\n",
    "    }\n",
    "};\n",
    "\n",
    "int main() {\n",
    "    Solution sol;\n",
    "\n",
    "    // Test cases\n",
    "    vector<double> testCases = {-40.0, 0.0, 25.0, 100.0};\n",
    "\n",
    "    for (double celsius : testCases) {\n",
    "        cout << \"Celsius: \" << celsius << endl;\n",
    "        vector<double> result = sol.convertTemperature(celsius);\n",
    "        cout << \"Kelvin: \" << result[0] << endl;\n",
    "        cout << \"Fahrenheit: \" << result[1] << endl;\n",
    "        cout << \"-------------------------\" << endl;\n",
    "    }\n",
    "\n",
    "    return 0;\n",
    "}\n"
   ]
  },
  {
   "cell_type": "markdown",
   "id": "cd5602a5-2575-4d2b-9713-8362076faea0",
   "metadata": {},
   "source": [
    "Test Case:"
   ]
  },
  {
   "cell_type": "code",
   "execution_count": null,
   "id": "9b9c38bb",
   "metadata": {
    "vscode": {
     "languageId": "cpp"
    }
   },
   "outputs": [],
   "source": [
    "Solution sol;\n",
    "\n",
    "return 0;"
   ]
  }
 ],
 "metadata": {
  "kernelspec": {
   "display_name": "C++17",
   "language": "C++17",
   "name": "xcpp17"
  },
  "language_info": {
   "codemirror_mode": "text/x-c++src",
   "file_extension": ".cpp",
   "mimetype": "text/x-c++src",
   "name": "c++",
   "version": "17"
  }
 },
 "nbformat": 4,
 "nbformat_minor": 5
}
