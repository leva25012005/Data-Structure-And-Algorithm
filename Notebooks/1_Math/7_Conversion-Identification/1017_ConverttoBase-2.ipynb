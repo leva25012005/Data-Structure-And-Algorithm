{
 "cells": [
  {
   "cell_type": "markdown",
   "id": "da93d6c9-8b34-46c4-83ca-ddcf2a2949cd",
   "metadata": {},
   "source": [
    "Solution:\n",
    "\n",
    "---\n",
    "\n",
    "---"
   ]
  },
  {
   "cell_type": "code",
   "execution_count": null,
   "id": "a65f5ca0",
   "metadata": {
    "vscode": {
     "languageId": "cpp"
    }
   },
   "outputs": [],
   "source": [
    "#include<iostream>\n",
    "#include<string>\n",
    "#include<algorithm>\n",
    "#include<bitset>\n",
    "#include<cmath>\n",
    "using namespace std;\n",
    "\n",
    "class Solution {\n",
    "public:\n",
    "    /*\n",
    "    =============================\n",
    "    - Name Solution: Convert to Base -2\n",
    "    - Idea: Repeatedly divide the number n by -2, adjusting the remainder to be non-negative.\n",
    "            Append each remainder as a digit. Reverse the result at the end to get the base -2 representation.\n",
    "    - Time: O(log|n|), each step reduces n roughly by half\n",
    "    - Space: O(log|n|), store digits in a string\n",
    "    =============================\n",
    "    */\n",
    "    string baseNeg2(int n) {\n",
    "        if (n == 0) return \"0\";\n",
    "\n",
    "        string ans = \"\";\n",
    "        while (n != 0) {\n",
    "            int remainder = n % -2;\n",
    "            n /= -2;\n",
    "\n",
    "            if (remainder < 0) {\n",
    "                remainder += 2;\n",
    "                n += 1;\n",
    "            }\n",
    "\n",
    "            ans.push_back(remainder + '0');\n",
    "        }\n",
    "\n",
    "        reverse(ans.begin(), ans.end());\n",
    "        return ans;\n",
    "    }\n",
    "    \n",
    "    /*\n",
    "    =============================\n",
    "    - Name Solution: Convert to Binary (Base 2)\n",
    "    - Idea: Use a 64-bit bitset to represent n in binary. Remove leading zeros to get the minimal binary string.\n",
    "    - Time: O(log|n|), proportional to number of bits in n\n",
    "    - Space: O(log|n|), store bits in a string\n",
    "    =============================\n",
    "    */\n",
    "    string decToBinary(int n) {\n",
    "        if (n == 0) return \"0\";\n",
    "\n",
    "        string bin = bitset<64>(n).to_string();\n",
    "        size_t pos = bin.find('1');\n",
    "        return bin.substr(pos);\n",
    "    }\n",
    "};\n",
    "\n",
    "int main() {\n",
    "    Solution sol;\n",
    "\n",
    "    // Test cases\n",
    "    int testCases[] = {0, 2, 3, 4, 5, 7, 10};\n",
    "    int size = sizeof(testCases) / sizeof(testCases[0]);\n",
    "\n",
    "    for (int i = 0; i < size; i++) {\n",
    "        int n = testCases[i];\n",
    "        cout << \"Test case n = \" << n << endl;\n",
    "        cout << \"Binary (base 2): \" << sol.decToBinary(n) << endl;\n",
    "        cout << \"Base -2 representation: \" << sol.baseNeg2(n) << endl;\n",
    "        cout << \"-------------------------\" << endl;\n",
    "    }\n",
    "\n",
    "    return 0;\n",
    "}\n"
   ]
  },
  {
   "cell_type": "markdown",
   "id": "cd5602a5-2575-4d2b-9713-8362076faea0",
   "metadata": {},
   "source": [
    "Test Case:"
   ]
  },
  {
   "cell_type": "code",
   "execution_count": null,
   "id": "9b9c38bb",
   "metadata": {
    "vscode": {
     "languageId": "cpp"
    }
   },
   "outputs": [],
   "source": [
    "Solution sol;\n",
    "\n",
    "return 0;"
   ]
  }
 ],
 "metadata": {
  "kernelspec": {
   "display_name": "C++17",
   "language": "C++17",
   "name": "xcpp17"
  },
  "language_info": {
   "codemirror_mode": "text/x-c++src",
   "file_extension": ".cpp",
   "mimetype": "text/x-c++src",
   "name": "c++",
   "version": "17"
  }
 },
 "nbformat": 4,
 "nbformat_minor": 5
}
