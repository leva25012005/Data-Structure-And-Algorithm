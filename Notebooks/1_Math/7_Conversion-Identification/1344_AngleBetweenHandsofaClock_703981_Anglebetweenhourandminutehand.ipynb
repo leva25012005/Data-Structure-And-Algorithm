{
 "cells": [
  {
   "cell_type": "markdown",
   "id": "da93d6c9-8b34-46c4-83ca-ddcf2a2949cd",
   "metadata": {},
   "source": [
    "Solution:\n",
    "\n",
    "---\n",
    "\n",
    "---"
   ]
  },
  {
   "cell_type": "code",
   "execution_count": null,
   "id": "a65f5ca0",
   "metadata": {
    "vscode": {
     "languageId": "cpp"
    }
   },
   "outputs": [],
   "source": [
    "#include <iostream>\n",
    "#include <cmath>\n",
    "using namespace std;\n",
    "\n",
    "class Solution {\n",
    "public:\n",
    "    /*\n",
    "    =============================\n",
    "    - Name Solution: Using Direct Angle Formula\n",
    "    - Idea: \n",
    "        - Calculate the angles of hour and minute hands separately:\n",
    "            * Minute hand moves 6° per minute.\n",
    "            * Hour hand moves 30° per hour plus 0.5° per minute.\n",
    "        - Find the absolute difference between the two angles.\n",
    "        - Return the smaller of the two possible angles on the clock.\n",
    "    - Time: O(1), all calculations are constant-time arithmetic operations\n",
    "    - Space: O(1), no extra memory used\n",
    "    =============================\n",
    "    */\n",
    "    double angleClock(int hours, int minutes) {\n",
    "        double minute_angle = minutes * 6.0;\n",
    "        double hour_angle = (hours % 12) * 30.0 + minutes * 0.5;\n",
    "        double degree = fabs(hour_angle - minute_angle);\n",
    "        return min(degree, 360.0 - degree);\n",
    "    }\n",
    "};\n",
    "\n",
    "\n",
    "int main() {\n",
    "    Solution sol;\n",
    "\n",
    "    // Test cases\n",
    "    pair<int, int> testCases[] = {{3, 15}, {12, 0}, {9, 0}, {6, 30}, {1, 45}};\n",
    "    int size = sizeof(testCases) / sizeof(testCases[0]);\n",
    "\n",
    "    for (int i = 0; i < size; i++) {\n",
    "        int h = testCases[i].first;\n",
    "        int m = testCases[i].second;\n",
    "        cout << \"Test case: hours = \" << h << \", minutes = \" << m << endl;\n",
    "        cout << \"Angle: \" << sol.angleClock(h, m) << \" degrees\" << endl;\n",
    "        cout << \"-------------------------\" << endl;\n",
    "    }\n",
    "\n",
    "    return 0;\n",
    "}\n"
   ]
  },
  {
   "cell_type": "markdown",
   "id": "cd5602a5-2575-4d2b-9713-8362076faea0",
   "metadata": {},
   "source": [
    "Test Case:"
   ]
  },
  {
   "cell_type": "code",
   "execution_count": null,
   "id": "9b9c38bb",
   "metadata": {
    "vscode": {
     "languageId": "cpp"
    }
   },
   "outputs": [],
   "source": [
    "Solution sol;\n",
    "\n",
    "return 0;"
   ]
  }
 ],
 "metadata": {
  "kernelspec": {
   "display_name": "C++17",
   "language": "C++17",
   "name": "xcpp17"
  },
  "language_info": {
   "codemirror_mode": "text/x-c++src",
   "file_extension": ".cpp",
   "mimetype": "text/x-c++src",
   "name": "c++",
   "version": "17"
  }
 },
 "nbformat": 4,
 "nbformat_minor": 5
}
