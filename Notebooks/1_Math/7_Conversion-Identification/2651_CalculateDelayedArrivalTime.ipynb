{
 "cells": [
  {
   "cell_type": "markdown",
   "id": "da93d6c9-8b34-46c4-83ca-ddcf2a2949cd",
   "metadata": {},
   "source": [
    "Solution:\n",
    "\n",
    "---\n",
    "\n",
    "---"
   ]
  },
  {
   "cell_type": "code",
   "execution_count": null,
   "id": "a65f5ca0",
   "metadata": {
    "vscode": {
     "languageId": "cpp"
    }
   },
   "outputs": [],
   "source": [
    "#include<iostream>\n",
    "#include<vector>\n",
    "using namespace std;\n",
    "\n",
    "class Solution {\n",
    "public:\n",
    "    /*\n",
    "    =============================\n",
    "    - Name Solution: Using Modulo for 24-Hour Clock\n",
    "    - Idea: To calculate the arrival time after a delay on a 24-hour clock, add the arrival time and the delay, \n",
    "            then take modulo 24. This handles wrap-around automatically (e.g., 23 + 2 → 1).\n",
    "    - Time: O(1), single addition and modulo operation\n",
    "    - Space: O(1), no extra memory used\n",
    "    =============================\n",
    "    */\n",
    "    int findDelayedArrivalTime(int arrivalTime, int delayedTime) {\n",
    "        return (arrivalTime + delayedTime) % 24;\n",
    "    }\n",
    "};\n",
    "\n",
    "int main()\n",
    "{\n",
    "    Solution sol;\n",
    "\n",
    "    // Test cases: {arrivalTime, delayedTime}\n",
    "    vector<pair<int, int>> testCases = {\n",
    "        {10, 5},    // Normal case\n",
    "        {23, 2},    // Wraps around midnight\n",
    "        {0, 24},    // Full day delay\n",
    "        {15, 0},    // No delay\n",
    "    };\n",
    "\n",
    "    for (auto &tc : testCases) {\n",
    "        int arrival = tc.first;\n",
    "        int delay = tc.second;\n",
    "        cout << \"Arrival = \" << arrival \n",
    "             << \", Delay = \" << delay << endl;\n",
    "        cout << \"Final Time: \" << sol.findDelayedArrivalTime(arrival, delay) << endl;\n",
    "        cout << \"-------------------------\" << endl;\n",
    "    }\n",
    "\n",
    "    return 0;\n",
    "}\n"
   ]
  },
  {
   "cell_type": "markdown",
   "id": "cd5602a5-2575-4d2b-9713-8362076faea0",
   "metadata": {},
   "source": [
    "Test Case:"
   ]
  },
  {
   "cell_type": "code",
   "execution_count": null,
   "id": "9b9c38bb",
   "metadata": {
    "vscode": {
     "languageId": "cpp"
    }
   },
   "outputs": [],
   "source": [
    "Solution sol;\n",
    "\n",
    "return 0;"
   ]
  }
 ],
 "metadata": {
  "kernelspec": {
   "display_name": "C++17",
   "language": "C++17",
   "name": "xcpp17"
  },
  "language_info": {
   "codemirror_mode": "text/x-c++src",
   "file_extension": ".cpp",
   "mimetype": "text/x-c++src",
   "name": "c++",
   "version": "17"
  }
 },
 "nbformat": 4,
 "nbformat_minor": 5
}
