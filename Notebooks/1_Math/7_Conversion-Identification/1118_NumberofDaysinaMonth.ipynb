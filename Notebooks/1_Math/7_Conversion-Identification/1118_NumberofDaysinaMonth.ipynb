{
 "cells": [
  {
   "cell_type": "markdown",
   "id": "da93d6c9-8b34-46c4-83ca-ddcf2a2949cd",
   "metadata": {},
   "source": [
    "Solution:\n",
    "\n",
    "---\n",
    "\n",
    "---"
   ]
  },
  {
   "cell_type": "code",
   "execution_count": null,
   "id": "a65f5ca0",
   "metadata": {
    "vscode": {
     "languageId": "cpp"
    }
   },
   "outputs": [],
   "source": [
    "#include <iostream>\n",
    "#include <vector>\n",
    "#include <chrono>\n",
    "using namespace std;\n",
    "\n",
    "class Solution {\n",
    "public:\n",
    "    /*\n",
    "    =============================\n",
    "    - Name Solution: Leap Year Check\n",
    "    - Idea: A year is a leap year if it is divisible by 400 or divisible by 4 but not by 100. \n",
    "            Use modulo operator to check divisibility.\n",
    "    - Time: O(1), single modulo operations\n",
    "    - Space: O(1), no extra space used\n",
    "    =============================\n",
    "    */\n",
    "    bool isLeap(int year) {\n",
    "        return (year % 400 == 0) || (year % 4 == 0 && year % 100 != 0);\n",
    "    }\n",
    "\n",
    "    /*\n",
    "    =============================\n",
    "    - Name Solution: Using Array Lookup\n",
    "    - Idea: Store the number of days in each month in an array and return the value by indexing. \n",
    "            For February, check for leap year.\n",
    "    - Time: O(1), direct access to array element\n",
    "    - Space: O(1), fixed-size array of 12 elements\n",
    "    =============================\n",
    "    */\n",
    "    int numberOfDaysArray(int year, int month) {\n",
    "        vector<int> days = {31, 28, 31, 30, 31, 30,\n",
    "                            31, 31, 30, 31, 30, 31};\n",
    "        if (month == 2 && isLeap(year)) return 29;\n",
    "        return days[month - 1];\n",
    "    }\n",
    "\n",
    "    /*\n",
    "    =============================\n",
    "    - Name Solution: Brute Force with If-Else\n",
    "    - Idea: Use conditional statements to handle each month separately. Check leap year for February.\n",
    "    - Time: O(1), constant number of checks\n",
    "    - Space: O(1), no extra memory used\n",
    "    =============================\n",
    "    */\n",
    "    int numberOfDaysBruteForce(int year, int month) {\n",
    "        if (month == 1 || month == 3 || month == 5 || month == 7 ||\n",
    "            month == 8 || month == 10 || month == 12)\n",
    "            return 31;\n",
    "        if (month == 4 || month == 6 || month == 9 || month == 11)\n",
    "            return 30;\n",
    "        return isLeap(year) ? 29 : 28;\n",
    "    }\n",
    "\n",
    "    /*\n",
    "    =============================\n",
    "    - Name Solution: Chrono Library (Optimized)\n",
    "    - Idea: Use C++ chrono library to calculate the number of days by taking the difference between the first day of next month and first day of current month.\n",
    "    - Time: O(1), arithmetic with chrono dates\n",
    "    - Space: O(1), no dynamic memory used\n",
    "    =============================\n",
    "    */\n",
    "    /*int numberOfDaysChrono(int year, int month) {\n",
    "        using namespace std::chrono;\n",
    "        year_month ym = year / month;\n",
    "        auto first_day = sys_days(ym / 1);\n",
    "        auto next_month = ym + months(1);\n",
    "        auto first_next = sys_days(next_month / 1);\n",
    "        return (first_next - first_day).count();\n",
    "    }*/\n",
    "\n",
    "    /*\n",
    "    =============================\n",
    "    - Name Solution: Elegant Mathematical Trick\n",
    "    - Idea: Use a formula to calculate the number of days: February handled separately, for other months: 30 + ((month + (month > 7)) % 2), \n",
    "            leveraging the odd/even pattern of month lengths with shift after July.\n",
    "    - Time: O(1), simple arithmetic operations\n",
    "    - Space: O(1), no extra memory used\n",
    "    =============================\n",
    "    */\n",
    "    int numberOfDaysElegant(int year, int month) {\n",
    "        if (month == 2) return isLeap(year) ? 29 : 28;\n",
    "        return 30 + ((month + (month > 7)) % 2);\n",
    "    }\n",
    "};\n",
    "\n",
    "\n",
    "// ---------------------------------------------------\n",
    "// Main test driver\n",
    "int main() {\n",
    "    vector<pair<int, int>> testCases = {\n",
    "        {2024, 2},  // Leap year, February = 29\n",
    "        {2023, 2},  // Non-leap year, February = 28\n",
    "        {2022, 4},  // April = 30\n",
    "        {2022, 12}  // December = 31\n",
    "    };\n",
    "\n",
    "    Solution sol;\n",
    "\n",
    "    for (auto &tc : testCases) {\n",
    "        int year = tc.first, month = tc.second;\n",
    "        cout << \"Year = \" << year << \", Month = \" << month << endl;\n",
    "        cout << \"Array lookup: \" << sol.numberOfDaysArray(year, month) << endl;\n",
    "        cout << \"Brute force: \" << sol.numberOfDaysBruteForce(year, month) << endl;\n",
    "        //cout << \"Using chrono: \" << sol.numberOfDaysChrono(year, month) << endl;\n",
    "        cout << \"Elegant formula: \" << sol.numberOfDaysElegant(year, month) << endl;\n",
    "        cout << \"-------------------------\" << endl;\n",
    "    }\n",
    "\n",
    "    return 0;\n",
    "}\n"
   ]
  },
  {
   "cell_type": "markdown",
   "id": "cd5602a5-2575-4d2b-9713-8362076faea0",
   "metadata": {},
   "source": [
    "Test Case:"
   ]
  },
  {
   "cell_type": "code",
   "execution_count": null,
   "id": "9b9c38bb",
   "metadata": {
    "vscode": {
     "languageId": "cpp"
    }
   },
   "outputs": [],
   "source": [
    "Solution sol;\n",
    "\n",
    "return 0;"
   ]
  }
 ],
 "metadata": {
  "kernelspec": {
   "display_name": "C++17",
   "language": "C++17",
   "name": "xcpp17"
  },
  "language_info": {
   "codemirror_mode": "text/x-c++src",
   "file_extension": ".cpp",
   "mimetype": "text/x-c++src",
   "name": "c++",
   "version": "17"
  }
 },
 "nbformat": 4,
 "nbformat_minor": 5
}
