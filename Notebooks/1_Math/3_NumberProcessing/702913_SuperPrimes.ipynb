{
 "cells": [
  {
   "cell_type": "markdown",
   "id": "da93d6c9-8b34-46c4-83ca-ddcf2a2949cd",
   "metadata": {},
   "source": [
    "Solution:\n",
    "\n",
    "---\n",
    "\n",
    "---"
   ]
  },
  {
   "cell_type": "code",
   "execution_count": null,
   "id": "a65f5ca0",
   "metadata": {
    "vscode": {
     "languageId": "cpp"
    }
   },
   "outputs": [],
   "source": [
    "// User function template for C++\n",
    "#include <iostream>\n",
    "#include <vector>\n",
    "#include <cmath>\n",
    "using namespace std;\n",
    "\n",
    "class Solution {\n",
    "public:\n",
    "\n",
    "    /*\n",
    "    =============================\n",
    "    - Name Solution: Sieve of Eratosthenes\n",
    "    - Idea: Generate all prime numbers up to N efficiently by marking multiples of each prime as non-prime.\n",
    "            Uses a boolean array to track primes and iteratively marks multiples.\n",
    "    - Time: O(N log log N), sieve algorithm complexity\n",
    "    - Space: O(N), for the boolean array\n",
    "    =============================\n",
    "    */\n",
    "    vector<int> sieveOfEratosthenes(int N) {\n",
    "        vector<bool> isPrime(N + 1, true);\n",
    "        vector<int> primes;\n",
    "        isPrime[0] = isPrime[1] = false;\n",
    "\n",
    "        for (int i = 2; i <= N; i++) {\n",
    "            if (isPrime[i]) {\n",
    "                primes.push_back(i);\n",
    "                for (int j = 2 * i; j <= N; j += i) {\n",
    "                    isPrime[j] = false;\n",
    "                }\n",
    "            }\n",
    "        }\n",
    "        return primes;\n",
    "    }\n",
    "\n",
    "    /*\n",
    "    =============================\n",
    "    - Name Solution: Check Prime by Trial Division\n",
    "    - Idea: To check if n is prime, test divisibility from 2 up to sqrt(n). \n",
    "            If any divisor exists, n is not prime; otherwise, it is prime.\n",
    "    - Time: O(sqrt(N)), iterates up to sqrt(n)\n",
    "    - Space: O(1), no extra memory used\n",
    "    =============================\n",
    "    */\n",
    "    bool isPrime(int n) {\n",
    "        if (n <= 1)\n",
    "            return false;\n",
    "        for (int i = 2; i <= sqrt(n); i++) {\n",
    "            if (n % i == 0)\n",
    "                return false;\n",
    "        }\n",
    "        return true;\n",
    "    }\n",
    "\n",
    "    /*\n",
    "    =============================\n",
    "    - Name Solution: Count Super Primes\n",
    "    - Idea: A Super Prime is a prime P such that (P - 2) is also prime. \n",
    "            First, generate all primes up to n using sieve, then check each prime.\n",
    "    - Time: O(N log log N + N sqrt(N)), sieve + trial division for each prime\n",
    "    - Space: O(N), storing the sieve array and prime list\n",
    "    =============================\n",
    "    */\n",
    "    int superPrimes(int n) {\n",
    "        int count = 0;\n",
    "        vector<int> primes = sieveOfEratosthenes(n);\n",
    "        for (int p : primes) {\n",
    "            if (p == 2 || p == 3)\n",
    "                continue;\n",
    "            if (isPrime(p - 2))\n",
    "                count++;\n",
    "        }\n",
    "        return count;\n",
    "    }\n",
    "};\n",
    "\n",
    "int main() {\n",
    "    Solution sol;\n",
    "\n",
    "    // Test cases\n",
    "    vector<int> testCases = {10, 20, 30};\n",
    "\n",
    "    for (int n : testCases) {\n",
    "        cout << \"n = \" << n << \" -> Super Primes Count: \"\n",
    "             << sol.superPrimes(n) << endl;\n",
    "        cout << \"-------------------------\" << endl;\n",
    "    }\n",
    "\n",
    "    return 0;\n",
    "}\n"
   ]
  },
  {
   "cell_type": "markdown",
   "id": "cd5602a5-2575-4d2b-9713-8362076faea0",
   "metadata": {},
   "source": [
    "Test Case:"
   ]
  },
  {
   "cell_type": "code",
   "execution_count": null,
   "id": "9b9c38bb",
   "metadata": {
    "vscode": {
     "languageId": "cpp"
    }
   },
   "outputs": [],
   "source": [
    "Solution sol;\n",
    "\n",
    "return 0;"
   ]
  }
 ],
 "metadata": {
  "kernelspec": {
   "display_name": "C++17",
   "language": "C++17",
   "name": "xcpp17"
  },
  "language_info": {
   "codemirror_mode": "text/x-c++src",
   "file_extension": ".cpp",
   "mimetype": "text/x-c++src",
   "name": "c++",
   "version": "17"
  }
 },
 "nbformat": 4,
 "nbformat_minor": 5
}
