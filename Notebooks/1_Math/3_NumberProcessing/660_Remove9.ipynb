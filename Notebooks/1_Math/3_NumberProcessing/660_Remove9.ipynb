{
 "cells": [
  {
   "cell_type": "markdown",
   "id": "da93d6c9-8b34-46c4-83ca-ddcf2a2949cd",
   "metadata": {},
   "source": [
    "Solution:\n",
    "\n",
    "---\n",
    "\n",
    "---"
   ]
  },
  {
   "cell_type": "code",
   "execution_count": null,
   "id": "7ceff4eb-9ffb-4000-8916-74845f351d7a",
   "metadata": {
    "vscode": {
     "languageId": "cpp"
    }
   },
   "outputs": [],
   "source": [
    "#include<iostream>\n",
    "using namespace std;\n",
    "\n",
    "class Solution {\n",
    "public:\n",
    "    /*\n",
    "    =============================\n",
    "    - Name Solution: Base-9 Conversion\n",
    "    - Idea: Convert the given number n into a number without the digit '9' by representing n in base-9 \n",
    "            and interpreting the digits as a decimal number. This effectively “skips” the digit 9.\n",
    "    - Time: O(log₉(n)), because we extract digits in base-9\n",
    "    - Space: O(1), only a few variables used\n",
    "    =============================\n",
    "    */\n",
    "    int newInteger(int n) {\n",
    "        long long ans = 0, base = 1;\n",
    "\n",
    "        // Keep extracting digits in base-9 representation\n",
    "        while (n > 0) {\n",
    "            // Take remainder when dividing by 9 (base-9 digit)\n",
    "            ans += (n % 9) * base;\n",
    "\n",
    "            // Move to the next digit\n",
    "            n /= 9;\n",
    "\n",
    "            // Shift base by one decimal place\n",
    "            base *= 10;\n",
    "        }\n",
    "\n",
    "        // Return the final constructed number\n",
    "        return (int)ans;\n",
    "    }\n",
    "};\n",
    "\n",
    "int main()\n",
    "{\n",
    "    Solution sol;\n",
    "\n",
    "    // Test cases\n",
    "    int testCases[] = {1, 9, 10, 19, 100};\n",
    "    int size = sizeof(testCases) / sizeof(testCases[0]);\n",
    "\n",
    "    for (int i = 0; i < size; i++) {\n",
    "        int n = testCases[i];\n",
    "        cout << \"Test case n = \" << n << endl;\n",
    "        cout << \"Result (newInteger): \" << sol.newInteger(n) << endl;\n",
    "        cout << \"-------------------------\" << endl;\n",
    "    }\n",
    "\n",
    "    return 0;"
   ]
  },
  {
   "cell_type": "markdown",
   "id": "cd5602a5-2575-4d2b-9713-8362076faea0",
   "metadata": {},
   "source": [
    "Test Case:"
   ]
  },
  {
   "cell_type": "code",
   "execution_count": null,
   "id": "9b9c38bb",
   "metadata": {
    "vscode": {
     "languageId": "cpp"
    }
   },
   "outputs": [],
   "source": [
    "Solution sol;\n",
    "\n",
    "return 0;"
   ]
  }
 ],
 "metadata": {
  "kernelspec": {
   "display_name": "C++17",
   "language": "C++17",
   "name": "xcpp17"
  },
  "language_info": {
   "codemirror_mode": "text/x-c++src",
   "file_extension": ".cpp",
   "mimetype": "text/x-c++src",
   "name": "c++",
   "version": "17"
  }
 },
 "nbformat": 4,
 "nbformat_minor": 5
}
