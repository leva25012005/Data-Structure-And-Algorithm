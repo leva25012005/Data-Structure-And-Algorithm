{
 "cells": [
  {
   "cell_type": "markdown",
   "id": "da93d6c9-8b34-46c4-83ca-ddcf2a2949cd",
   "metadata": {},
   "source": [
    "Solution:\n",
    "\n",
    "---\n",
    "\n",
    "---"
   ]
  },
  {
   "cell_type": "code",
   "execution_count": null,
   "id": "a65f5ca0",
   "metadata": {
    "vscode": {
     "languageId": "cpp"
    }
   },
   "outputs": [],
   "source": [
    "#include <iostream>\n",
    "#include <vector>\n",
    "using namespace std;\n",
    "\n",
    "class Solution {\n",
    "public:\n",
    "    /*\n",
    "        =============================\n",
    "        - Name Solution: Using Frequency Array and Triple Enumeration\n",
    "        - Idea: \n",
    "            1. Count frequency of each number (1..100) in nums.\n",
    "            2. Enumerate all possible triplets (a, b, c) in [1..100].\n",
    "            3. For each triplet, check how many numbers divide their sum.\n",
    "            4. Only consider triplets where exactly one number divides the sum.\n",
    "            5. Multiply by frequencies to account for duplicates in nums.\n",
    "            This avoids iterating over all n^3 actual indices since the number range is small.\n",
    "        - Time: O(100^3) = O(1) in practice, since the numbers are bounded by 100\n",
    "        - Space: O(101), for frequency array\n",
    "        =============================\n",
    "    */\n",
    "    long long singleDivisorTriplet(vector<int>& nums) {\n",
    "        int cnt[101]{};  // Frequency array for numbers in nums (1..100)\n",
    "\n",
    "        // Count occurrences of each number in nums\n",
    "        for (int x : nums) {\n",
    "            ++cnt[x];\n",
    "        }\n",
    "\n",
    "        long long ans = 0;\n",
    "\n",
    "        // Try all possible triples (a, b, c) within [1..100]\n",
    "        for (int a = 1; a <= 100; ++a) {\n",
    "            for (int b = 1; b <= 100; ++b) {\n",
    "                for (int c = 1; c <= 100; ++c) {\n",
    "                    int s = a + b + c;   // sum of triplet\n",
    "                    int x = cnt[a], y = cnt[b], z = cnt[c];  // frequencies\n",
    "\n",
    "                    // Count how many numbers divide the sum\n",
    "                    int t = (s % a == 0) + (s % b == 0) + (s % c == 0);\n",
    "\n",
    "                    // We only care about cases where exactly one number divides s\n",
    "                    if (t == 1) {\n",
    "                        if (a == b) {\n",
    "                            // Case when a == b, choose 2 'a's and 1 'c'\n",
    "                            ans += 1LL * x * (x - 1) * z;\n",
    "                        } else if (a == c) {\n",
    "                            // Case when a == c, choose 2 'a's and 1 'b'\n",
    "                            ans += 1LL * x * (x - 1) * y;\n",
    "                        } else if (b == c) {\n",
    "                            // Case when b == c, choose 2 'b's and 1 'a'\n",
    "                            ans += 1LL * x * y * (y - 1);\n",
    "                        } else {\n",
    "                            // Case when all a, b, c are different\n",
    "                            ans += 1LL * x * y * z;\n",
    "                        }\n",
    "                    }\n",
    "                }\n",
    "            }\n",
    "        }\n",
    "\n",
    "        return ans;\n",
    "    }\n",
    "};\n",
    "\n",
    "int main() {\n",
    "    Solution sol;\n",
    "    vector<int> nums = {1, 2, 3, 4, 6};\n",
    "    cout << \"Result: \" << sol.singleDivisorTriplet(nums) << endl;\n",
    "    return 0;\n",
    "}\n"
   ]
  },
  {
   "cell_type": "markdown",
   "id": "cd5602a5-2575-4d2b-9713-8362076faea0",
   "metadata": {},
   "source": [
    "Test Case:"
   ]
  },
  {
   "cell_type": "code",
   "execution_count": null,
   "id": "9b9c38bb",
   "metadata": {
    "vscode": {
     "languageId": "cpp"
    }
   },
   "outputs": [],
   "source": [
    "Solution sol;\n",
    "\n",
    "return 0;"
   ]
  }
 ],
 "metadata": {
  "kernelspec": {
   "display_name": "C++17",
   "language": "C++17",
   "name": "xcpp17"
  },
  "language_info": {
   "codemirror_mode": "text/x-c++src",
   "file_extension": ".cpp",
   "mimetype": "text/x-c++src",
   "name": "c++",
   "version": "17"
  }
 },
 "nbformat": 4,
 "nbformat_minor": 5
}
