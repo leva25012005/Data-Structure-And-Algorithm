{
 "cells": [
  {
   "cell_type": "markdown",
   "id": "da93d6c9-8b34-46c4-83ca-ddcf2a2949cd",
   "metadata": {},
   "source": [
    "Solution:\n",
    "\n",
    "---\n",
    "\n",
    "---"
   ]
  },
  {
   "cell_type": "code",
   "execution_count": null,
   "id": "a65f5ca0",
   "metadata": {
    "vscode": {
     "languageId": "cpp"
    }
   },
   "outputs": [],
   "source": [
    "#include <iostream>\n",
    "#include <string>\n",
    "#include <unordered_map>\n",
    "#include <vector>\n",
    "using namespace std;\n",
    "\n",
    "class Solution {\n",
    "public:\n",
    "    /*\n",
    "        =============================\n",
    "        - Name Solution: String-based approach\n",
    "        - Idea: Convert the number to a string, then rotate each digit using a predefined mapping. \n",
    "                Reconstruct the rotated string and check if it differs from the original number.\n",
    "        - Time: O(d), where d = number of digits\n",
    "        - Space: O(d), storing the rotated string\n",
    "        =============================\n",
    "    */\n",
    "    bool isConfusingNumber_String(int n) {\n",
    "        unordered_map<char, char> mp = {\n",
    "            {'0','0'}, {'1','1'}, {'6','9'}, {'8','8'}, {'9','6'}\n",
    "        };\n",
    "\n",
    "        string s = to_string(n), t = \"\";\n",
    "        for (int i = s.size() - 1; i >= 0; i--) {\n",
    "            if (mp.find(s[i]) == mp.end()) return false; // invalid digit found\n",
    "            t.push_back(mp[s[i]]);\n",
    "        }\n",
    "        return t != s;\n",
    "    }\n",
    "\n",
    "    /*\n",
    "        =============================\n",
    "        - Name Solution: Numeric-based approach\n",
    "        - Idea: Extract digits one by one, map each to its rotated counterpart, rebuild the rotated number, \n",
    "                and check if it differs from the original. This avoids converting to string.\n",
    "        - Time: O(d), where d = number of digits\n",
    "        - Space: O(1), only integer variables used\n",
    "        =============================\n",
    "    */\n",
    "    bool isConfusingNumber_Numeric(int n) {\n",
    "        int orig = n, rotated = 0;\n",
    "        while (n > 0) {\n",
    "            int d = n % 10;\n",
    "            int mapped;\n",
    "            if (d == 0 || d == 1 || d == 8) mapped = d;\n",
    "            else if (d == 6) mapped = 9;\n",
    "            else if (d == 9) mapped = 6;\n",
    "            else return false; // invalid digit → not a confusing number\n",
    "            rotated = rotated * 10 + mapped;\n",
    "            n /= 10;\n",
    "        }\n",
    "        return rotated != orig;\n",
    "    }\n",
    "};\n",
    "\n",
    "int main() {\n",
    "    Solution sol;\n",
    "\n",
    "    // Test cases\n",
    "    vector<int> testCases = {6, 89, 11, 25, 916};\n",
    "\n",
    "    for (int n : testCases) {\n",
    "        cout << \"Test case n = \" << n << endl;\n",
    "        cout << \"Confusing (String method): \" \n",
    "             << (sol.isConfusingNumber_String(n) ? \"True\" : \"False\") << endl;\n",
    "        cout << \"Confusing (Numeric method): \" \n",
    "             << (sol.isConfusingNumber_Numeric(n) ? \"True\" : \"False\") << endl;\n",
    "        cout << \"-------------------------\" << endl;\n",
    "    }\n",
    "\n",
    "    return 0;\n",
    "}\n"
   ]
  },
  {
   "cell_type": "markdown",
   "id": "cd5602a5-2575-4d2b-9713-8362076faea0",
   "metadata": {},
   "source": [
    "Test Case:"
   ]
  },
  {
   "cell_type": "code",
   "execution_count": null,
   "id": "9b9c38bb",
   "metadata": {
    "vscode": {
     "languageId": "cpp"
    }
   },
   "outputs": [],
   "source": [
    "Solution sol;\n",
    "\n",
    "return 0;"
   ]
  }
 ],
 "metadata": {
  "kernelspec": {
   "display_name": "C++17",
   "language": "C++17",
   "name": "xcpp17"
  },
  "language_info": {
   "codemirror_mode": "text/x-c++src",
   "file_extension": ".cpp",
   "mimetype": "text/x-c++src",
   "name": "c++",
   "version": "17"
  }
 },
 "nbformat": 4,
 "nbformat_minor": 5
}
