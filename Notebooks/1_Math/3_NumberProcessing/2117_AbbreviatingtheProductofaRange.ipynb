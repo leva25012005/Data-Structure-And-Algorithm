{
 "cells": [
  {
   "cell_type": "markdown",
   "id": "da93d6c9-8b34-46c4-83ca-ddcf2a2949cd",
   "metadata": {},
   "source": [
    "Solution:\n",
    "\n",
    "---\n",
    "\n",
    "---"
   ]
  },
  {
   "cell_type": "code",
   "execution_count": null,
   "id": "a65f5ca0",
   "metadata": {
    "vscode": {
     "languageId": "cpp"
    }
   },
   "outputs": [],
   "source": [
    "#include <iostream>\n",
    "#include <string>\n",
    "#include <vector>\n",
    "#include <cmath>\n",
    "#include <iomanip>\n",
    "#include <format>    // For std::format (C++20)\n",
    "#include <sstream>   // Fallback for string formatting\n",
    "\n",
    "using namespace std;\n",
    "\n",
    "class Solution {\n",
    "private:\n",
    "    // Count how many times a prime 'p' divides n! using Legendre's formula.\n",
    "    // Example: count_factors_in_factorial(10, 2) = 8 (because 10! has 8 factors of 2).\n",
    "    long long count_factors_in_factorial(int n, int p) {\n",
    "        if (n < p) return 0;\n",
    "        long long count = 0;\n",
    "        long long power_of_p = p;\n",
    "        while (power_of_p <= n) {\n",
    "            count += n / power_of_p;   // Count multiples of p, p^2, p^3, ...\n",
    "            // Prevent overflow when multiplying\n",
    "            if (power_of_p > n / p) break;\n",
    "            power_of_p *= p;\n",
    "        }\n",
    "        return count;\n",
    "    }\n",
    "\n",
    "    // Compute log10(n!) efficiently using the gamma function.\n",
    "    // lgamma(n+1) = ln(n!), then convert to base-10 logarithm.\n",
    "    long double log10_factorial(int n) {\n",
    "        if (n <= 1) return 0.0;\n",
    "        return lgammal(n + 1.0) / logl(10.0);\n",
    "    }\n",
    "    \n",
    "    // Fast modular exponentiation (base^exp % mod).\n",
    "    // Uses binary exponentiation with __int128 to avoid overflow.\n",
    "    long long power(long long base, long long exp, long long mod) {\n",
    "        long long res = 1;\n",
    "        base %= mod;\n",
    "        while (exp > 0) {\n",
    "            if (exp % 2 == 1) \n",
    "                res = (static_cast<__int128>(res) * base) % mod;\n",
    "            base = (static_cast<__int128>(base) * base) % mod;\n",
    "            exp /= 2;\n",
    "        }\n",
    "        return res;\n",
    "    }\n",
    "\n",
    "public:\n",
    "    string abbreviateProduct(int left, int right) {\n",
    "        // --- Step 1: Factor counting & logarithm of product ---\n",
    "        // Count powers of 2 and 5 separately (for trailing zeros).\n",
    "        long long count2 = count_factors_in_factorial(right, 2) - count_factors_in_factorial(left - 1, 2);\n",
    "        long long count5 = count_factors_in_factorial(right, 5) - count_factors_in_factorial(left - 1, 5);\n",
    "        long double log_sum = log10_factorial(right) - log10_factorial(left - 1);\n",
    "        \n",
    "        // Trailing zeros come from matched pairs of 2 and 5.\n",
    "        long long trailing_zeros = min(count2, count5);\n",
    "\n",
    "        // --- Step 2: Compute last few digits of product ---\n",
    "        // We compute product modulo large base (1e11) after removing 2s and 5s.\n",
    "        long long suffix_mod = 100000000000LL; // 1e11\n",
    "        long long suffix = 1;\n",
    "        for (int i = left; i <= right; ++i) {\n",
    "            int n = i;\n",
    "            // Remove factors of 2 and 5 (already counted).\n",
    "            while (n % 2 == 0) n /= 2;\n",
    "            while (n % 5 == 0) n /= 5;\n",
    "            suffix = (static_cast<__int128>(suffix) * n) % suffix_mod;\n",
    "        }\n",
    "        // Reintroduce the leftover powers of 2 and 5 (not forming trailing zeros).\n",
    "        suffix = (static_cast<__int128>(suffix) * power(2, count2 - trailing_zeros, suffix_mod)) % suffix_mod;\n",
    "        suffix = (static_cast<__int128>(suffix) * power(5, count5 - trailing_zeros, suffix_mod)) % suffix_mod;\n",
    "\n",
    "        // --- Step 3: Decide whether to abbreviate or not ---\n",
    "        long double num_digits_log = log_sum - trailing_zeros; \n",
    "        long long num_digits = floorl(num_digits_log) + 1; // total digits in product without trailing zeros\n",
    "        \n",
    "        if (num_digits > 10) {\n",
    "            // For long results: keep prefix + suffix + scientific notation\n",
    "            int prefix = powl(10, num_digits_log - floorl(num_digits_log) + 4);\n",
    "            long long final_suffix_val = suffix % 100000; // last 5 digits\n",
    "            \n",
    "            // Example: \"12345...67890e12\"\n",
    "            return std::format(\"{}...{:0>5}e{}\", prefix, final_suffix_val, trailing_zeros);\n",
    "            \n",
    "            /*\n",
    "            // Fallback using stringstream if std::format is not available\n",
    "            stringstream ss;\n",
    "            ss << prefix << \"...\" << setfill('0') << setw(5) << final_suffix_val << \"e\" << trailing_zeros;\n",
    "            return ss.str();\n",
    "            */\n",
    "        } else {\n",
    "            // For short results: return whole suffix with exponent.\n",
    "            return std::format(\"{}e{}\", suffix, trailing_zeros);\n",
    "        }\n",
    "    }\n",
    "};\n"
   ]
  },
  {
   "cell_type": "markdown",
   "id": "cd5602a5-2575-4d2b-9713-8362076faea0",
   "metadata": {},
   "source": [
    "Test Case:"
   ]
  },
  {
   "cell_type": "code",
   "execution_count": null,
   "id": "9b9c38bb",
   "metadata": {
    "vscode": {
     "languageId": "cpp"
    }
   },
   "outputs": [],
   "source": [
    "Solution sol;\n",
    "\n",
    "return 0;"
   ]
  }
 ],
 "metadata": {
  "kernelspec": {
   "display_name": "C++17",
   "language": "C++17",
   "name": "xcpp17"
  },
  "language_info": {
   "codemirror_mode": "text/x-c++src",
   "file_extension": ".cpp",
   "mimetype": "text/x-c++src",
   "name": "c++",
   "version": "17"
  }
 },
 "nbformat": 4,
 "nbformat_minor": 5
}
