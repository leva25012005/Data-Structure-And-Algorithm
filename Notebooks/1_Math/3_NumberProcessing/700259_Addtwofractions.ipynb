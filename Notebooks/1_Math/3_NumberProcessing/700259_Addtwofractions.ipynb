{
 "cells": [
  {
   "cell_type": "markdown",
   "id": "da93d6c9-8b34-46c4-83ca-ddcf2a2949cd",
   "metadata": {},
   "source": [
    "Solution:\n",
    "\n",
    "---\n",
    "\n",
    "---"
   ]
  },
  {
   "cell_type": "code",
   "execution_count": null,
   "id": "a65f5ca0",
   "metadata": {
    "vscode": {
     "languageId": "cpp"
    }
   },
   "outputs": [],
   "source": [
    "#include <iostream>\n",
    "#include <algorithm> // for __gcd\n",
    "using namespace std;\n",
    "\n",
    "class Solution {\n",
    "public:\n",
    "    // Add two fractions and print the result in simplest form\n",
    "    // Time: O(log(min(num, den))), Space: O(1)\n",
    "    void addFraction(int num1, int den1, int num2, int den2) {\n",
    "        // Step 1: Make denominators equal (find common denominator)\n",
    "        int num = num1 * den2 + num2 * den1;\n",
    "        int den = den1 * den2;\n",
    "\n",
    "        // Step 2: Simplify the fraction by dividing numerator and denominator by gcd\n",
    "        int g = __gcd(num, den);\n",
    "        num /= g;\n",
    "        den /= g;\n",
    "\n",
    "        // Step 3: Print result\n",
    "        cout << num << \"/\" << den << endl;\n",
    "    }\n",
    "};\n",
    "\n",
    "int main() {\n",
    "    Solution sol;\n",
    "\n",
    "    // Test cases: fractions (num1/den1) + (num2/den2)\n",
    "    int testCases[][4] = {\n",
    "        {1, 2, 1, 3},   // 1/2 + 1/3 = 5/6\n",
    "        {2, 5, 3, 10},  // 2/5 + 3/10 = 7/10\n",
    "        {1, 4, 1, 4},   // 1/4 + 1/4 = 1/2\n",
    "        {5, 6, 7, 8}    // 5/6 + 7/8 = 41/24\n",
    "    };\n",
    "\n",
    "    int size = sizeof(testCases) / sizeof(testCases[0]);\n",
    "\n",
    "    for (int i = 0; i < size; i++) {\n",
    "        int num1 = testCases[i][0], den1 = testCases[i][1];\n",
    "        int num2 = testCases[i][2], den2 = testCases[i][3];\n",
    "        cout << \"Adding fractions: \" << num1 << \"/\" << den1 \n",
    "             << \" + \" << num2 << \"/\" << den2 << \" = \";\n",
    "        sol.addFraction(num1, den1, num2, den2);\n",
    "        cout << \"-------------------------\" << endl;\n",
    "    }\n",
    "\n",
    "    return 0;\n",
    "}\n"
   ]
  },
  {
   "cell_type": "markdown",
   "id": "cd5602a5-2575-4d2b-9713-8362076faea0",
   "metadata": {},
   "source": [
    "Test Case:"
   ]
  },
  {
   "cell_type": "code",
   "execution_count": null,
   "id": "9b9c38bb",
   "metadata": {
    "vscode": {
     "languageId": "cpp"
    }
   },
   "outputs": [],
   "source": [
    "Solution sol;\n",
    "\n",
    "return 0;"
   ]
  }
 ],
 "metadata": {
  "kernelspec": {
   "display_name": "C++17",
   "language": "C++17",
   "name": "xcpp17"
  },
  "language_info": {
   "codemirror_mode": "text/x-c++src",
   "file_extension": ".cpp",
   "mimetype": "text/x-c++src",
   "name": "c++",
   "version": "17"
  }
 },
 "nbformat": 4,
 "nbformat_minor": 5
}
