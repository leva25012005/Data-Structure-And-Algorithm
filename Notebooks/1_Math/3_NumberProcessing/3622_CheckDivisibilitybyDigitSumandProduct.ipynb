{
 "cells": [
  {
   "cell_type": "markdown",
   "id": "da93d6c9-8b34-46c4-83ca-ddcf2a2949cd",
   "metadata": {},
   "source": [
    "Solution:\n",
    "\n",
    "---\n",
    "\n",
    "---"
   ]
  },
  {
   "cell_type": "code",
   "execution_count": null,
   "id": "a65f5ca0",
   "metadata": {
    "vscode": {
     "languageId": "cpp"
    }
   },
   "outputs": [],
   "source": [
    "#include <iostream>\n",
    "#include <vector>\n",
    "#include <string>\n",
    "using namespace std;\n",
    "\n",
    "class Solution {\n",
    "public:\n",
    "    /*\n",
    "    =============================\n",
    "    - Name Solution: Using Loop (digit extraction with % and /)\n",
    "    - Idea: Extract each digit of the number using modulo (%) and division (/). \n",
    "            Calculate the sum and product of the digits, then check if n is divisible by (sum + product).\n",
    "    - Time: O(log10(n)), proportional to the number of digits in n\n",
    "    - Space: O(1), no extra memory except a few integer variables\n",
    "    =============================\n",
    "    */\n",
    "    bool checkDivisibilityLoop(int n) {\n",
    "        int sum = 0, product = 1;\n",
    "        int temp = n;\n",
    "\n",
    "        while (temp > 0) {\n",
    "            int d = temp % 10;    // get last digit\n",
    "            sum += d;             // accumulate sum\n",
    "            product *= d;         // accumulate product\n",
    "            temp /= 10;           // remove last digit\n",
    "        }\n",
    "\n",
    "        int denom = sum + product;\n",
    "        return (n % denom == 0);\n",
    "    }\n",
    "\n",
    "    /*\n",
    "    =============================\n",
    "    - Name Solution: Using String Conversion\n",
    "    - Idea: Convert the number to a string to iterate over its digits. \n",
    "            Compute sum and product of digits, then check if n is divisible by (sum + product).\n",
    "    - Time: O(log10(n)), proportional to the number of digits in n\n",
    "    - Space: O(log10(n)), additional space used to store string representation of n\n",
    "    =============================\n",
    "    */\n",
    "    bool checkDivisibilityString(int n) {\n",
    "        string s = to_string(n);\n",
    "        int sum = 0, product = 1;\n",
    "\n",
    "        for (char c : s) {\n",
    "            int d = c - '0';      // convert char to digit\n",
    "            sum += d;             // accumulate sum\n",
    "            product *= d;         // accumulate product\n",
    "        }\n",
    "\n",
    "        int denom = sum + product;\n",
    "        return (n % denom == 0);\n",
    "    }\n",
    "};\n",
    "\n",
    "int main() {\n",
    "    Solution sol;\n",
    "\n",
    "    // Test cases\n",
    "    vector<int> testCases = {12, 22, 123, 135, 101};\n",
    "\n",
    "    for (int n : testCases) {\n",
    "        cout << \"Test case n = \" << n << endl;\n",
    "        cout << \"Loop method: \" \n",
    "             << (sol.checkDivisibilityLoop(n) ? \"Divisible\" : \"Not divisible\") << endl;\n",
    "        cout << \"String method: \" \n",
    "             << (sol.checkDivisibilityString(n) ? \"Divisible\" : \"Not divisible\") << endl;\n",
    "        cout << \"-------------------------\" << endl;\n",
    "    }\n",
    "\n",
    "    return 0;\n",
    "}\n"
   ]
  },
  {
   "cell_type": "markdown",
   "id": "cd5602a5-2575-4d2b-9713-8362076faea0",
   "metadata": {},
   "source": [
    "Test Case:"
   ]
  },
  {
   "cell_type": "code",
   "execution_count": null,
   "id": "9b9c38bb",
   "metadata": {
    "vscode": {
     "languageId": "cpp"
    }
   },
   "outputs": [],
   "source": [
    "Solution sol;\n",
    "\n",
    "return 0;"
   ]
  }
 ],
 "metadata": {
  "kernelspec": {
   "display_name": "C++17",
   "language": "C++17",
   "name": "xcpp17"
  },
  "language_info": {
   "codemirror_mode": "text/x-c++src",
   "file_extension": ".cpp",
   "mimetype": "text/x-c++src",
   "name": "c++",
   "version": "17"
  }
 },
 "nbformat": 4,
 "nbformat_minor": 5
}
