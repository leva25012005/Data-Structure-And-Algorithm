{
 "cells": [
  {
   "cell_type": "markdown",
   "id": "da93d6c9-8b34-46c4-83ca-ddcf2a2949cd",
   "metadata": {},
   "source": [
    "Solution:\n",
    "\n",
    "---\n",
    "\n",
    "---"
   ]
  },
  {
   "cell_type": "code",
   "execution_count": null,
   "id": "a65f5ca0",
   "metadata": {
    "vscode": {
     "languageId": "cpp"
    }
   },
   "outputs": [],
   "source": [
    "#include<iostream>\n",
    "using namespace std;\n",
    "\n",
    "class Solution {\n",
    "public:\n",
    "    /*\n",
    "    =============================\n",
    "    - Name Solution: Brute Force Search for Nearest Multiple\n",
    "    - Idea: Iterate through numbers below (if n>0) or above (if n<0) n to find the nearest multiple of m.\n",
    "            Simple but may take up to |n| steps in worst case.\n",
    "    - Time: O(|n|), since we may iterate through all numbers up to n\n",
    "    - Space: O(1), only a few variables used\n",
    "    =============================\n",
    "    */\n",
    "    static int closestNumberBruteForce(int n, int m) {\n",
    "        if (n > 0) {\n",
    "            for (int i = n - 1; i > 0; i--) {\n",
    "                if (i % m == 0)\n",
    "                    return i;\n",
    "            }\n",
    "        } else {\n",
    "            for (int i = m + 1; i < 0; i++) {\n",
    "                if (i % m == 0)\n",
    "                    return i;\n",
    "            }\n",
    "        }\n",
    "        return 0;   \n",
    "    }\n",
    "\n",
    "    /*\n",
    "    =============================\n",
    "    - Name Solution: Formula-Based Nearest Multiple\n",
    "    - Idea: Use integer division to compute multiples directly:\n",
    "            n1 = m * (n/m) is the multiple below or equal to n,\n",
    "            n2 = m * (n/m ± 1) is the multiple above n (adjust sign if n<0).\n",
    "            Then choose the closer one; if tie, return the larger.\n",
    "    - Time: O(1), only arithmetic operations\n",
    "    - Space: O(1), constant extra space\n",
    "    =============================\n",
    "    */\n",
    "    static int closestNumberFormula(int n, int m) {\n",
    "        int q = n / m;  \n",
    "        int n1 = m * q;          \n",
    "        int n2 = (n * m > 0) ? m * (q + 1) : m * (q - 1); \n",
    "        if (abs(n - n1) == abs(n - n2))\n",
    "            return max(n1, n2);\n",
    "        return (abs(n - n1) < abs(n - n2)) ? n1 : n2;\n",
    "    }\n",
    "};\n",
    "\n",
    "int main() {\n",
    "    // Test cases\n",
    "    pair<int,int> testCases[] = {\n",
    "        {13, 4},   // expected 12 (formula)\n",
    "        {25, 7},   // expected 28 (formula)\n",
    "        {-15, 6},  // expected -18 (formula)\n",
    "        {-20, 7},  // expected -21 (formula)\n",
    "        {0, 5}     // expected 0 (both)\n",
    "    };\n",
    "    int size = sizeof(testCases) / sizeof(testCases[0]);\n",
    "\n",
    "    for (int i = 0; i < size; i++) {\n",
    "        int n = testCases[i].first;\n",
    "        int m = testCases[i].second;\n",
    "        cout << \"Test case: n = \" << n << \", m = \" << m << endl;\n",
    "        cout << \"Closest number (Brute Force): \" << Solution::closestNumberBruteForce(n, m) << endl;\n",
    "        cout << \"Closest number (Formula):     \" << Solution::closestNumberFormula(n, m) << endl;\n",
    "        cout << \"-------------------------\" << endl;\n",
    "    }\n",
    "\n",
    "    return 0;\n",
    "}\n"
   ]
  },
  {
   "cell_type": "markdown",
   "id": "cd5602a5-2575-4d2b-9713-8362076faea0",
   "metadata": {},
   "source": [
    "Test Case:"
   ]
  },
  {
   "cell_type": "code",
   "execution_count": null,
   "id": "9b9c38bb",
   "metadata": {
    "vscode": {
     "languageId": "cpp"
    }
   },
   "outputs": [],
   "source": [
    "Solution sol;\n",
    "\n",
    "return 0;"
   ]
  }
 ],
 "metadata": {
  "kernelspec": {
   "display_name": "C++17",
   "language": "C++17",
   "name": "xcpp17"
  },
  "language_info": {
   "codemirror_mode": "text/x-c++src",
   "file_extension": ".cpp",
   "mimetype": "text/x-c++src",
   "name": "c++",
   "version": "17"
  }
 },
 "nbformat": 4,
 "nbformat_minor": 5
}
