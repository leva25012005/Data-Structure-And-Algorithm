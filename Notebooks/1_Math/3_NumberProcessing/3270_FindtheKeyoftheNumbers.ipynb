{
 "cells": [
  {
   "cell_type": "markdown",
   "id": "da93d6c9-8b34-46c4-83ca-ddcf2a2949cd",
   "metadata": {},
   "source": [
    "Solution:\n",
    "\n",
    "---\n",
    "\n",
    "---"
   ]
  },
  {
   "cell_type": "code",
   "execution_count": null,
   "id": "a65f5ca0",
   "metadata": {
    "vscode": {
     "languageId": "cpp"
    }
   },
   "outputs": [],
   "source": [
    "#include <iostream>\n",
    "#include <string>\n",
    "#include <algorithm>\n",
    "using namespace std;\n",
    "\n",
    "/*\n",
    "    =============================\n",
    "    - Name Solution: Generate 4-Digit Key from Three Numbers\n",
    "    - Idea: \n",
    "        1. Pad each input number to 4 digits using leading zeros.\n",
    "        2. For each digit position (thousands, hundreds, tens, units), take the minimum digit among the three numbers.\n",
    "        3. Combine these minimum digits to form a new 4-digit key.\n",
    "        4. Convert the resulting string back to an integer (removing leading zeros if any).\n",
    "        This ensures a deterministic 4-digit key representing the three input numbers.\n",
    "    - Time: O(1), since the operations are fixed for 4 digits\n",
    "    - Space: O(1), only a few fixed-size strings and variables are used\n",
    "    =============================\n",
    "*/\n",
    "class Solution {\n",
    "public:\n",
    "    int generateKey(int num1, int num2, int num3) {\n",
    "        auto pad = [](int x) {\n",
    "            string s = to_string(x);\n",
    "            while (s.size() < 4) s = \"0\" + s;\n",
    "            return s;\n",
    "        };\n",
    "\n",
    "        string s1 = pad(num1);\n",
    "        string s2 = pad(num2);\n",
    "        string s3 = pad(num3);\n",
    "\n",
    "        string key = \"\";\n",
    "        for (int i = 0; i < 4; i++) {\n",
    "            char c = min({s1[i], s2[i], s3[i]});\n",
    "            key.push_back(c);\n",
    "        }\n",
    "\n",
    "        return stoi(key);\n",
    "    }\n",
    "};\n",
    "\n",
    "\n",
    "int main() {\n",
    "    Solution sol;\n",
    "\n",
    "    // Test cases\n",
    "    int testCases[3][3] = {\n",
    "        {123, 456, 789},\n",
    "        {7, 98, 1234},\n",
    "        {90, 9, 9999}\n",
    "    };\n",
    "\n",
    "    int size = 3;\n",
    "\n",
    "    for (int i = 0; i < size; i++) {\n",
    "        int num1 = testCases[i][0];\n",
    "        int num2 = testCases[i][1];\n",
    "        int num3 = testCases[i][2];\n",
    "        \n",
    "        cout << \"Test case: num1 = \" << num1 \n",
    "             << \", num2 = \" << num2 \n",
    "             << \", num3 = \" << num3 << endl;\n",
    "        cout << \"Generated Key: \" << sol.generateKey(num1, num2, num3) << endl;\n",
    "        cout << \"-------------------------\" << endl;\n",
    "    }\n",
    "\n",
    "    return 0;\n",
    "}\n"
   ]
  },
  {
   "cell_type": "markdown",
   "id": "cd5602a5-2575-4d2b-9713-8362076faea0",
   "metadata": {},
   "source": [
    "Test Case:"
   ]
  },
  {
   "cell_type": "code",
   "execution_count": null,
   "id": "9b9c38bb",
   "metadata": {
    "vscode": {
     "languageId": "cpp"
    }
   },
   "outputs": [],
   "source": [
    "Solution sol;\n",
    "\n",
    "return 0;"
   ]
  }
 ],
 "metadata": {
  "kernelspec": {
   "display_name": "C++17",
   "language": "C++17",
   "name": "xcpp17"
  },
  "language_info": {
   "codemirror_mode": "text/x-c++src",
   "file_extension": ".cpp",
   "mimetype": "text/x-c++src",
   "name": "c++",
   "version": "17"
  }
 },
 "nbformat": 4,
 "nbformat_minor": 5
}
