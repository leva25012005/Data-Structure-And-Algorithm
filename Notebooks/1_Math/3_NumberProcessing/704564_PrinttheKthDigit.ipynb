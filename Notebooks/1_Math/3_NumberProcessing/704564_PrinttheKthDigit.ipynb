{
 "cells": [
  {
   "cell_type": "markdown",
   "id": "da93d6c9-8b34-46c4-83ca-ddcf2a2949cd",
   "metadata": {},
   "source": [
    "Solution:\n",
    "\n",
    "---\n",
    "\n",
    "---"
   ]
  },
  {
   "cell_type": "code",
   "execution_count": null,
   "id": "a65f5ca0",
   "metadata": {
    "vscode": {
     "languageId": "cpp"
    }
   },
   "outputs": [],
   "source": [
    "#include <iostream>\n",
    "#include <cmath>   // for pow\n",
    "#include <string>  // for to_string\n",
    "using namespace std;\n",
    "\n",
    "class Solution {\n",
    "public:\n",
    "    /*\n",
    "    =============================\n",
    "    - Name Solution: Using pow() and string conversion\n",
    "    - Idea: Compute a^b using the pow() function, convert it to a string, \n",
    "            then directly access the kth digit from the right. \n",
    "            This avoids manual digit extraction.\n",
    "    - Time: O(log(a^b)), due to the string conversion of the number\n",
    "    - Space: O(log(a^b)), for storing the number as a string\n",
    "    =============================\n",
    "    */\n",
    "    int kthDigitUsingString(int a, int b, int k) {\n",
    "        long long int x = pow(a, b);\n",
    "        string s = to_string(x);\n",
    "        return s[s.size() - k] - '0';\n",
    "    }\n",
    "    \n",
    "    /*\n",
    "    =============================\n",
    "    - Name Solution: Using multiplication and integer division\n",
    "    - Idea: Compute A^B manually using a loop to avoid floating-point errors, \n",
    "            then repeatedly divide by 10 (K-1) times to remove digits from the right, \n",
    "            and finally use modulo 10 to get the Kth digit from the right.\n",
    "    - Time: O(B + K), B for exponentiation loop, K for removing digits\n",
    "    - Space: O(1), no extra memory except variables\n",
    "    =============================\n",
    "    */\n",
    "    int kthDigitUsingMath(int A, int B, int K) {\n",
    "        long long result = 1;\n",
    "        for (int i = 0; i < B; i++) {\n",
    "            result *= A;\n",
    "        }\n",
    "        for (int i = 1; i < K; i++) {\n",
    "            result /= 10;\n",
    "        }\n",
    "        return result % 10;\n",
    "    }\n",
    "};\n",
    "\n",
    "\n",
    "int main() {\n",
    "    Solution sol;\n",
    "\n",
    "    // Test cases (a, b, k)\n",
    "    int testCases[][3] = {\n",
    "        {2, 3, 1},  // 2^3 = 8 → 1st digit from right = 8\n",
    "        {2, 5, 2},  // 2^5 = 32 → 2nd digit from right = 3\n",
    "        {7, 2, 1},  // 7^2 = 49 → last digit = 9\n",
    "        {7, 2, 2},  // 7^2 = 49 → 2nd digit from right = 4\n",
    "        {10, 3, 3}  // 10^3 = 1000 → 3rd digit from right = 0\n",
    "    };\n",
    "\n",
    "    int size = sizeof(testCases) / sizeof(testCases[0]);\n",
    "\n",
    "    for (int i = 0; i < size; i++) {\n",
    "        int a = testCases[i][0], b = testCases[i][1], k = testCases[i][2];\n",
    "        cout << \"Test case: a = \" << a << \", b = \" << b << \", k = \" << k << endl;\n",
    "        cout << \"Using string method: \" << sol.kthDigitUsingString(a, b, k) << endl;\n",
    "        cout << \"Using math method: \" << sol.kthDigitUsingMath(a, b, k) << endl;\n",
    "        cout << \"-------------------------\" << endl;\n",
    "    }\n",
    "\n",
    "    return 0;\n",
    "}\n"
   ]
  },
  {
   "cell_type": "markdown",
   "id": "cd5602a5-2575-4d2b-9713-8362076faea0",
   "metadata": {},
   "source": [
    "Test Case:"
   ]
  },
  {
   "cell_type": "code",
   "execution_count": null,
   "id": "9b9c38bb",
   "metadata": {
    "vscode": {
     "languageId": "cpp"
    }
   },
   "outputs": [],
   "source": [
    "Solution sol;\n",
    "\n",
    "return 0;"
   ]
  }
 ],
 "metadata": {
  "kernelspec": {
   "display_name": "C++17",
   "language": "C++17",
   "name": "xcpp17"
  },
  "language_info": {
   "codemirror_mode": "text/x-c++src",
   "file_extension": ".cpp",
   "mimetype": "text/x-c++src",
   "name": "c++",
   "version": "17"
  }
 },
 "nbformat": 4,
 "nbformat_minor": 5
}
