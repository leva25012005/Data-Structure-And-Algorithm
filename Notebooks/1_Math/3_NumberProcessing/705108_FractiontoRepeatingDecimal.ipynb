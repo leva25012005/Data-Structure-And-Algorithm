{
 "cells": [
  {
   "cell_type": "markdown",
   "id": "da93d6c9-8b34-46c4-83ca-ddcf2a2949cd",
   "metadata": {},
   "source": [
    "Solution:\n",
    "\n",
    "---\n",
    "\n",
    "---"
   ]
  },
  {
   "cell_type": "code",
   "execution_count": null,
   "id": "a65f5ca0",
   "metadata": {
    "vscode": {
     "languageId": "cpp"
    }
   },
   "outputs": [],
   "source": [
    "#include <iostream>\n",
    "#include <string>\n",
    "#include <unordered_map>\n",
    "#include <cmath>\n",
    "#include <vector>\n",
    "using namespace std;\n",
    "\n",
    "class Solution {\n",
    "public:\n",
    "    /*\n",
    "    =============================\n",
    "    - Name Solution: Fraction to Recurring Decimal\n",
    "    - Idea: Simulate long division to convert a fraction a/b to its decimal representation. \n",
    "            Use a hash map to store remainders and their positions in the result string \n",
    "            to detect repeating cycles and insert parentheses accordingly.\n",
    "    - Time: O(N), where N is the length of the recurring cycle\n",
    "    - Space: O(N), for storing remainders in the hash map\n",
    "    =============================\n",
    "*/\n",
    "    string calculateFraction(int a, int b) {\n",
    "        \n",
    "        // If numerator is zero, the result is always 0\n",
    "        if (a == 0)\n",
    "            return \"0\";\n",
    "\n",
    "        // If exactly one of numerator or denominator is negative,\n",
    "        // then the result should be negative\n",
    "        string res = (a < 0) ^ (b < 0) ? \"-\" : \"\";\n",
    "\n",
    "        // Convert numerator and denominator to positive values\n",
    "        a = abs(a);\n",
    "        b = abs(b);\n",
    "\n",
    "        // Append the integer part before the decimal point\n",
    "        res += to_string(a / b);\n",
    "\n",
    "        // Calculate the remainder\n",
    "        int rem = a % b;\n",
    "        \n",
    "        // If divisible completely, just return the integer result\n",
    "        if (rem == 0)\n",
    "            return res;\n",
    "\n",
    "        // Add decimal point since remainder exists\n",
    "        res.append(\".\");\n",
    "\n",
    "        // Map to store remainder positions to detect cycles\n",
    "        unordered_map<int, int> mp;\n",
    "\n",
    "        // Long division simulation\n",
    "        while (rem > 0) {\n",
    "\n",
    "            // If this remainder is already seen,\n",
    "            // then we found a repeating fraction\n",
    "            if (mp.find(rem) != mp.end()) {\n",
    "\n",
    "                // Insert \"(\" at the first occurrence of this remainder\n",
    "                res.insert(mp[rem], \"(\");\n",
    "\n",
    "                // Append \")\" at the end to mark the cycle\n",
    "                res.append(\")\");\n",
    "                break;\n",
    "            }\n",
    "            \n",
    "            // Store the position of this remainder in the result string\n",
    "            mp[rem] = res.size();\n",
    "\n",
    "            // Multiply remainder by 10 for the next digit\n",
    "            rem = rem * 10;\n",
    "\n",
    "            // Append quotient digit to the result\n",
    "            res += to_string(rem / b);\n",
    "\n",
    "            // Update remainder\n",
    "            rem = rem % b;\n",
    "        }\n",
    "\n",
    "        return res;\n",
    "    }\n",
    "};\n",
    "\n",
    "int main() {\n",
    "    Solution sol;\n",
    "\n",
    "    // Test cases\n",
    "    vector<pair<int,int>> testCases = {\n",
    "        {1, 2},   // 0.5\n",
    "        {2, 3},   // 0.(6)\n",
    "        {4, 2},   // 2\n",
    "        {1, 6},   // 0.1(6)\n",
    "        {-50, 8}, // -6.25\n",
    "        {7, -12}  // -0.58(3)\n",
    "    };\n",
    "\n",
    "    for (auto &tc : testCases) {\n",
    "        int a = tc.first, b = tc.second;\n",
    "        cout << \"Fraction: \" << a << \"/\" << b \n",
    "             << \" = \" << sol.calculateFraction(a, b) << endl;\n",
    "        cout << \"-------------------------\" << endl;\n",
    "    }\n",
    "\n",
    "    return 0;\n",
    "}\n"
   ]
  },
  {
   "cell_type": "markdown",
   "id": "cd5602a5-2575-4d2b-9713-8362076faea0",
   "metadata": {},
   "source": [
    "Test Case:"
   ]
  },
  {
   "cell_type": "code",
   "execution_count": null,
   "id": "9b9c38bb",
   "metadata": {
    "vscode": {
     "languageId": "cpp"
    }
   },
   "outputs": [],
   "source": [
    "Solution sol;\n",
    "\n",
    "return 0;"
   ]
  }
 ],
 "metadata": {
  "kernelspec": {
   "display_name": "C++17",
   "language": "C++17",
   "name": "xcpp17"
  },
  "language_info": {
   "codemirror_mode": "text/x-c++src",
   "file_extension": ".cpp",
   "mimetype": "text/x-c++src",
   "name": "c++",
   "version": "17"
  }
 },
 "nbformat": 4,
 "nbformat_minor": 5
}
