{
 "cells": [
  {
   "cell_type": "markdown",
   "id": "2e51741c-898b-4e1c-a191-e31614eb33e7",
   "metadata": {},
   "source": [
    "Library"
   ]
  },
  {
   "cell_type": "code",
   "execution_count": 6,
   "id": "3c0af361-2b1f-4d5b-83d9-698e55193fab",
   "metadata": {},
   "outputs": [],
   "source": [
    "#include <iostream>\n",
    "using namespace std;"
   ]
  },
  {
   "cell_type": "markdown",
   "id": "6425fabb-7eb3-448f-870b-72ad81d20b71",
   "metadata": {},
   "source": [
    "Solution:\n",
    "- Name Method: Direct Operation\n",
    "- Idea: Sum = num1 + num_2\n",
    "- Time: O(1)\n",
    "- Space: O(1)"
   ]
  },
  {
   "cell_type": "code",
   "execution_count": 7,
   "id": "86b7877f-0d9c-425d-9cae-6a6bf9ea23e8",
   "metadata": {},
   "outputs": [],
   "source": [
    "class Solution {\n",
    "public:\n",
    "    int sum(int num1, int num2) {\n",
    "        return num1 + num2;\n",
    "    }\n",
    "};"
   ]
  },
  {
   "cell_type": "markdown",
   "id": "e1628d3a-c402-42fd-a7e8-1b865514065a",
   "metadata": {},
   "source": [
    "Test cases:"
   ]
  },
  {
   "cell_type": "code",
   "execution_count": 8,
   "id": "a87247b0-7ae0-4b2b-a6b5-8e4087b68c39",
   "metadata": {},
   "outputs": [
    {
     "name": "stdout",
     "output_type": "stream",
     "text": [
      "Test case: num1 = 1, num2 = 2\n",
      "Sum: 3\n",
      "-------------------------\n",
      "Test case: num1 = 5, num2 = 10\n",
      "Sum: 15\n",
      "-------------------------\n",
      "Test case: num1 = 10, num2 = 20\n",
      "Sum: 30\n",
      "-------------------------\n",
      "Test case: num1 = 100, num2 = 200\n",
      "Sum: 300\n",
      "-------------------------\n"
     ]
    }
   ],
   "source": [
    "    Solution sol;\n",
    "\n",
    "    // Test cases: pairs of numbers\n",
    "    pair<int, int> testCases[] = {{1, 2}, {5, 10}, {10, 20}, {100, 200}};\n",
    "    int size = sizeof(testCases) / sizeof(testCases[0]);\n",
    "\n",
    "    for(int i = 0; i < size; i++) {\n",
    "        int num1 = testCases[i].first;\n",
    "        int num2 = testCases[i].second;\n",
    "        cout << \"Test case: num1 = \" << num1 << \", num2 = \" << num2 << endl;\n",
    "        cout << \"Sum: \" << sol.sum(num1, num2) << endl;\n",
    "        cout << \"-------------------------\" << endl;\n",
    "    }\n",
    "\n",
    "    return 0;"
   ]
  }
 ],
 "metadata": {
  "kernelspec": {
   "display_name": "C++17",
   "language": "C++17",
   "name": "xcpp17"
  },
  "language_info": {
   "codemirror_mode": "text/x-c++src",
   "file_extension": ".cpp",
   "mimetype": "text/x-c++src",
   "name": "c++",
   "version": "17"
  }
 },
 "nbformat": 4,
 "nbformat_minor": 5
}
