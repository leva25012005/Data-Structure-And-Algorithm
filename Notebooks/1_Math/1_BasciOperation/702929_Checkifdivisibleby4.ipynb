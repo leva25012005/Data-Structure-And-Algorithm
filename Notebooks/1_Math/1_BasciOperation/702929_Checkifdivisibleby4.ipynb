{
 "cells": [
  {
   "cell_type": "markdown",
   "id": "069b5bed-e6eb-4994-954f-4949c061df16",
   "metadata": {},
   "source": [
    "Library:"
   ]
  },
  {
   "cell_type": "code",
   "execution_count": 4,
   "id": "a2e664f7-04d2-4119-8f37-48e4502ed228",
   "metadata": {},
   "outputs": [],
   "source": [
    "#include<iostream>\n",
    "#include<vector>\n",
    "using namespace std;"
   ]
  },
  {
   "cell_type": "markdown",
   "id": "da93d6c9-8b34-46c4-83ca-ddcf2a2949cd",
   "metadata": {},
   "source": [
    "Solution\n",
    "\n",
    "---\n",
    "- Method 1:\n",
    "    - Solution Namen: Using Last Digits Check\n",
    "    - Idea:\n",
    "        - For divisibility by 4, only the last two digits of a number matter.\n",
    "        - If the number has one digit, check that digit % 4 == 0.\n",
    "        - If it has two or more digits, form a number from the last two digits and check % 4 == 0.\n",
    "    - Time: O(1), only last one or two digits are processed\n",
    "    - Space: O(1), constant space\n",
    "---\n",
    "- Method 2:\n",
    "    - Solution Name: Using Convert and Modulo\n",
    "    - Idea: Convert the string to an integer and check divisibility by 4 using the modulo operator.\n",
    "    - Time: O(1) for small numbers (depends on stoi), practically constant for reasonable string lengths\n",
    "    - Space: O(1), no extra structures used\n",
    "---"
   ]
  },
  {
   "cell_type": "code",
   "execution_count": 5,
   "id": "c219f965-607a-4e69-bb4d-48f4db3a5a25",
   "metadata": {},
   "outputs": [],
   "source": [
    "class Solution {\n",
    "public:\n",
    "    // Method 1\n",
    "    int divisibleBy4(string N) {\n",
    "        int n = N.size();\n",
    "\n",
    "        if (n == 1) {\n",
    "            int lastDigit = N[n - 1] - '0';\n",
    "            return (lastDigit % 4 == 0);\n",
    "        }\n",
    "\n",
    "        int lastTwo = (N[n - 2] - '0') * 10 + (N[n - 1] - '0');\n",
    "        return (lastTwo % 4 == 0);\n",
    "    }\n",
    "\n",
    "    // Method 2\n",
    "    int divisibleBy4Convert(string N) {\n",
    "        return stoi(N) % 4 == 0;\n",
    "    }\n",
    "};"
   ]
  },
  {
   "cell_type": "markdown",
   "id": "cd5602a5-2575-4d2b-9713-8362076faea0",
   "metadata": {},
   "source": [
    "Test Case:"
   ]
  },
  {
   "cell_type": "code",
   "execution_count": 6,
   "id": "1c955dd3-1495-4458-a68e-68cb92dc8db4",
   "metadata": {},
   "outputs": [
    {
     "name": "stdout",
     "output_type": "stream",
     "text": [
      "Test case N = 8\n",
      "Divisible by 4? Yes\n",
      "-------------------------\n",
      "Test case N = 12\n",
      "Divisible by 4? Yes\n",
      "-------------------------\n",
      "Test case N = 25\n",
      "Divisible by 4? No\n",
      "-------------------------\n",
      "Test case N = 100\n",
      "Divisible by 4? Yes\n",
      "-------------------------\n",
      "Test case N = 1234\n",
      "Divisible by 4? No\n",
      "-------------------------\n",
      "Test case N = 9999\n",
      "Divisible by 4? No\n",
      "-------------------------\n"
     ]
    }
   ],
   "source": [
    "    Solution sol;\n",
    "\n",
    "    // Test cases\n",
    "    vector<string> testCases = {\"8\", \"12\", \"25\", \"100\", \"1234\", \"9999\"};\n",
    "\n",
    "    for (auto &num : testCases) {\n",
    "        cout << \"Test case N = \" << num << endl;\n",
    "        cout << \"Divisible by 4? \" \n",
    "             << (sol.divisibleBy4Convert(num) ? \"Yes\" : \"No\") << endl;\n",
    "        cout << \"-------------------------\" << endl;\n",
    "    }\n",
    "\n",
    "    return 0;"
   ]
  }
 ],
 "metadata": {
  "kernelspec": {
   "display_name": "C++17",
   "language": "C++17",
   "name": "xcpp17"
  },
  "language_info": {
   "codemirror_mode": "text/x-c++src",
   "file_extension": ".cpp",
   "mimetype": "text/x-c++src",
   "name": "c++",
   "version": "17"
  }
 },
 "nbformat": 4,
 "nbformat_minor": 5
}
