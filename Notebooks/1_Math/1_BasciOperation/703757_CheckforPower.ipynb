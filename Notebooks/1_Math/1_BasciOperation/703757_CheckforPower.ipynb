{
 "cells": [
  {
   "cell_type": "markdown",
   "id": "069b5bed-e6eb-4994-954f-4949c061df16",
   "metadata": {},
   "source": [
    "Library:"
   ]
  },
  {
   "cell_type": "code",
   "execution_count": 1,
   "id": "b3f68701-6fe1-425e-838d-87dd9a40cc9c",
   "metadata": {},
   "outputs": [],
   "source": [
    "#include<iostream>\n",
    "#include<vector>\n",
    "#include<cmath> // for log, fabs, round\n",
    "using namespace std;"
   ]
  },
  {
   "cell_type": "markdown",
   "id": "da93d6c9-8b34-46c4-83ca-ddcf2a2949cd",
   "metadata": {},
   "source": [
    "Solution:\n",
    "\n",
    "---\n",
    "- Method 1:\n",
    "  - Solution Name: Division Loop\n",
    "  - Idea:\n",
    "    - Keep dividing y by x repeatedly.\n",
    "    - If y becomes 1 after all divisions, then y is a power of x.\n",
    "    - Otherwise, it is not. Handles x = 1 as a special case.\n",
    "    - Example: y = 27, x = 3 -> 27/3=9, 9/3=3, 3/3=1 -> true\n",
    "  - Time: O(log_y), since y is divided by x until it becomes 1\n",
    "  - Space: O(1), uses constant extra space\n",
    "---\n",
    "- Method 2:\n",
    "  - Solution Name: Logarithm Method\n",
    "  - Idea:\n",
    "     - Use logarithms to check if y is a power of x.\n",
    "     - If y is a power of x, log(y)/log(x) should be an integer.\n",
    "     - Floating-point errors are handled by comparing with a small epsilon.\n",
    "     - Example: log(27)/log(3) ≈ 3 -> true\n",
    "  - Time: O(1), only computes logarithms\n",
    "  -  Space: O(1), uses constant extra space\n",
    "---"
   ]
  },
  {
   "cell_type": "code",
   "execution_count": 2,
   "id": "57e51e56-0454-450b-b7c8-5ad68787317d",
   "metadata": {},
   "outputs": [],
   "source": [
    "class Solution {\n",
    "public:\n",
    "    // Method 1\n",
    "    bool isPowerOfX_Division(int x, int y) {\n",
    "        if (x == 1) \n",
    "            return (y == 1);\n",
    "        while (y % x == 0) {\n",
    "            y /= x;\n",
    "        }\n",
    "        return (y == 1);\n",
    "    }\n",
    "\n",
    "    // Method 2\n",
    "    bool isPowerOfX_Log(int x, int y) {\n",
    "        if (x == 1) \n",
    "            return (y == 1);\n",
    "        double val = log(y) / log(x);\n",
    "        return fabs(val - round(val)) < 1e-9;\n",
    "    }\n",
    "};"
   ]
  },
  {
   "cell_type": "markdown",
   "id": "cd5602a5-2575-4d2b-9713-8362076faea0",
   "metadata": {},
   "source": [
    "Test Case:"
   ]
  },
  {
   "cell_type": "code",
   "execution_count": 3,
   "id": "7a574a3c-d3c3-4b4c-ba05-aad284635679",
   "metadata": {},
   "outputs": [
    {
     "name": "stdout",
     "output_type": "stream",
     "text": [
      "Test case: x = 2, y = 8\n",
      "Division method: True\n",
      "Logarithm method: True\n",
      "-------------------------\n",
      "Test case: x = 3, y = 27\n",
      "Division method: True\n",
      "Logarithm method: True\n",
      "-------------------------\n",
      "Test case: x = 2, y = 12\n",
      "Division method: False\n",
      "Logarithm method: False\n",
      "-------------------------\n",
      "Test case: x = 5, y = 1\n",
      "Division method: True\n",
      "Logarithm method: True\n",
      "-------------------------\n",
      "Test case: x = 1, y = 1\n",
      "Division method: True\n",
      "Logarithm method: True\n",
      "-------------------------\n"
     ]
    }
   ],
   "source": [
    "Solution sol;\n",
    "\n",
    "    // Test cases (x, y)\n",
    "    vector<pair<int, int>> testCases = {\n",
    "        {2, 8},    // true: 2^3 = 8\n",
    "        {3, 27},   // true: 3^3 = 27\n",
    "        {2, 12},   // false\n",
    "        {5, 1},    // false (unless x=1 and y=1)\n",
    "        {1, 1}     // true\n",
    "    };\n",
    "\n",
    "    for (auto &tc : testCases) {\n",
    "        int x = tc.first, y = tc.second;\n",
    "        cout << \"Test case: x = \" << x << \", y = \" << y << endl;\n",
    "        cout << \"Division method: \" << (sol.isPowerOfX_Division(x, y) ? \"True\" : \"False\") << endl;\n",
    "        cout << \"Logarithm method: \" << (sol.isPowerOfX_Log(x, y) ? \"True\" : \"False\") << endl;\n",
    "        cout << \"-------------------------\" << endl;\n",
    "    }\n",
    "\n",
    "    return 0;"
   ]
  }
 ],
 "metadata": {
  "kernelspec": {
   "display_name": "C++17",
   "language": "C++17",
   "name": "xcpp17"
  },
  "language_info": {
   "codemirror_mode": "text/x-c++src",
   "file_extension": ".cpp",
   "mimetype": "text/x-c++src",
   "name": "c++",
   "version": "17"
  }
 },
 "nbformat": 4,
 "nbformat_minor": 5
}
