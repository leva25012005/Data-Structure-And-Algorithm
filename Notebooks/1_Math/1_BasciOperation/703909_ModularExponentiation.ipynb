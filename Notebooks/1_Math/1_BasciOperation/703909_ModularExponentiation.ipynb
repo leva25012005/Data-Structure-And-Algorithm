{
 "cells": [
  {
   "cell_type": "markdown",
   "id": "069b5bed-e6eb-4994-954f-4949c061df16",
   "metadata": {},
   "source": [
    "Library:"
   ]
  },
  {
   "cell_type": "code",
   "execution_count": 1,
   "id": "00a889ac-e8d0-4d85-bd07-d2e4bcebd383",
   "metadata": {},
   "outputs": [],
   "source": [
    "#include<iostream>\n",
    "using namespace std;"
   ]
  },
  {
   "cell_type": "markdown",
   "id": "da93d6c9-8b34-46c4-83ca-ddcf2a2949cd",
   "metadata": {},
   "source": [
    "Solution:\n",
    "\n",
    "---\n",
    "- Method 1:\n",
    "    - Solution Name: Fast Exponentiation (Binary Exponentiation / Exponentiation by squaring)\n",
    "    - Idea:\n",
    "        - Compute x^n % M efficiently by squaring the base and halving the exponent at each step.\n",
    "        - If the exponent is odd, multiply the result by current base. This avoids computing x^n directly.\n",
    "    - Time: O(log N), since exponent n is halved at each step\n",
    "    - Space: O(1), only a few variables used\n",
    "---\n",
    "- Method 2:\n",
    "    - Solution Name: Simple Loop Method\n",
    "    - Idea:\n",
    "         - Compute x^n % M by multiplying x repeatedly n times and taking modulo at each step.\n",
    "         -  Simple and straightforward but less efficient for large n.\n",
    "    - Time: O(N), multiplies n times\n",
    "    - Space: O(1), only a few variables used\n",
    "---"
   ]
  },
  {
   "cell_type": "code",
   "execution_count": 2,
   "id": "148dd946-79d3-47eb-a40e-076ec18455cb",
   "metadata": {},
   "outputs": [],
   "source": [
    "class Solution {\n",
    "public:\n",
    "    // Method 1\n",
    "    int powModFast(int x, int n, int M) {\n",
    "        long res = 1;\n",
    "        x %= M;  // ensure x < M to avoid overflow\n",
    "        while (n > 0) {\n",
    "            if (n & 1) // if n is odd\n",
    "                res = (res * x) % M;\n",
    "            x = (long)x * x % M; // square the base\n",
    "            n >>= 1; // divide n by 2\n",
    "        }\n",
    "        return (int)res;\n",
    "    }\n",
    "\n",
    "    // Method 2\n",
    "    int powModLoop(int x, int n, int M) {\n",
    "        long res = 1;\n",
    "        for (int i = 1; i <= n; i++) {\n",
    "            res = (res * x) % M;\n",
    "        }\n",
    "        return (int)res;\n",
    "    }\n",
    "};"
   ]
  },
  {
   "cell_type": "markdown",
   "id": "cd5602a5-2575-4d2b-9713-8362076faea0",
   "metadata": {},
   "source": [
    "Test Case:"
   ]
  },
  {
   "cell_type": "code",
   "execution_count": 3,
   "id": "73ba59b0-3c1c-4e00-bc91-46bd690ae31a",
   "metadata": {},
   "outputs": [
    {
     "name": "stdout",
     "output_type": "stream",
     "text": [
      "Test case: x = 2, n = 10, M = 1000\n",
      "Result using Loop: 24\n",
      "Result using Fast Exponentiation: 24\n",
      "-------------------------\n",
      "Test case: x = 3, n = 7, M = 13\n",
      "Result using Loop: 3\n",
      "Result using Fast Exponentiation: 3\n",
      "-------------------------\n",
      "Test case: x = 10, n = 5, M = 17\n",
      "Result using Loop: 6\n",
      "Result using Fast Exponentiation: 6\n",
      "-------------------------\n",
      "Test case: x = 5, n = 20, M = 100\n",
      "Result using Loop: 25\n",
      "Result using Fast Exponentiation: 25\n",
      "-------------------------\n"
     ]
    }
   ],
   "source": [
    "Solution sol;\n",
    "\n",
    "    // Test cases\n",
    "    int testCases[][3] = {\n",
    "        {2, 10, 1000},   // 2^10 % 1000\n",
    "        {3, 7, 13},      // 3^7 % 13\n",
    "        {10, 5, 17},     // 10^5 % 17\n",
    "        {5, 20, 100},    // 5^20 % 100\n",
    "    };\n",
    "\n",
    "    int size = sizeof(testCases) / sizeof(testCases[0]);\n",
    "\n",
    "    for (int i = 0; i < size; i++) {\n",
    "        int x = testCases[i][0];\n",
    "        int n = testCases[i][1];\n",
    "        int M = testCases[i][2];\n",
    "\n",
    "        cout << \"Test case: x = \" << x << \", n = \" << n << \", M = \" << M << endl;\n",
    "        cout << \"Result using Loop: \" << sol.powModLoop(x, n, M) << endl;\n",
    "        cout << \"Result using Fast Exponentiation: \" << sol.powModFast(x, n, M) << endl;\n",
    "        cout << \"-------------------------\" << endl;\n",
    "    }\n",
    "\n",
    "    return 0;"
   ]
  }
 ],
 "metadata": {
  "kernelspec": {
   "display_name": "C++17",
   "language": "C++17",
   "name": "xcpp17"
  },
  "language_info": {
   "codemirror_mode": "text/x-c++src",
   "file_extension": ".cpp",
   "mimetype": "text/x-c++src",
   "name": "c++",
   "version": "17"
  }
 },
 "nbformat": 4,
 "nbformat_minor": 5
}
