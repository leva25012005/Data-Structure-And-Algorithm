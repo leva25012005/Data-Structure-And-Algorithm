{
 "cells": [
  {
   "cell_type": "markdown",
   "id": "069b5bed-e6eb-4994-954f-4949c061df16",
   "metadata": {},
   "source": [
    "Library:"
   ]
  },
  {
   "cell_type": "code",
   "execution_count": 1,
   "id": "8bc03a9b-2811-495b-b350-a1352485a3e8",
   "metadata": {},
   "outputs": [],
   "source": [
    "#include<iostream>\n",
    "#include<vector>\n",
    "#include<utility> // Using std::pair và std::swap\n",
    "using namespace std;"
   ]
  },
  {
   "cell_type": "markdown",
   "id": "da93d6c9-8b34-46c4-83ca-ddcf2a2949cd",
   "metadata": {},
   "source": [
    "Solution:\n",
    "- Method 1:\n",
    "  - Name Solution: Swap using temporary variable\n",
    "  - Idea:\n",
    "    - Use a temporary variable to hold one value while swapping the two numbers.\n",
    "    - This is the classic and safe method for swapping.\n",
    "  - Time: O(1)\n",
    "  - Space: O(1)\n",
    "- Method 2:\n",
    "     - Name Solution: Swap using addition & subtraction\n",
    "    - Idea:\n",
    "        - Swap two numbers without a temporary variable by using arithmetic operations.\n",
    "        - Be careful of integer overflow in some languages.\n",
    "    - Time: O(1)\n",
    "    - Space: O(1)\n",
    "- Method 3:\n",
    "    - Name Solution: Built-in Swap\n",
    "    - Idea: Use the language's built-in swap function (e.g., std::swap in C++) for readability and safety.\n",
    "    - Time: O(1)\n",
    "    - Space: O(1)\n"
   ]
  },
  {
   "cell_type": "code",
   "execution_count": null,
   "id": "13526826-a7e0-42b0-9cb1-544aaad0ee19",
   "metadata": {},
   "outputs": [],
   "source": [
    "class Solution {\n",
    "public: \n",
    "    pair<int, int> swapUsingTemp(int a, int b) {\n",
    "        int temp = a;\n",
    "        a = b;\n",
    "        b = temp;\n",
    "        return {a, b};\n",
    "    }\n",
    "\n",
    "    pair<int, int> swapUsingMath(int a, int b) {\n",
    "        a = a + b;\n",
    "        b = a - b;\n",
    "        a = a - b;\n",
    "        return {a, b};\n",
    "    }\n",
    "    \n",
    "    pair<int, int> swapUsingBuiltin(int a, int b) {\n",
    "        std::swap(a, b);\n",
    "        return {a, b};\n",
    "    }\n",
    "};"
   ]
  },
  {
   "cell_type": "markdown",
   "id": "cd5602a5-2575-4d2b-9713-8362076faea0",
   "metadata": {},
   "source": [
    "Test Case:"
   ]
  },
  {
   "cell_type": "code",
   "execution_count": null,
   "id": "cbd36623-e093-4730-abb4-6911bd0f868d",
   "metadata": {},
   "outputs": [],
   "source": [
    "Solution sol;\n",
    "\n",
    "// Test cases\n",
    "vector<pair<int, int>> testCases = {\n",
    "    {2, 5},\n",
    "    {10, 20},\n",
    "    {-3, 7}\n",
    "};\n",
    "\n",
    "for (auto &tc : testCases) {\n",
    "    int a = tc.first, b = tc.second;\n",
    "\n",
    "    cout << \"Original: a = \" << a << \", b = \" << b << endl;\n",
    "\n",
    "    // 1. Swap using temp\n",
    "    auto res1 = sol.swapUsingTemp(a, b);\n",
    "    cout << \"Swap using temp: a = \" << res1.first << \", b = \" << res1.second << endl;\n",
    "\n",
    "    // 2. Swap using math\n",
    "    auto res2 = sol.swapUsingMath(a, b);\n",
    "    cout << \"Swap using math: a = \" << res2.first << \", b = \" << res2.second << endl;\n",
    "\n",
    "    // 3. Swap using built-in std::swap\n",
    "    int x = a, y = b;\n",
    "    swap(x, y);\n",
    "    cout << \"Swap using std::swap: a = \" << x << \", b = \" << y << endl;\n",
    "\n",
    "    cout << \"-------------------------\" << endl;\n",
    "}\n",
    "\n",
    "return 0;"
   ]
  }
 ],
 "metadata": {
  "kernelspec": {
   "display_name": "C++17",
   "language": "C++17",
   "name": "xcpp17"
  },
  "language_info": {
   "codemirror_mode": "text/x-c++src",
   "file_extension": ".cpp",
   "mimetype": "text/x-c++src",
   "name": "c++",
   "version": "17"
  }
 },
 "nbformat": 4,
 "nbformat_minor": 5
}
