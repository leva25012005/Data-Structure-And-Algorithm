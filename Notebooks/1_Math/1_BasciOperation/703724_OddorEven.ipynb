{
 "cells": [
  {
   "cell_type": "markdown",
   "id": "069b5bed-e6eb-4994-954f-4949c061df16",
   "metadata": {},
   "source": [
    "Library:"
   ]
  },
  {
   "cell_type": "code",
   "execution_count": 1,
   "id": "1020d676-61e2-40c0-92e5-d51156424345",
   "metadata": {},
   "outputs": [],
   "source": [
    "#include<iostream>\n",
    "using namespace std;"
   ]
  },
  {
   "cell_type": "markdown",
   "id": "da93d6c9-8b34-46c4-83ca-ddcf2a2949cd",
   "metadata": {},
   "source": [
    "Solution:\n",
    "    - Name Solution: Using Modulo Operator\n",
    "    - Idead: Using modulo operator - \"%\"\"\n",
    "    - Time: O(1)\n",
    "    - Space: O(1)"
   ]
  },
  {
   "cell_type": "code",
   "execution_count": 2,
   "id": "fb33c326-8b11-4b46-93f5-cb77da3010c5",
   "metadata": {},
   "outputs": [],
   "source": [
    "class Solution {\n",
    "public: \n",
    "    bool isEven(int n) {\n",
    "        return n % 2 == 0;\n",
    "    }\n",
    "};"
   ]
  },
  {
   "cell_type": "markdown",
   "id": "cd5602a5-2575-4d2b-9713-8362076faea0",
   "metadata": {},
   "source": [
    "Test Caste:"
   ]
  },
  {
   "cell_type": "code",
   "execution_count": 3,
   "id": "6d8dbce7-815c-497b-9477-ad9eff65e512",
   "metadata": {},
   "outputs": [
    {
     "name": "stdout",
     "output_type": "stream",
     "text": [
      "Test case n = 1\n",
      "1 is Odd\n",
      "-------------------------\n",
      "Test case n = 5\n",
      "5 is Odd\n",
      "-------------------------\n",
      "Test case n = 10\n",
      "10 is Even\n",
      "-------------------------\n",
      "Test case n = 100\n",
      "100 is Even\n",
      "-------------------------\n"
     ]
    }
   ],
   "source": [
    "Solution sol;\n",
    "\n",
    "    // Test cases\n",
    "    int testCases[] = {1, 5, 10, 100};\n",
    "    int size = sizeof(testCases) / sizeof(testCases[0]);\n",
    "\n",
    "    for (int i = 0; i < size; i++) {\n",
    "        int n = testCases[i];\n",
    "        cout << \"Test case n = \" << n << endl;\n",
    "        if (sol.isEven(n)) {\n",
    "            cout << n << \" is Even\" << endl;\n",
    "        } else {\n",
    "            cout << n << \" is Odd\" << endl;\n",
    "        }\n",
    "        cout << \"-------------------------\" << endl;\n",
    "    }\n",
    "\n",
    "    return 0;"
   ]
  }
 ],
 "metadata": {
  "kernelspec": {
   "display_name": "C++17",
   "language": "C++17",
   "name": "xcpp17"
  },
  "language_info": {
   "codemirror_mode": "text/x-c++src",
   "file_extension": ".cpp",
   "mimetype": "text/x-c++src",
   "name": "c++",
   "version": "17"
  }
 },
 "nbformat": 4,
 "nbformat_minor": 5
}
