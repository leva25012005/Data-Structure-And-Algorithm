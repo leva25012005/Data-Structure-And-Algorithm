{
 "cells": [
  {
   "cell_type": "markdown",
   "id": "069b5bed-e6eb-4994-954f-4949c061df16",
   "metadata": {},
   "source": [
    "Library:"
   ]
  },
  {
   "cell_type": "code",
   "execution_count": 1,
   "id": "81d52711-4209-4609-84c5-e67141537ff1",
   "metadata": {},
   "outputs": [],
   "source": [
    "#include <iostream>\n",
    "#include <vector>\n",
    "#include <cmath>\n",
    "using namespace std;"
   ]
  },
  {
   "cell_type": "markdown",
   "id": "da93d6c9-8b34-46c4-83ca-ddcf2a2949cd",
   "metadata": {},
   "source": [
    "Solution:\n",
    "\n",
    "---\n",
    "- Name Solution: Closest Divisors\n",
    "- Idea:\n",
    "    - To find two divisors of either (x + 1) or (x + 2) whose difference is minimized,\n",
    "    - start checking from sqrt(x + 2) downward. Factors closer to the square root will\n",
    "    - naturally have a smaller difference. Return the first valid pair found.\n",
    "- Time: O(sqrt(N)), since we iterate down from sqrt(x + 2)\n",
    "- Space: O(1), only constant extra space used\n",
    "---"
   ]
  },
  {
   "cell_type": "code",
   "execution_count": 2,
   "id": "a9feacf2-0132-4fd5-959b-1764dc726f1b",
   "metadata": {},
   "outputs": [],
   "source": [
    "class Solution {\n",
    "public:\n",
    "    vector<int> closestDivisors(int x) {\n",
    "        for (int a = sqrt(x + 2); a > 0; --a) {\n",
    "            if ((x + 1) % a == 0)\n",
    "                return {a, (x + 1) / a};\n",
    "            if ((x + 2) % a == 0)\n",
    "                return {a, (x + 2) / a};\n",
    "        }\n",
    "        return {};\n",
    "    }\n",
    "};"
   ]
  },
  {
   "cell_type": "markdown",
   "id": "cd5602a5-2575-4d2b-9713-8362076faea0",
   "metadata": {},
   "source": [
    "Test Case:"
   ]
  },
  {
   "cell_type": "code",
   "execution_count": 3,
   "id": "98c49c0a-3800-4d29-81f2-4922fc024e6a",
   "metadata": {},
   "outputs": [
    {
     "name": "stdout",
     "output_type": "stream",
     "text": [
      "x = 8 -> Closest divisors: 3, 3\n",
      "-------------------------\n",
      "x = 123 -> Closest divisors: 5, 25\n",
      "-------------------------\n",
      "x = 999 -> Closest divisors: 25, 40\n",
      "-------------------------\n"
     ]
    }
   ],
   "source": [
    "Solution sol;\n",
    "\n",
    "    // Test cases\n",
    "    vector<int> testCases = {8, 123, 999};\n",
    "\n",
    "    for (int x : testCases) {\n",
    "        vector<int> res = sol.closestDivisors(x);\n",
    "        cout << \"x = \" << x << \" -> Closest divisors: \";\n",
    "        cout << res[0] << \", \" << res[1] << endl;\n",
    "        cout << \"-------------------------\" << endl;\n",
    "    }\n",
    "\n",
    "    return 0;"
   ]
  }
 ],
 "metadata": {
  "kernelspec": {
   "display_name": "C++17",
   "language": "C++17",
   "name": "xcpp17"
  },
  "language_info": {
   "codemirror_mode": "text/x-c++src",
   "file_extension": ".cpp",
   "mimetype": "text/x-c++src",
   "name": "c++",
   "version": "17"
  }
 },
 "nbformat": 4,
 "nbformat_minor": 5
}
