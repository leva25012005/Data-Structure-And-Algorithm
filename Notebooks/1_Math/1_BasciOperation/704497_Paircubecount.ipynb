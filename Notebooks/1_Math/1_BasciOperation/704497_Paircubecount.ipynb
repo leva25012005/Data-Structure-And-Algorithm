{
 "cells": [
  {
   "cell_type": "markdown",
   "id": "069b5bed-e6eb-4994-954f-4949c061df16",
   "metadata": {},
   "source": [
    "Library:"
   ]
  },
  {
   "cell_type": "code",
   "execution_count": 1,
   "id": "66c64e87-bf1e-4618-8644-3677f3dafdd1",
   "metadata": {},
   "outputs": [],
   "source": [
    "#include <iostream>\n",
    "#include <cmath> // for cbrt\n",
    "using namespace std;"
   ]
  },
  {
   "cell_type": "markdown",
   "id": "da93d6c9-8b34-46c4-83ca-ddcf2a2949cd",
   "metadata": {},
   "source": [
    "Solution\n",
    "\n",
    "---\n",
    "- Method 1:\n",
    "  - Solution Name: Brute Force Approach\n",
    "  - Idea:\n",
    "     - Check all possible pairs (a, b) such that a^3 + b^3 == n.\n",
    "     - This guarantees finding all valid pairs but is not efficient for large n.\n",
    "  - Time: O(N^2), as it checks every possible pair (a, b)\n",
    "  - Space: O(1), only a counter variable is used\n",
    "--- \n",
    "- Method 2:\n",
    "  - Solution Name: Optimized Using Cube Root\n",
    "  - Idea: Iterate only up to cbrt(n) for a. For each a, check if n - a^3 is a perfect cube (b^3). This reduces unnecessary iterations.\n",
    "  - Time: O(cbrt(N)), because the loop runs only up to cube root of n\n",
    "  - Space: O(1), no extra memory except a few variables\n",
    "---"
   ]
  },
  {
   "cell_type": "code",
   "execution_count": 2,
   "id": "ae17ff1b-60b3-4c9c-b8b9-26344dfba08f",
   "metadata": {},
   "outputs": [],
   "source": [
    "class Solution {\n",
    "public:\n",
    "    // Method 1:\n",
    "    int pairCubeCountBrute(int n) {\n",
    "        int count = 0;\n",
    "        for (int a = 0; a <= n; a++) {\n",
    "            for (int b = 0; b <= n; b++) {\n",
    "                if (a * a * a + b * b * b == n)\n",
    "                    count++;\n",
    "            }\n",
    "        }\n",
    "        return count;\n",
    "    }\n",
    "\n",
    "    // Method 2:\n",
    "    int pairCubeCountOptimized(int n) {\n",
    "        int count = 0;\n",
    "\n",
    "        // Iterate through all possible cubes up to cbrt(n)\n",
    "        for (int a = 1; a <= cbrt(n); a++) {\n",
    "            int cubeA = a * a * a;\n",
    "            int diff = n - cubeA;\n",
    "\n",
    "            int b = cbrt(diff);\n",
    "            if (b * b * b == diff) {\n",
    "                count++;\n",
    "            }\n",
    "        }\n",
    "        return count;\n",
    "    }\n",
    "};"
   ]
  },
  {
   "cell_type": "markdown",
   "id": "cd5602a5-2575-4d2b-9713-8362076faea0",
   "metadata": {},
   "source": [
    "Test Case:"
   ]
  },
  {
   "cell_type": "code",
   "execution_count": 3,
   "id": "ccb617d0-9ab3-482a-890b-1d2a046250c2",
   "metadata": {},
   "outputs": [
    {
     "name": "stdout",
     "output_type": "stream",
     "text": [
      "Test case n = 9\n",
      "Brute Force Count: 2\n",
      "Optimized Count: 2\n",
      "-------------------------\n",
      "Test case n = 28\n",
      "Brute Force Count: 2\n",
      "Optimized Count: 2\n",
      "-------------------------\n",
      "Test case n = 35\n",
      "Brute Force Count: 2\n",
      "Optimized Count: 2\n",
      "-------------------------\n",
      "Test case n = 1729\n",
      "Brute Force Count: 4\n",
      "Optimized Count: 4\n",
      "-------------------------\n"
     ]
    }
   ],
   "source": [
    "    Solution sol;\n",
    "\n",
    "    // Test cases\n",
    "    int testCases[] = {9, 28, 35, 1729};  // 1729 is famous Ramanujan number\n",
    "    int size = sizeof(testCases) / sizeof(testCases[0]);\n",
    "\n",
    "    for (int i = 0; i < size; i++) {\n",
    "        int n = testCases[i];\n",
    "        cout << \"Test case n = \" << n << endl;\n",
    "        cout << \"Brute Force Count: \" << sol.pairCubeCountBrute(n) << endl;\n",
    "        cout << \"Optimized Count: \" << sol.pairCubeCountOptimized(n) << endl;\n",
    "        cout << \"-------------------------\" << endl;\n",
    "    }\n",
    "\n",
    "    return 0;"
   ]
  }
 ],
 "metadata": {
  "kernelspec": {
   "display_name": "C++17",
   "language": "C++17",
   "name": "xcpp17"
  },
  "language_info": {
   "codemirror_mode": "text/x-c++src",
   "file_extension": ".cpp",
   "mimetype": "text/x-c++src",
   "name": "c++",
   "version": "17"
  }
 },
 "nbformat": 4,
 "nbformat_minor": 5
}
