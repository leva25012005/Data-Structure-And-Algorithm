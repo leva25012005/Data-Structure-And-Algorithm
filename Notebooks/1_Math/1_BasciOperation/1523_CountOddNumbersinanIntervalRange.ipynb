{
 "cells": [
  {
   "cell_type": "markdown",
   "id": "069b5bed-e6eb-4994-954f-4949c061df16",
   "metadata": {},
   "source": [
    "Library:"
   ]
  },
  {
   "cell_type": "code",
   "execution_count": 1,
   "id": "27ee0548-0451-4bd5-a96d-d02fbb8a0c31",
   "metadata": {},
   "outputs": [],
   "source": [
    "#include<iostream>\n",
    "using namespace std;"
   ]
  },
  {
   "cell_type": "markdown",
   "id": "da93d6c9-8b34-46c4-83ca-ddcf2a2949cd",
   "metadata": {},
   "source": [
    "Solution:\n",
    "\n",
    "---\n",
    "- Method 1:\n",
    "    - Solution Name: Using Loop\n",
    "    - Idea:\n",
    "       - Iterate from low to high and count each number that is odd using modulo operator.\n",
    "       - Simple and intuitive approach.\n",
    "    - Time: O(N), where N = high - low + 1\n",
    "    - Space: O(1), only a counter is used\n",
    "---\n",
    "- Method 2:\n",
    "    - Solution Name: Using Formula\n",
    "    - Idea:\n",
    "       - Count odds using the arithmetic property: number of odds in [0..high] minus number of odds in [0..low-1].\n",
    "       - Avoids iteration for O(1) solution.\n",
    "    - Time: O(1), only arithmetic operations\n",
    "    - Space: O(1), no extra memory needed\n",
    "---"
   ]
  },
  {
   "cell_type": "code",
   "execution_count": 2,
   "id": "0b3cbec4-8863-46a4-b322-9a8d353300b3",
   "metadata": {},
   "outputs": [],
   "source": [
    "class Solution {\n",
    "public:\n",
    "    // Method 1\n",
    "    int countOddsLoop(int low, int high) {\n",
    "        int cnt = 0;\n",
    "        for(int i = low; i <= high; i++) {\n",
    "            if(i % 2 != 0) // check if number is odd\n",
    "                cnt++;\n",
    "        }\n",
    "        return cnt;\n",
    "    }\n",
    "\n",
    "    // Method 2\n",
    "    int countOddsFormula(int low, int high) {\n",
    "        return (high + 1) / 2 - (low / 2);\n",
    "    }\n",
    "};"
   ]
  },
  {
   "cell_type": "markdown",
   "id": "cd5602a5-2575-4d2b-9713-8362076faea0",
   "metadata": {},
   "source": [
    "Test Case:"
   ]
  },
  {
   "cell_type": "code",
   "execution_count": 3,
   "id": "226cf3bd-efcd-4378-a562-32d28604b856",
   "metadata": {},
   "outputs": [
    {
     "name": "stdout",
     "output_type": "stream",
     "text": [
      "Test case: low = 3, high = 7\n",
      "Count odds using Loop: 3\n",
      "Count odds using Formula: 3\n",
      "-------------------------\n",
      "Test case: low = 2, high = 10\n",
      "Count odds using Loop: 4\n",
      "Count odds using Formula: 4\n",
      "-------------------------\n",
      "Test case: low = 1, high = 1\n",
      "Count odds using Loop: 1\n",
      "Count odds using Formula: 1\n",
      "-------------------------\n",
      "Test case: low = 8, high = 15\n",
      "Count odds using Loop: 4\n",
      "Count odds using Formula: 4\n",
      "-------------------------\n"
     ]
    }
   ],
   "source": [
    "Solution sol;\n",
    "\n",
    "    // Test cases\n",
    "    pair<int, int> testCases[] = {{3, 7}, {2, 10}, {1, 1}, {8, 15}};\n",
    "    int size = sizeof(testCases) / sizeof(testCases[0]);\n",
    "\n",
    "    for(int i = 0; i < size; i++) {\n",
    "        int low = testCases[i].first;\n",
    "        int high = testCases[i].second;\n",
    "\n",
    "        cout << \"Test case: low = \" << low << \", high = \" << high << endl;\n",
    "        cout << \"Count odds using Loop: \" << sol.countOddsLoop(low, high) << endl;\n",
    "        cout << \"Count odds using Formula: \" << sol.countOddsFormula(low, high) << endl;\n",
    "        cout << \"-------------------------\" << endl;\n",
    "    }\n",
    "\n",
    "    return 0;"
   ]
  }
 ],
 "metadata": {
  "kernelspec": {
   "display_name": "C++17",
   "language": "C++17",
   "name": "xcpp17"
  },
  "language_info": {
   "codemirror_mode": "text/x-c++src",
   "file_extension": ".cpp",
   "mimetype": "text/x-c++src",
   "name": "c++",
   "version": "17"
  }
 },
 "nbformat": 4,
 "nbformat_minor": 5
}
