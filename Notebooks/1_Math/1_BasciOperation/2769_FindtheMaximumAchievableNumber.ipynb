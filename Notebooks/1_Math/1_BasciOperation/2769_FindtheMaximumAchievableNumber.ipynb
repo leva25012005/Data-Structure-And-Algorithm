{
 "cells": [
  {
   "cell_type": "markdown",
   "id": "069b5bed-e6eb-4994-954f-4949c061df16",
   "metadata": {},
   "source": [
    "Library:"
   ]
  },
  {
   "cell_type": "code",
   "execution_count": 1,
   "id": "8b6ec2fd-605d-4558-8d86-b3dd2700bb45",
   "metadata": {},
   "outputs": [],
   "source": [
    "#include<iostream>\n",
    "using namespace std;"
   ]
  },
  {
   "cell_type": "markdown",
   "id": "da93d6c9-8b34-46c4-83ca-ddcf2a2949cd",
   "metadata": {},
   "source": [
    "Solution:\n",
    "- Name Solution: Maximum Achievable X\n",
    "- Idea:\n",
    "  - Each operation allows increasing `num` by 1 and decreasing `t` by 1.\n",
    "  - Since you can do `t` operations, the maximum achievable value of X is `num + 2 * t`.\n",
    "- Time: O(1), calculation done in a single step\n",
    "- Space: O(1), no extra memory used"
   ]
  },
  {
   "cell_type": "code",
   "execution_count": 2,
   "id": "cda7915d-cdfa-4920-8b9a-fbd5078f8b2a",
   "metadata": {},
   "outputs": [],
   "source": [
    "class Solution {\n",
    "public:\n",
    "    int theMaximumAchievableX(int num, int t) {\n",
    "        return num + 2 * t;\n",
    "    }\n",
    "};"
   ]
  },
  {
   "cell_type": "markdown",
   "id": "cd5602a5-2575-4d2b-9713-8362076faea0",
   "metadata": {},
   "source": [
    "Test Case:"
   ]
  },
  {
   "cell_type": "code",
   "execution_count": 3,
   "id": "75a557ad-edfd-4cff-bdae-c7fd8bf6dcfb",
   "metadata": {},
   "outputs": [
    {
     "name": "stdout",
     "output_type": "stream",
     "text": [
      "Test case: num = 3, t = 2\n",
      "Maximum achievable X: 7\n",
      "-------------------------\n",
      "Test case: num = 5, t = 0\n",
      "Maximum achievable X: 5\n",
      "-------------------------\n",
      "Test case: num = 1, t = 4\n",
      "Maximum achievable X: 9\n",
      "-------------------------\n",
      "Test case: num = 10, t = 5\n",
      "Maximum achievable X: 20\n",
      "-------------------------\n"
     ]
    }
   ],
   "source": [
    "Solution sol;\n",
    "\n",
    "    // Test cases: (num, t)\n",
    "    pair<int, int> testCases[] = {{3, 2}, {5, 0}, {1, 4}, {10, 5}};\n",
    "    int size = sizeof(testCases) / sizeof(testCases[0]);\n",
    "\n",
    "    for (int i = 0; i < size; i++) {\n",
    "        int num = testCases[i].first;\n",
    "        int t   = testCases[i].second;\n",
    "        cout << \"Test case: num = \" << num << \", t = \" << t << endl;\n",
    "        cout << \"Maximum achievable X: \" << sol.theMaximumAchievableX(num, t) << endl;\n",
    "        cout << \"-------------------------\" << endl;\n",
    "    }\n",
    "\n",
    "    return 0;"
   ]
  }
 ],
 "metadata": {
  "kernelspec": {
   "display_name": "C++17",
   "language": "C++17",
   "name": "xcpp17"
  },
  "language_info": {
   "codemirror_mode": "text/x-c++src",
   "file_extension": ".cpp",
   "mimetype": "text/x-c++src",
   "name": "c++",
   "version": "17"
  }
 },
 "nbformat": 4,
 "nbformat_minor": 5
}
