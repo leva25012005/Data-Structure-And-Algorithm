{
 "cells": [
  {
   "cell_type": "markdown",
   "id": "069b5bed-e6eb-4994-954f-4949c061df16",
   "metadata": {},
   "source": [
    "Library:"
   ]
  },
  {
   "cell_type": "code",
   "execution_count": 1,
   "id": "f862e46b-951f-476e-86f5-3b959a5aeb9c",
   "metadata": {},
   "outputs": [],
   "source": [
    "#include<iostream>\n",
    "using namespace std;"
   ]
  },
  {
   "cell_type": "markdown",
   "id": "da93d6c9-8b34-46c4-83ca-ddcf2a2949cd",
   "metadata": {},
   "source": [
    "Solution:\n",
    "\n",
    "---\n",
    "- Method 1:\n",
    "  - Solution Name: Using Loop\n",
    "  - Idea:\n",
    "      - The array consists of the first n odd numbers [1, 3, 5, ..., 2n-1].\n",
    "      - To make all elements equal, only the first half of the array needs to be increased to match the target (which is n).\n",
    "      - Loop through the first half and sum the differences.\n",
    "  - Time: O(N), loop through n/2 elements\n",
    "  - Space: O(1), no extra memory used\n",
    "---\n",
    "- Method 2:\n",
    "  - Solution Name: Using Formula\n",
    "  - Idea:\n",
    "    - The sum of differences for the first half of the array can be calculated directly using the formula result = n^2 / 4,\n",
    "    - derived from the arithmetic series of odd numbers. Works for both even and odd n.\n",
    "  - Time: O(1), computed in a single arithmetic operation\n",
    "  - Space: O(1), no extra memory used\n",
    "---"
   ]
  },
  {
   "cell_type": "code",
   "execution_count": 2,
   "id": "fcbd29ef-788c-41a0-a767-cea6b4c95a9d",
   "metadata": {},
   "outputs": [],
   "source": [
    "class Solution {\n",
    "public:\n",
    "    // Method 1\n",
    "    int minOperationsLoop(int n) {\n",
    "        int target = n;  \n",
    "        int res = 0;\n",
    "\n",
    "        for (int i = 0; i < n / 2; i++) {\n",
    "            res += target - (2 * i + 1);\n",
    "        }\n",
    "        return res;\n",
    "    }\n",
    "\n",
    "    // Method 2\n",
    "    int minOperationsFormula(int n) {\n",
    "        return n * n / 4;\n",
    "    }\n",
    "};"
   ]
  },
  {
   "cell_type": "markdown",
   "id": "cd5602a5-2575-4d2b-9713-8362076faea0",
   "metadata": {},
   "source": [
    "Test Case:"
   ]
  },
  {
   "cell_type": "code",
   "execution_count": 3,
   "id": "010a6cfb-8aed-411b-989c-5b4e804555e6",
   "metadata": {},
   "outputs": [
    {
     "name": "stdout",
     "output_type": "stream",
     "text": [
      "Test case n = 1\n",
      "Minimum operations using Loop: 0\n",
      "Minimum operations using Formula: 0\n",
      "-------------------------\n",
      "Test case n = 3\n",
      "Minimum operations using Loop: 2\n",
      "Minimum operations using Formula: 2\n",
      "-------------------------\n",
      "Test case n = 6\n",
      "Minimum operations using Loop: 9\n",
      "Minimum operations using Formula: 9\n",
      "-------------------------\n",
      "Test case n = 7\n",
      "Minimum operations using Loop: 12\n",
      "Minimum operations using Formula: 12\n",
      "-------------------------\n",
      "Test case n = 10\n",
      "Minimum operations using Loop: 25\n",
      "Minimum operations using Formula: 25\n",
      "-------------------------\n"
     ]
    }
   ],
   "source": [
    "Solution sol;\n",
    "\n",
    "    // Test cases\n",
    "    int testCases[] = {1, 3, 6, 7, 10};\n",
    "    int size = sizeof(testCases) / sizeof(testCases[0]);\n",
    "\n",
    "    for (int i = 0; i < size; i++) {\n",
    "        int n = testCases[i];\n",
    "        cout << \"Test case n = \" << n << endl;\n",
    "        cout << \"Minimum operations using Loop: \" << sol.minOperationsLoop(n) << endl;\n",
    "        cout << \"Minimum operations using Formula: \" << sol.minOperationsFormula(n) << endl;\n",
    "        cout << \"-------------------------\" << endl;\n",
    "    }\n",
    "\n",
    "    return 0;"
   ]
  }
 ],
 "metadata": {
  "kernelspec": {
   "display_name": "C++17",
   "language": "C++17",
   "name": "xcpp17"
  },
  "language_info": {
   "codemirror_mode": "text/x-c++src",
   "file_extension": ".cpp",
   "mimetype": "text/x-c++src",
   "name": "c++",
   "version": "17"
  }
 },
 "nbformat": 4,
 "nbformat_minor": 5
}
