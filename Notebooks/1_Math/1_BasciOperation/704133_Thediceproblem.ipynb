{
 "cells": [
  {
   "cell_type": "markdown",
   "id": "069b5bed-e6eb-4994-954f-4949c061df16",
   "metadata": {},
   "source": [
    "Library:"
   ]
  },
  {
   "cell_type": "code",
   "execution_count": 1,
   "id": "15e9b7f5-85e9-463f-95e5-36b34bb14bca",
   "metadata": {},
   "outputs": [],
   "source": [
    "#include<iostream>\n",
    "using namespace std;"
   ]
  },
  {
   "cell_type": "markdown",
   "id": "da93d6c9-8b34-46c4-83ca-ddcf2a2949cd",
   "metadata": {},
   "source": [
    "Solution:\n",
    "\n",
    "---\n",
    "- Solution Name: Opposite Face of Dice\n",
    "- Idea:\n",
    "   - In a standard 6-faced dice, the sum of opposite faces is always 7.\n",
    "   - Therefore, the opposite face of a given number n can be found using 7 - n.\n",
    "- Time: O(1), single subtraction operation\n",
    "- Space: O(1), no extra memory used\n",
    "---"
   ]
  },
  {
   "cell_type": "code",
   "execution_count": 2,
   "id": "2313c29d-d78d-47aa-89b8-793a8fd4f225",
   "metadata": {},
   "outputs": [],
   "source": [
    "class Solution {\n",
    "public:\n",
    "    int oppositeFaceOfDice(int n) {\n",
    "        return 7 - n;\n",
    "    }\n",
    "};"
   ]
  },
  {
   "cell_type": "markdown",
   "id": "cd5602a5-2575-4d2b-9713-8362076faea0",
   "metadata": {},
   "source": [
    "Test Case:"
   ]
  },
  {
   "cell_type": "code",
   "execution_count": 3,
   "id": "67a30451-86c0-4e50-9aad-9c04245b5420",
   "metadata": {},
   "outputs": [
    {
     "name": "stdout",
     "output_type": "stream",
     "text": [
      "Test case n = 1\n",
      "Opposite face: 6\n",
      "-------------------------\n",
      "Test case n = 2\n",
      "Opposite face: 5\n",
      "-------------------------\n",
      "Test case n = 3\n",
      "Opposite face: 4\n",
      "-------------------------\n",
      "Test case n = 4\n",
      "Opposite face: 3\n",
      "-------------------------\n",
      "Test case n = 5\n",
      "Opposite face: 2\n",
      "-------------------------\n",
      "Test case n = 6\n",
      "Opposite face: 1\n",
      "-------------------------\n"
     ]
    }
   ],
   "source": [
    "    Solution sol;\n",
    "\n",
    "    // Test cases\n",
    "    int testCases[] = {1, 2, 3, 4, 5, 6};\n",
    "    int size = sizeof(testCases) / sizeof(testCases[0]);\n",
    "\n",
    "    for (int i = 0; i < size; i++) {\n",
    "        int n = testCases[i];\n",
    "        cout << \"Test case n = \" << n << endl;\n",
    "        cout << \"Opposite face: \" << sol.oppositeFaceOfDice(n) << endl;\n",
    "        cout << \"-------------------------\" << endl;\n",
    "    }\n",
    "\n",
    "    return 0;"
   ]
  }
 ],
 "metadata": {
  "kernelspec": {
   "display_name": "C++17",
   "language": "C++17",
   "name": "xcpp17"
  },
  "language_info": {
   "codemirror_mode": "text/x-c++src",
   "file_extension": ".cpp",
   "mimetype": "text/x-c++src",
   "name": "c++",
   "version": "17"
  }
 },
 "nbformat": 4,
 "nbformat_minor": 5
}
