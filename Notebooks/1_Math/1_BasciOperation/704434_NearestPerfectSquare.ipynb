{
 "cells": [
  {
   "cell_type": "markdown",
   "id": "069b5bed-e6eb-4994-954f-4949c061df16",
   "metadata": {},
   "source": [
    "Library:"
   ]
  },
  {
   "cell_type": "code",
   "execution_count": 1,
   "id": "45fd9271-0a63-4a9d-90fa-00093cf54b71",
   "metadata": {},
   "outputs": [],
   "source": [
    "#include <iostream>\n",
    "#include <vector>\n",
    "#include <cmath> // for sqrt and abs\n",
    "using namespace std;"
   ]
  },
  {
   "cell_type": "markdown",
   "id": "da93d6c9-8b34-46c4-83ca-ddcf2a2949cd",
   "metadata": {},
   "source": [
    "Solution:\n",
    "\n",
    "---\n",
    "- Solution Name: Using Square Root\n",
    "- Idea: \n",
    "    1. Compute the integer square root of n.\n",
    "    2. Find the perfect squares just below and above n.\n",
    "    3. Compare which one is closer to n and return that square along with the difference.\n",
    "    This avoids checking all numbers and computes the result directly in constant time.\n",
    "- Time: O(1), only a few arithmetic operations and sqrt\n",
    "- Space: O(1), no extra memory used\n",
    "---"
   ]
  },
  {
   "cell_type": "code",
   "execution_count": 2,
   "id": "63254d75-9b20-4124-a586-3e7d15550ffb",
   "metadata": {},
   "outputs": [],
   "source": [
    "class Solution {\n",
    "public:\n",
    "    vector<int> squareDifference(int n) {\n",
    "        int root = (int)sqrt(n);\n",
    "        int square1 = root * root;            \n",
    "        int square2 = (root + 1) * (root + 1);\n",
    "\n",
    "        if (abs(n - square1) <= abs(square2 - n)) {\n",
    "            return {square1, abs(n - square1)};\n",
    "        } else {\n",
    "            return {square2, abs(n - square2)};\n",
    "        }\n",
    "    }\n",
    "};"
   ]
  },
  {
   "cell_type": "markdown",
   "id": "cd5602a5-2575-4d2b-9713-8362076faea0",
   "metadata": {},
   "source": [
    "Test Case:"
   ]
  },
  {
   "cell_type": "code",
   "execution_count": 3,
   "id": "2297806f-d360-4c09-a9ff-cf1985caa065",
   "metadata": {},
   "outputs": [
    {
     "name": "stdout",
     "output_type": "stream",
     "text": [
      "n = 10\n",
      "Nearest square: 9\n",
      "Difference: 1\n",
      "-------------------------\n",
      "n = 15\n",
      "Nearest square: 16\n",
      "Difference: 1\n",
      "-------------------------\n",
      "n = 26\n",
      "Nearest square: 25\n",
      "Difference: 1\n",
      "-------------------------\n",
      "n = 50\n",
      "Nearest square: 49\n",
      "Difference: 1\n",
      "-------------------------\n",
      "n = 86\n",
      "Nearest square: 81\n",
      "Difference: 5\n",
      "-------------------------\n",
      "n = 100\n",
      "Nearest square: 100\n",
      "Difference: 0\n",
      "-------------------------\n"
     ]
    }
   ],
   "source": [
    "Solution sol;\n",
    "\n",
    "    // Test cases\n",
    "    vector<int> testCases = {10, 15, 26, 50, 86, 100};\n",
    "\n",
    "    for (int n : testCases) {\n",
    "        vector<int> result = sol.squareDifference(n);\n",
    "        cout << \"n = \" << n << endl;\n",
    "        cout << \"Nearest square: \" << result[0] << endl;\n",
    "        cout << \"Difference: \" << result[1] << endl;\n",
    "        cout << \"-------------------------\" << endl;\n",
    "    }\n",
    "\n",
    "    return 0;"
   ]
  }
 ],
 "metadata": {
  "kernelspec": {
   "display_name": "C++17",
   "language": "C++17",
   "name": "xcpp17"
  },
  "language_info": {
   "codemirror_mode": "text/x-c++src",
   "file_extension": ".cpp",
   "mimetype": "text/x-c++src",
   "name": "c++",
   "version": "17"
  }
 },
 "nbformat": 4,
 "nbformat_minor": 5
}
