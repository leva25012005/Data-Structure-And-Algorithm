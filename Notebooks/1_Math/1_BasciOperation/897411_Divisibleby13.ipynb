{
 "cells": [
  {
   "cell_type": "markdown",
   "id": "069b5bed-e6eb-4994-954f-4949c061df16",
   "metadata": {},
   "source": [
    "Library:"
   ]
  },
  {
   "cell_type": "code",
   "execution_count": 1,
   "id": "5740e95c-7ac2-45d5-bbfa-4720951ce13e",
   "metadata": {},
   "outputs": [],
   "source": [
    "#include<iostream>\n",
    "using namespace std;"
   ]
  },
  {
   "cell_type": "markdown",
   "id": "da93d6c9-8b34-46c4-83ca-ddcf2a2949cd",
   "metadata": {},
   "source": [
    "Solution:\n",
    "\n",
    "---\n",
    "- Method 1:\n",
    "  - Solution Name: Using built-in stoi() conversion\n",
    "  - Idea: Convert the string to an integer, then check divisibility by 13\n",
    "  - Time: O(N)\n",
    "  - Space: O(1)\n",
    "---\n",
    "- Method 2\n",
    "  - Solution Name: Manual modulus computation\n",
    "  - Idea:\n",
    "    - Process each digit one by one and keep track of the modulus\n",
    "    - This avoids overflow for very large numbers\n",
    "  - Time: O(N)\n",
    "  - Space: O(1)\n",
    " ---"
   ]
  },
  {
   "cell_type": "code",
   "execution_count": 2,
   "id": "f394cfe2-7c06-4224-8449-7204579970b1",
   "metadata": {},
   "outputs": [],
   "source": [
    "class Solution {\n",
    "public:\n",
    "\n",
    "    bool divBy13_stoi(const string &s) {\n",
    "        return stoi(s) % 13 == 0;\n",
    "    }\n",
    "\n",
    "\n",
    "    bool divBy13_manual(const string &s) {\n",
    "        int mod = 0;\n",
    "        for (char c : s) {\n",
    "            int digit = c - '0';\n",
    "            mod = (mod * 10 + digit) % 13;\n",
    "        }\n",
    "        return (mod == 0);\n",
    "    }\n",
    "};"
   ]
  },
  {
   "cell_type": "markdown",
   "id": "cd5602a5-2575-4d2b-9713-8362076faea0",
   "metadata": {},
   "source": [
    "Test Case:"
   ]
  },
  {
   "cell_type": "code",
   "execution_count": 3,
   "id": "93704c31-b29f-4991-9f8e-be5d6b84f5f4",
   "metadata": {},
   "outputs": [
    {
     "name": "stdout",
     "output_type": "stream",
     "text": [
      "Test case s = 13\n",
      "Using stoi: Divisible\n",
      "Using manual modulus: Divisible\n",
      "-------------------------\n",
      "Test case s = 26\n",
      "Using stoi: Divisible\n",
      "Using manual modulus: Divisible\n",
      "-------------------------\n",
      "Test case s = 39\n",
      "Using stoi: Divisible\n",
      "Using manual modulus: Divisible\n",
      "-------------------------\n",
      "Test case s = 52\n",
      "Using stoi: Divisible\n",
      "Using manual modulus: Divisible\n",
      "-------------------------\n",
      "Test case s = 100\n",
      "Using stoi: Not divisible\n",
      "Using manual modulus: Not divisible\n",
      "-------------------------\n",
      "Test case s = 169\n",
      "Using stoi: Divisible\n",
      "Using manual modulus: Divisible\n",
      "-------------------------\n"
     ]
    }
   ],
   "source": [
    "    Solution sol;\n",
    "\n",
    "    // Test cases\n",
    "    string testCases[] = {\"13\", \"26\", \"39\", \"52\", \"100\", \"169\"};\n",
    "    int size = sizeof(testCases) / sizeof(testCases[0]);\n",
    "\n",
    "    for (int i = 0; i < size; i++) {\n",
    "        string s = testCases[i];\n",
    "        cout << \"Test case s = \" << s << endl;\n",
    "        cout << \"Using stoi: \" << (sol.divBy13_stoi(s) ? \"Divisible\" : \"Not divisible\") << endl;\n",
    "        cout << \"Using manual modulus: \" << (sol.divBy13_manual(s) ? \"Divisible\" : \"Not divisible\") << endl;\n",
    "        cout << \"-------------------------\" << endl;\n",
    "    }\n",
    "\n",
    "    return 0;"
   ]
  }
 ],
 "metadata": {
  "kernelspec": {
   "display_name": "C++17",
   "language": "C++17",
   "name": "xcpp17"
  },
  "language_info": {
   "codemirror_mode": "text/x-c++src",
   "file_extension": ".cpp",
   "mimetype": "text/x-c++src",
   "name": "c++",
   "version": "17"
  }
 },
 "nbformat": 4,
 "nbformat_minor": 5
}
