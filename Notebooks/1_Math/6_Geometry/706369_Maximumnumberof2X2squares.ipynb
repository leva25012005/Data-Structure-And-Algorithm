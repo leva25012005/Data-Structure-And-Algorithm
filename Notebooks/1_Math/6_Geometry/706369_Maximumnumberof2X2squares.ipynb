{
 "cells": [
  {
   "cell_type": "markdown",
   "id": "da93d6c9-8b34-46c4-83ca-ddcf2a2949cd",
   "metadata": {},
   "source": [
    "Solution:\n",
    "\n",
    "---\n",
    "\n",
    "---"
   ]
  },
  {
   "cell_type": "code",
   "execution_count": null,
   "id": "a65f5ca0",
   "metadata": {
    "vscode": {
     "languageId": "cpp"
    }
   },
   "outputs": [],
   "source": [
    "#include <iostream>\n",
    "#include <cmath>\n",
    "using namespace std;\n",
    "\n",
    "/*\n",
    "    =============================\n",
    "    - Name Solution: Using Arithmetic Formula\n",
    "    - Idea: \n",
    "        1. Only triangles with base >= 2 can contain squares of side length 2.\n",
    "        2. Reduce the base by 2 to account for the minimum square size.\n",
    "        3. Count how many 2x2 squares fit along the base by dividing by 2.\n",
    "        4. The total number of squares is the sum of the first n natural numbers (1 + 2 + ... + n),\n",
    "           which can be computed directly using the formula n * (n + 1) / 2.\n",
    "    - Time: O(1), formula computation\n",
    "    - Space: O(1), no extra memory used\n",
    "    =============================\n",
    "*/\n",
    "long long int numberOfSquares(long long int base) {\n",
    "    base = (base - 2);          // Reduce base to account for smallest square\n",
    "    base = floor(base / 2);      // Number of squares along the base\n",
    "    return base * (base + 1) / 2; // Sum formula for total squares\n",
    "}\n",
    "\n",
    "int main() {\n",
    "    Solution sol;\n",
    "\n",
    "    // Test cases\n",
    "    long long testCases[] = {8, 10, 12, 20};\n",
    "    int size = sizeof(testCases) / sizeof(testCases[0]);\n",
    "\n",
    "    for (int i = 0; i < size; i++) {\n",
    "        long long base = testCases[i];\n",
    "        cout << \"Base = \" << base << endl;\n",
    "        cout << \"Number of squares inside triangle: \" \n",
    "             << sol.numberOfSquares(base) << endl;\n",
    "        cout << \"-------------------------\" << endl;\n",
    "    }\n",
    "\n",
    "    return 0;\n",
    "}\n"
   ]
  },
  {
   "cell_type": "markdown",
   "id": "cd5602a5-2575-4d2b-9713-8362076faea0",
   "metadata": {},
   "source": [
    "Test Case:"
   ]
  },
  {
   "cell_type": "code",
   "execution_count": null,
   "id": "9b9c38bb",
   "metadata": {
    "vscode": {
     "languageId": "cpp"
    }
   },
   "outputs": [],
   "source": [
    "Solution sol;\n",
    "\n",
    "return 0;"
   ]
  }
 ],
 "metadata": {
  "kernelspec": {
   "display_name": "C++17",
   "language": "C++17",
   "name": "xcpp17"
  },
  "language_info": {
   "codemirror_mode": "text/x-c++src",
   "file_extension": ".cpp",
   "mimetype": "text/x-c++src",
   "name": "c++",
   "version": "17"
  }
 },
 "nbformat": 4,
 "nbformat_minor": 5
}
