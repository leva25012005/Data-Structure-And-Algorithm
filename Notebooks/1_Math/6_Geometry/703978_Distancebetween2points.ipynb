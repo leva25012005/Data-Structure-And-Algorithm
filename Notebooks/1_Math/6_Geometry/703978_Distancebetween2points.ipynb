{
 "cells": [
  {
   "cell_type": "markdown",
   "id": "da93d6c9-8b34-46c4-83ca-ddcf2a2949cd",
   "metadata": {},
   "source": [
    "Solution:\n",
    "\n",
    "---\n",
    "\n",
    "---"
   ]
  },
  {
   "cell_type": "code",
   "execution_count": null,
   "id": "a65f5ca0",
   "metadata": {
    "vscode": {
     "languageId": "cpp"
    }
   },
   "outputs": [],
   "source": [
    "#include<iostream>\n",
    "#include<vector>\n",
    "#include<cmath> // to use sqrt and ceil\n",
    "using namespace std;\n",
    "\n",
    "class Solution {\n",
    "    public:\n",
    "        /*\n",
    "        =============================\n",
    "        - Name Solution: Euclidean Distance\n",
    "        - Idea: Calculate the straight-line distance between two points (x1, y1) and (x2, y2) using the Euclidean distance formula: \n",
    "                distance = sqrt((x2 - x1)^2 + (y2 - y1)^2). \n",
    "                Ceil is applied to round up to the nearest integer.\n",
    "        - Time: O(1), only a few arithmetic operations and sqrt\n",
    "        - Space: O(1), only a few integer variables used\n",
    "        =============================\n",
    "        */\n",
    "        int distance1(int x1, int y1, int x2, int y2) {\n",
    "            int dx = x2 - x1;\n",
    "            int dy = y2 - y1;\n",
    "            return (int) ceil(sqrt(dx * dx + dy * dy));\n",
    "        }\n",
    "};\n",
    "\n",
    "int main()\n",
    "{\n",
    "    Solution sol;\n",
    "\n",
    "    // Test cases: pairs of points\n",
    "    vector<pair<pair<int,int>, pair<int,int>>> testCases = {\n",
    "        {{0, 0}, {3, 4}},   // distance 5\n",
    "        {{1, 2}, {4, 6}},   // distance ~5\n",
    "        {{-1, -1}, {2, 3}}, // distance ~5\n",
    "        {{5, 5}, {5, 5}}    // distance 0\n",
    "    };\n",
    "\n",
    "    for (auto & tc: testCases) {\n",
    "        int x1 = tc.first.first, y1 = tc.first.second;\n",
    "        int x2 = tc.second.first, y2 = tc.second.second;\n",
    "\n",
    "        cout << \"Points: (\" << x1 << \", \" << y1 << \") -> (\" <<\n",
    "            x2 << \", \" << y2 << \")\" << endl;\n",
    "        cout << \"Distance (ceil): \" << sol.distance1(x1, y1, x2, y2) << endl;\n",
    "        cout << \"------------------------\" << endl;\n",
    "    }\n",
    "\n",
    "    return 0;\n",
    "}"
   ]
  },
  {
   "cell_type": "markdown",
   "id": "cd5602a5-2575-4d2b-9713-8362076faea0",
   "metadata": {},
   "source": [
    "Test Case:"
   ]
  },
  {
   "cell_type": "code",
   "execution_count": null,
   "id": "9b9c38bb",
   "metadata": {
    "vscode": {
     "languageId": "cpp"
    }
   },
   "outputs": [],
   "source": [
    "Solution sol;\n",
    "\n",
    "return 0;"
   ]
  }
 ],
 "metadata": {
  "kernelspec": {
   "display_name": "C++17",
   "language": "C++17",
   "name": "xcpp17"
  },
  "language_info": {
   "codemirror_mode": "text/x-c++src",
   "file_extension": ".cpp",
   "mimetype": "text/x-c++src",
   "name": "c++",
   "version": "17"
  }
 },
 "nbformat": 4,
 "nbformat_minor": 5
}
