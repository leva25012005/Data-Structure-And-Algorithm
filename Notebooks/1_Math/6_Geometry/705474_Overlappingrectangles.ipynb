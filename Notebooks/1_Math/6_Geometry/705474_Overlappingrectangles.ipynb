{
 "cells": [
  {
   "cell_type": "markdown",
   "id": "da93d6c9-8b34-46c4-83ca-ddcf2a2949cd",
   "metadata": {},
   "source": [
    "Solution:\n",
    "\n",
    "---\n",
    "\n",
    "---"
   ]
  },
  {
   "cell_type": "code",
   "execution_count": null,
   "id": "a65f5ca0",
   "metadata": {
    "vscode": {
     "languageId": "cpp"
    }
   },
   "outputs": [],
   "source": [
    "#include<iostream>\n",
    "#include<vector>\n",
    "using namespace std;\n",
    "\n",
    "/*\n",
    "    =============================\n",
    "    - Name Solution: Rectangle Overlap Check\n",
    "    - Idea: Two rectangles overlap if and only if they overlap on both X-axis and Y-axis.\n",
    "            For X-axis: max(L1.x, L2.x) <= min(R1.x, R2.x)\n",
    "            For Y-axis: max(R1.y, R2.y) <= min(L1.y, L2.y)\n",
    "            If both conditions are satisfied, the rectangles intersect.\n",
    "    - Time: O(1), only a few arithmetic comparisons\n",
    "    - Space: O(1), no extra memory required\n",
    "    =============================\n",
    "*/\n",
    "class Solution {\n",
    "public:\n",
    "    // Check if two rectangles overlap\n",
    "    int doOverlap(vector<int> L1, vector<int> R1, vector<int> L2, vector<int> R2) {\n",
    "        bool overlapX = max(L1[0], L2[0]) <= min(R1[0], R2[0]);\n",
    "        bool overlapY = max(R1[1], R2[1]) <= min(L1[1], L2[1]);\n",
    "        return overlapX && overlapY;\n",
    "    }\n",
    "};\n",
    "\n",
    "int main()\n",
    "{\n",
    "    Solution sol;\n",
    "\n",
    "    // Test cases: {L1, R1, L2, R2}\n",
    "    vector<pair<vector<int>, vector<int>>> rect1 = {\n",
    "        {{0, 10}, {10, 0}},   // Rectangle 1\n",
    "        {{5, 5}, {15, -5}},   // Rectangle 2\n",
    "        {{11, 10}, {20, 0}},  // Rectangle 3\n",
    "    };\n",
    "\n",
    "    // Compare pairs\n",
    "    cout << \"Rectangle 1 vs Rectangle 2: \"\n",
    "         << (sol.doOverlap(rect1[0].first, rect1[0].second, rect1[1].first, rect1[1].second) ? \"Overlap\" : \"No Overlap\") << endl;\n",
    "\n",
    "    cout << \"Rectangle 1 vs Rectangle 3: \"\n",
    "         << (sol.doOverlap(rect1[0].first, rect1[0].second, rect1[2].first, rect1[2].second) ? \"Overlap\" : \"No Overlap\") << endl;\n",
    "\n",
    "    cout << \"Rectangle 2 vs Rectangle 3: \"\n",
    "         << (sol.doOverlap(rect1[1].first, rect1[1].second, rect1[2].first, rect1[2].second) ? \"Overlap\" : \"No Overlap\") << endl;\n",
    "\n",
    "    return 0;\n",
    "}\n"
   ]
  },
  {
   "cell_type": "markdown",
   "id": "cd5602a5-2575-4d2b-9713-8362076faea0",
   "metadata": {},
   "source": [
    "Test Case:"
   ]
  },
  {
   "cell_type": "code",
   "execution_count": null,
   "id": "9b9c38bb",
   "metadata": {
    "vscode": {
     "languageId": "cpp"
    }
   },
   "outputs": [],
   "source": [
    "Solution sol;\n",
    "\n",
    "return 0;"
   ]
  }
 ],
 "metadata": {
  "kernelspec": {
   "display_name": "C++17",
   "language": "C++17",
   "name": "xcpp17"
  },
  "language_info": {
   "codemirror_mode": "text/x-c++src",
   "file_extension": ".cpp",
   "mimetype": "text/x-c++src",
   "name": "c++",
   "version": "17"
  }
 },
 "nbformat": 4,
 "nbformat_minor": 5
}
