{
 "cells": [
  {
   "cell_type": "markdown",
   "id": "da93d6c9-8b34-46c4-83ca-ddcf2a2949cd",
   "metadata": {},
   "source": [
    "Solution:\n",
    "\n",
    "---\n",
    "\n",
    "---"
   ]
  },
  {
   "cell_type": "code",
   "execution_count": null,
   "id": "a65f5ca0",
   "metadata": {
    "vscode": {
     "languageId": "cpp"
    }
   },
   "outputs": [],
   "source": [
    "#include<iostream>\n",
    "#include<vector>\n",
    "using namespace std;\n",
    "\n",
    "class Solution {\n",
    "public:\n",
    "    /*\n",
    "    =============================\n",
    "    - Name Solution: Iterative Method (Simulation)\n",
    "    - Idea: Start with 1 blue cell. For each layer around it, add cells in multiples of 4 (4, 8, 12, ...). \n",
    "            Simulate each layer iteratively to calculate the total number of cells.\n",
    "    - Time: O(N), since we loop through each of the n layers\n",
    "    - Space: O(1), only a few variables used\n",
    "    =============================\n",
    "    */\n",
    "    long long coloredCellsLoop(int n) {\n",
    "        long long numBlueCells = 1;\n",
    "        int addend = 4;\n",
    "        while (--n) { // decrease n each step\n",
    "            numBlueCells += addend;  // add cells of current layer\n",
    "            addend += 4;             // increase addend by 4 for next layer\n",
    "        }\n",
    "        return numBlueCells;\n",
    "    }\n",
    "\n",
    "    /*\n",
    "    =============================\n",
    "    - Name Solution: Formula Based Method\n",
    "    - Idea: Use the direct formula for total cells: total = 1 + 2 * n * (n - 1), \n",
    "            derived from the arithmetic progression of added cells per layer.\n",
    "    - Time: O(1), a single arithmetic calculation\n",
    "    - Space: O(1), no extra memory needed\n",
    "    =============================\n",
    "    */\n",
    "    long long coloredCellsFormula(int n) {\n",
    "        return 1 + (long long)n * (n - 1) * 2;\n",
    "    }\n",
    "};\n",
    "\n",
    "\n",
    "int main()\n",
    "{\n",
    "    Solution sol;\n",
    "\n",
    "    // Test cases\n",
    "    vector<int> testCases = {1, 2, 3, 4, 5, 10};\n",
    "\n",
    "    for (int n : testCases) {\n",
    "        cout << \"Test case n = \" << n << endl;\n",
    "        cout << \"Colored cells (Loop): \" << sol.coloredCellsLoop(n) << endl;\n",
    "        cout << \"Colored cells (Formula): \" << sol.coloredCellsFormula(n) << endl;\n",
    "        cout << \"-------------------------\" << endl;\n",
    "    }\n",
    "\n",
    "    return 0;\n",
    "}\n"
   ]
  },
  {
   "cell_type": "markdown",
   "id": "cd5602a5-2575-4d2b-9713-8362076faea0",
   "metadata": {},
   "source": [
    "Test Case:"
   ]
  },
  {
   "cell_type": "code",
   "execution_count": null,
   "id": "9b9c38bb",
   "metadata": {
    "vscode": {
     "languageId": "cpp"
    }
   },
   "outputs": [],
   "source": [
    "Solution sol;\n",
    "\n",
    "return 0;"
   ]
  }
 ],
 "metadata": {
  "kernelspec": {
   "display_name": "C++17",
   "language": "C++17",
   "name": "xcpp17"
  },
  "language_info": {
   "codemirror_mode": "text/x-c++src",
   "file_extension": ".cpp",
   "mimetype": "text/x-c++src",
   "name": "c++",
   "version": "17"
  }
 },
 "nbformat": 4,
 "nbformat_minor": 5
}
