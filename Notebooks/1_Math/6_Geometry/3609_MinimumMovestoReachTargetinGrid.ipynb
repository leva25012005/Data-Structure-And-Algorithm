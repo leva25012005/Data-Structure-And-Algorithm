{
 "cells": [
  {
   "cell_type": "markdown",
   "id": "da93d6c9-8b34-46c4-83ca-ddcf2a2949cd",
   "metadata": {},
   "source": [
    "Solution:\n",
    "\n",
    "---\n",
    "\n",
    "---"
   ]
  },
  {
   "cell_type": "code",
   "execution_count": null,
   "id": "a65f5ca0",
   "metadata": {
    "vscode": {
     "languageId": "cpp"
    }
   },
   "outputs": [],
   "source": [
    "#include <iostream>\n",
    "#include <vector>\n",
    "#include <tuple>\n",
    "using namespace std;\n",
    "\n",
    "/*\n",
    "    =============================\n",
    "    - Name Solution: Greedy Reverse Transformation\n",
    "    - Idea: Transform the target coordinates (tx, ty) backwards to the start (sx, sy) using allowed moves:\n",
    "            1. Subtract the smaller coordinate from the larger one.\n",
    "            2. If a coordinate is more than double the other, halve it (if even).\n",
    "            3. Count each operation as a move.\n",
    "            This avoids searching all possible forward moves and finds the minimum moves efficiently.\n",
    "    - Time: O(log(max(tx, ty))), since each step roughly halves or reduces a coordinate\n",
    "    - Space: O(1), only a few variables are used\n",
    "    =============================\n",
    "*/\n",
    "int minMoves(int sx, int sy, int tx, int ty) {\n",
    "    // Special case: starting point is (0,0)\n",
    "    if (sx == 0 && sy == 0) {\n",
    "        return (tx == 0 && ty == 0) ? 0 : -1;\n",
    "    }\n",
    "\n",
    "    int res = 0; // Count the number of moves\n",
    "    while (sx != tx || sy != ty) {\n",
    "        if (sx > tx || sy > ty) return -1; // Impossible case\n",
    "\n",
    "        res++; // One move\n",
    "\n",
    "        if (tx > ty) {\n",
    "            if (tx > ty * 2) {\n",
    "                if (tx % 2 != 0) return -1;\n",
    "                tx /= 2;\n",
    "            } else {\n",
    "                tx -= ty;\n",
    "            }\n",
    "        } else if (tx < ty) {\n",
    "            if (ty > tx * 2) {\n",
    "                if (ty % 2 != 0) return -1;\n",
    "                ty /= 2;\n",
    "            } else {\n",
    "                ty -= tx;\n",
    "            }\n",
    "        } else {\n",
    "            if (sx == 0) tx = 0;\n",
    "            else if (sy == 0) ty = 0;\n",
    "            else return -1;\n",
    "        }\n",
    "    }\n",
    "    return res;\n",
    "}\n",
    "\n",
    "int main() {\n",
    "    Solution sol;\n",
    "\n",
    "    // Test cases: (sx, sy, tx, ty)\n",
    "    vector<tuple<int, int, int, int>> testCases = {\n",
    "        {1, 1, 3, 5},   // possible path\n",
    "        {1, 0, 8, 0},   // only x increases\n",
    "        {0, 0, 0, 0},   // trivial case\n",
    "        {2, 2, 10, 20}, // larger numbers\n",
    "        {1, 1, 1, 1},   // start = target\n",
    "        {2, 3, 1, 1}    // impossible case\n",
    "    };\n",
    "\n",
    "    for (auto &tc : testCases) {\n",
    "        int sx, sy, tx, ty;\n",
    "        tie(sx, sy, tx, ty) = tc;\n",
    "        cout << \"Start: (\" << sx << \", \" << sy << \"), \"\n",
    "             << \"Target: (\" << tx << \", \" << ty << \")\" << endl;\n",
    "        cout << \"Minimum Moves: \" << sol.minMoves(sx, sy, tx, ty) << endl;\n",
    "        cout << \"-------------------------\" << endl;\n",
    "    }\n",
    "\n",
    "    return 0;\n",
    "}\n"
   ]
  },
  {
   "cell_type": "markdown",
   "id": "cd5602a5-2575-4d2b-9713-8362076faea0",
   "metadata": {},
   "source": [
    "Test Case:"
   ]
  },
  {
   "cell_type": "code",
   "execution_count": null,
   "id": "9b9c38bb",
   "metadata": {
    "vscode": {
     "languageId": "cpp"
    }
   },
   "outputs": [],
   "source": [
    "Solution sol;\n",
    "\n",
    "return 0;"
   ]
  }
 ],
 "metadata": {
  "kernelspec": {
   "display_name": "C++17",
   "language": "C++17",
   "name": "xcpp17"
  },
  "language_info": {
   "codemirror_mode": "text/x-c++src",
   "file_extension": ".cpp",
   "mimetype": "text/x-c++src",
   "name": "c++",
   "version": "17"
  }
 },
 "nbformat": 4,
 "nbformat_minor": 5
}
