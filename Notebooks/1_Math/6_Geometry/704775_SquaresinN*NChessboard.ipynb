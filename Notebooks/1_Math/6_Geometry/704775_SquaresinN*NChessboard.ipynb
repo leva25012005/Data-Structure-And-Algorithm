{
 "cells": [
  {
   "cell_type": "markdown",
   "id": "da93d6c9-8b34-46c4-83ca-ddcf2a2949cd",
   "metadata": {},
   "source": [
    "Solution:\n",
    "\n",
    "---\n",
    "\n",
    "---"
   ]
  },
  {
   "cell_type": "code",
   "execution_count": null,
   "id": "a65f5ca0",
   "metadata": {
    "vscode": {
     "languageId": "cpp"
    }
   },
   "outputs": [],
   "source": [
    "#include <iostream>\n",
    "using namespace std;\n",
    "\n",
    "class Solution {\n",
    "public:\n",
    "    /*\n",
    "    =============================\n",
    "    - Name Solution: Using Loop\n",
    "    - Idea: Count how many squares of size k x k can fit into an N x N board.\n",
    "            For each k from 1 to N, the number of k x k squares = (N - k + 1)^2.\n",
    "            Sum all such squares to get the total number.\n",
    "    - Time: O(N), iterates from 1 to N\n",
    "    - Space: O(1), only a single variable is used\n",
    "    =============================\n",
    "    */\n",
    "    long long squaresInChessBoardLoop(long long N) {\n",
    "        long long total = 0;\n",
    "        for (long long k = 1; k <= N; k++) {\n",
    "            total += (N - k + 1) * (N - k + 1);\n",
    "        }\n",
    "        return total;\n",
    "    }\n",
    "\n",
    "    /*\n",
    "    =============================\n",
    "    - Name Solution: Using Formula\n",
    "    - Idea: Use the arithmetic series formula for the sum of squares: \n",
    "            Total squares in N x N board = 1^2 + 2^2 + ... + N^2 = N*(N+1)*(2N+1)/6\n",
    "            This avoids looping completely.\n",
    "    - Time: O(1), direct calculation\n",
    "    - Space: O(1), no extra memory needed\n",
    "    =============================\n",
    "    */\n",
    "    long long squaresInChessBoardFormula(long long N) {\n",
    "        return (N * (N + 1) * (2 * N + 1)) / 6;\n",
    "    }\n",
    "};\n",
    "\n",
    "int main() {\n",
    "    Solution sol;\n",
    "\n",
    "    // Test cases\n",
    "    long long testCases[] = {1, 2, 3, 8};\n",
    "    int size = sizeof(testCases) / sizeof(testCases[0]);\n",
    "\n",
    "    for (int i = 0; i < size; i++) {\n",
    "        long long N = testCases[i];\n",
    "        cout << \"Test case N = \" << N << endl;\n",
    "        cout << \"Squares using Loop: \" << sol.squaresInChessBoardLoop(N) << endl;\n",
    "        cout << \"Squares using Formula: \" << sol.squaresInChessBoardFormula(N) << endl;\n",
    "        cout << \"-------------------------\" << endl;\n",
    "    }\n",
    "\n",
    "    return 0;\n",
    "}\n"
   ]
  },
  {
   "cell_type": "markdown",
   "id": "cd5602a5-2575-4d2b-9713-8362076faea0",
   "metadata": {},
   "source": [
    "Test Case:"
   ]
  },
  {
   "cell_type": "code",
   "execution_count": null,
   "id": "9b9c38bb",
   "metadata": {
    "vscode": {
     "languageId": "cpp"
    }
   },
   "outputs": [],
   "source": [
    "Solution sol;\n",
    "\n",
    "return 0;"
   ]
  }
 ],
 "metadata": {
  "kernelspec": {
   "display_name": "C++17",
   "language": "C++17",
   "name": "xcpp17"
  },
  "language_info": {
   "codemirror_mode": "text/x-c++src",
   "file_extension": ".cpp",
   "mimetype": "text/x-c++src",
   "name": "c++",
   "version": "17"
  }
 },
 "nbformat": 4,
 "nbformat_minor": 5
}
