{
 "cells": [
  {
   "cell_type": "markdown",
   "id": "da93d6c9-8b34-46c4-83ca-ddcf2a2949cd",
   "metadata": {},
   "source": [
    "Solution:\n",
    "\n",
    "---\n",
    "\n",
    "---"
   ]
  },
  {
   "cell_type": "code",
   "execution_count": null,
   "id": "a65f5ca0",
   "metadata": {
    "vscode": {
     "languageId": "cpp"
    }
   },
   "outputs": [],
   "source": [
    "#include <iostream>\n",
    "#include <vector>\n",
    "using namespace std;\n",
    "\n",
    "/*\n",
    "    =============================\n",
    "    - Name Solution: Reaching Points using Reverse Modulo\n",
    "    - Idea: Instead of trying to reach (tx, ty) from (sx, sy) forward, we work backwards. \n",
    "            Repeatedly reduce the larger target coordinate by modulo the smaller one until we reach (sx, sy) or below. \n",
    "            This efficiently checks reachability using arithmetic instead of recursion or BFS.\n",
    "    - Time: O(log(max(tx, ty))), each step reduces the target significantly\n",
    "    - Space: O(1), only a few integer variables used\n",
    "    =============================\n",
    "*/\n",
    "class Solution {\n",
    "public:\n",
    "    bool reachingPoints(int sx, int sy, int tx, int ty) {\n",
    "        while (sx < tx && sy < ty) {\n",
    "            if (tx < ty) \n",
    "                ty %= tx;  // Reduce ty by repeatedly subtracting tx\n",
    "            else \n",
    "                tx %= ty;  // Reduce tx by repeatedly subtracting ty\n",
    "        }\n",
    "\n",
    "        // Check if we can exactly reach (tx, ty) from (sx, sy)\n",
    "        return (sx == tx && sy <= ty && (ty - sy) % sx == 0) ||\n",
    "               (sy == ty && sx <= tx && (tx - sx) % sy == 0);\n",
    "    }\n",
    "};\n",
    "\n",
    "\n",
    "int main() {\n",
    "    Solution sol;\n",
    "\n",
    "    // Test cases\n",
    "    vector<tuple<int,int,int,int>> testCases = {\n",
    "        {1, 1, 3, 5},   // Expected: true\n",
    "        {1, 1, 2, 2},   // Expected: false\n",
    "        {1, 1, 1, 1},   // Expected: true\n",
    "        {1, 2, 5, 17}   // Expected: true\n",
    "    };\n",
    "\n",
    "    for (auto &tc : testCases) {\n",
    "        int sx, sy, tx, ty;\n",
    "        tie(sx, sy, tx, ty) = tc;\n",
    "        cout << \"Start: (\" << sx << \", \" << sy << \")\"\n",
    "             << \" -> Target: (\" << tx << \", \" << ty << \")\" << endl;\n",
    "        cout << \"Can reach? \" << (sol.reachingPoints(sx, sy, tx, ty) ? \"Yes\" : \"No\") << endl;\n",
    "        cout << \"-------------------------\" << endl;\n",
    "    }\n",
    "\n",
    "    return 0;\n",
    "}\n"
   ]
  },
  {
   "cell_type": "markdown",
   "id": "cd5602a5-2575-4d2b-9713-8362076faea0",
   "metadata": {},
   "source": [
    "Test Case:"
   ]
  },
  {
   "cell_type": "code",
   "execution_count": null,
   "id": "9b9c38bb",
   "metadata": {
    "vscode": {
     "languageId": "cpp"
    }
   },
   "outputs": [],
   "source": [
    "Solution sol;\n",
    "\n",
    "return 0;"
   ]
  }
 ],
 "metadata": {
  "kernelspec": {
   "display_name": "C++17",
   "language": "C++17",
   "name": "xcpp17"
  },
  "language_info": {
   "codemirror_mode": "text/x-c++src",
   "file_extension": ".cpp",
   "mimetype": "text/x-c++src",
   "name": "c++",
   "version": "17"
  }
 },
 "nbformat": 4,
 "nbformat_minor": 5
}
