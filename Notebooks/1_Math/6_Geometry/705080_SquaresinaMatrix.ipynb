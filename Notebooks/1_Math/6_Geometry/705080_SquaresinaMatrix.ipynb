{
 "cells": [
  {
   "cell_type": "markdown",
   "id": "da93d6c9-8b34-46c4-83ca-ddcf2a2949cd",
   "metadata": {},
   "source": [
    "Solution:\n",
    "\n",
    "---\n",
    "\n",
    "---"
   ]
  },
  {
   "cell_type": "code",
   "execution_count": null,
   "id": "a65f5ca0",
   "metadata": {
    "vscode": {
     "languageId": "cpp"
    }
   },
   "outputs": [],
   "source": [
    "#include<iostream>\n",
    "#include<algorithm>\n",
    "using namespace std;\n",
    "\n",
    "class Solution {\n",
    "public:\n",
    "    // 1. Using Loop\n",
    "    // Count all possible squares in an m x n matrix\n",
    "    // For each possible square size k (from 1 to min(m,n)),\n",
    "    // we calculate how many such squares can fit: (m-k+1) * (n-k+1)\n",
    "    // Time: O(min(m,n)), Space: O(1)\n",
    "    int squaresInMatrix1(int m, int n) {\n",
    "        int total = 0;\n",
    "        for (int k = 1; k <= min(m, n); k++) \n",
    "            total += (m - k + 1) * (n - k + 1);\n",
    "        return total;\n",
    "    }\n",
    "    \n",
    "    // 2. Using Formula\n",
    "    // This formula is derived from the sum of arithmetic series\n",
    "    // It counts the number of squares directly without iteration:\n",
    "    // - First part: sum of squares for the smaller dimension\n",
    "    // - Second part: adjustment for the extra columns/rows if n != m\n",
    "    // Time: O(1), Space: O(1)\n",
    "    int squaresInMatrix(int m, int n) {\n",
    "        if (n < m)\n",
    "            swap(m, n);\n",
    "        return (m * (m + 1) * (2 * m + 1)) / 6   // squares from smaller side\n",
    "             + ((n - m) * m * (m + 1)) / 2;      // extra squares from longer side\n",
    "    }\n",
    "};\n",
    "\n",
    "int main() {\n",
    "    Solution sol;\n",
    "\n",
    "    // Test cases\n",
    "    pair<int, int> testCases[] = {{2, 2}, {3, 4}, {5, 5}, {2, 5}, {10, 20}};\n",
    "    int size = sizeof(testCases) / sizeof(testCases[0]);\n",
    "\n",
    "    for (int i = 0; i < size; i++) {\n",
    "        int m = testCases[i].first;\n",
    "        int n = testCases[i].second;\n",
    "\n",
    "        cout << \"Test case: m = \" << m << \", n = \" << n << endl;\n",
    "        cout << \"Squares using Loop: \" << sol.squaresInMatrix1(m, n) << endl;\n",
    "        cout << \"Squares using Formula: \" << sol.squaresInMatrix(m, n) << endl;\n",
    "        cout << \"-------------------------\" << endl;\n",
    "    }\n",
    "\n",
    "    return 0;\n",
    "}\n"
   ]
  },
  {
   "cell_type": "markdown",
   "id": "cd5602a5-2575-4d2b-9713-8362076faea0",
   "metadata": {},
   "source": [
    "Test Case:"
   ]
  },
  {
   "cell_type": "code",
   "execution_count": null,
   "id": "9b9c38bb",
   "metadata": {
    "vscode": {
     "languageId": "cpp"
    }
   },
   "outputs": [],
   "source": [
    "Solution sol;\n",
    "\n",
    "return 0;"
   ]
  }
 ],
 "metadata": {
  "kernelspec": {
   "display_name": "C++17",
   "language": "C++17",
   "name": "xcpp17"
  },
  "language_info": {
   "codemirror_mode": "text/x-c++src",
   "file_extension": ".cpp",
   "mimetype": "text/x-c++src",
   "name": "c++",
   "version": "17"
  }
 },
 "nbformat": 4,
 "nbformat_minor": 5
}
