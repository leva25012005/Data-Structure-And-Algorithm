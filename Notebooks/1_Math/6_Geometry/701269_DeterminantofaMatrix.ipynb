{
 "cells": [
  {
   "cell_type": "markdown",
   "id": "da93d6c9-8b34-46c4-83ca-ddcf2a2949cd",
   "metadata": {},
   "source": [
    "Solution:\n",
    "\n",
    "---\n",
    "\n",
    "---"
   ]
  },
  {
   "cell_type": "code",
   "execution_count": null,
   "id": "a65f5ca0",
   "metadata": {
    "vscode": {
     "languageId": "cpp"
    }
   },
   "outputs": [],
   "source": [
    "class Solution {\n",
    "public:\n",
    "    /*\n",
    "    =============================\n",
    "    - Name Solution: Determinant using Recursion (Laplace Expansion)\n",
    "    - Idea: The determinant of a matrix can be computed by expanding along the first row (or any row/column). \n",
    "            For each element in the row, multiply it by the determinant of the submatrix obtained by removing the element's row and column, \n",
    "            alternating signs for cofactors.\n",
    "    - Time: O(N!), as each level of recursion generates (N-1)! submatrices\n",
    "    - Space: O(N^2), for storing submatrices and recursive call stack\n",
    "    =============================\n",
    "*/\n",
    "    int determinantOfMatrix(vector<vector<int>> matrix, int n) {\n",
    "        // Base case: if matrix has only one element\n",
    "        if (n == 1) \n",
    "            return matrix[0][0];\n",
    "\n",
    "        int sum = 0;\n",
    "\n",
    "        // Loop through first row to expand determinant\n",
    "        for (int i = 0; i < n; i++) {\n",
    "            vector<vector<int>> temp; // To store submatrix after removing row 0 and column i\n",
    "\n",
    "            // Construct submatrix by skipping first row and column i\n",
    "            for (int j = 1; j < n; j++) {\n",
    "                vector<int> x;\n",
    "                for (int k = 0; k < i; k++) \n",
    "                    x.push_back(matrix[j][k]);\n",
    "                for (int k = i + 1; k < n; k++) \n",
    "                    x.push_back(matrix[j][k]);\n",
    "                temp.push_back(x);\n",
    "            }\n",
    "\n",
    "            // Apply cofactor expansion\n",
    "            // If column index i is odd -> subtract\n",
    "            // If column index i is even -> add\n",
    "            if (i & 1) \n",
    "                sum -= matrix[0][i] * determinantOfMatrix(temp, n - 1);\n",
    "            else \n",
    "                sum += matrix[0][i] * determinantOfMatrix(temp, n - 1);\n",
    "        }\n",
    "\n",
    "        return sum;\n",
    "    } \n",
    "};\n"
   ]
  },
  {
   "cell_type": "markdown",
   "id": "cd5602a5-2575-4d2b-9713-8362076faea0",
   "metadata": {},
   "source": [
    "Test Case:"
   ]
  },
  {
   "cell_type": "code",
   "execution_count": null,
   "id": "9b9c38bb",
   "metadata": {
    "vscode": {
     "languageId": "cpp"
    }
   },
   "outputs": [],
   "source": [
    "Solution sol;\n",
    "\n",
    "return 0;"
   ]
  }
 ],
 "metadata": {
  "kernelspec": {
   "display_name": "C++17",
   "language": "C++17",
   "name": "xcpp17"
  },
  "language_info": {
   "codemirror_mode": "text/x-c++src",
   "file_extension": ".cpp",
   "mimetype": "text/x-c++src",
   "name": "c++",
   "version": "17"
  }
 },
 "nbformat": 4,
 "nbformat_minor": 5
}
