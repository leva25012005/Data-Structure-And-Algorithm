{
 "cells": [
  {
   "cell_type": "markdown",
   "id": "da93d6c9-8b34-46c4-83ca-ddcf2a2949cd",
   "metadata": {},
   "source": [
    "Solution:\n",
    "\n",
    "---\n",
    "\n",
    "---"
   ]
  },
  {
   "cell_type": "code",
   "execution_count": null,
   "id": "a65f5ca0",
   "metadata": {
    "vscode": {
     "languageId": "cpp"
    }
   },
   "outputs": [],
   "source": [
    "#include <iostream>\n",
    "#include <cmath>\n",
    "using namespace std;\n",
    "\n",
    "/*\n",
    "    =============================\n",
    "    - Name Solution: Reachability in Exact Steps\n",
    "    - Idea: \n",
    "        Calculate the minimum steps required to reach the target using max(dx, dy), \n",
    "        since diagonal moves reduce both x and y distances simultaneously. \n",
    "        Then check if the target can be reached in exactly t steps, considering edge cases.\n",
    "    - Time: O(1), only arithmetic and comparison operations\n",
    "    - Space: O(1), no extra memory used\n",
    "    =============================\n",
    "*/\n",
    "class Solution {\n",
    "public:\n",
    "    bool isReachableAtTime(int sx, int sy, int fx, int fy, int t) {\n",
    "        int dx = abs(fx - sx);\n",
    "        int dy = abs(fy - sy);\n",
    "        int dist = max(dx, dy);\n",
    "        if (dist > t) return false;\n",
    "        if (dist == 0 && t == 1) return false;\n",
    "        return true;\n",
    "    }\n",
    "};\n",
    "\n",
    "int main() {\n",
    "    Solution sol;\n",
    "\n",
    "    // Test cases\n",
    "    cout << boolalpha;\n",
    "    cout << \"Case 1: \" << sol.isReachableAtTime(2, 3, 4, 5, 3) << endl;  // true\n",
    "    cout << \"Case 2: \" << sol.isReachableAtTime(1, 1, 1, 1, 1) << endl;  // false (special case)\n",
    "    cout << \"Case 3: \" << sol.isReachableAtTime(0, 0, 3, 4, 5) << endl;  // true\n",
    "    cout << \"Case 4: \" << sol.isReachableAtTime(0, 0, 10, 10, 5) << endl; // false\n",
    "\n",
    "    return 0;\n",
    "}\n"
   ]
  },
  {
   "cell_type": "markdown",
   "id": "cd5602a5-2575-4d2b-9713-8362076faea0",
   "metadata": {},
   "source": [
    "Test Case:"
   ]
  },
  {
   "cell_type": "code",
   "execution_count": null,
   "id": "9b9c38bb",
   "metadata": {
    "vscode": {
     "languageId": "cpp"
    }
   },
   "outputs": [],
   "source": [
    "Solution sol;\n",
    "\n",
    "return 0;"
   ]
  }
 ],
 "metadata": {
  "kernelspec": {
   "display_name": "C++17",
   "language": "C++17",
   "name": "xcpp17"
  },
  "language_info": {
   "codemirror_mode": "text/x-c++src",
   "file_extension": ".cpp",
   "mimetype": "text/x-c++src",
   "name": "c++",
   "version": "17"
  }
 },
 "nbformat": 4,
 "nbformat_minor": 5
}
