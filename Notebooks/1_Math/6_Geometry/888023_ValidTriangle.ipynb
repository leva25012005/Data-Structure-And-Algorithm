{
 "cells": [
  {
   "cell_type": "markdown",
   "id": "da93d6c9-8b34-46c4-83ca-ddcf2a2949cd",
   "metadata": {},
   "source": [
    "Solution:\n",
    "\n",
    "---\n",
    "\n",
    "---"
   ]
  },
  {
   "cell_type": "code",
   "execution_count": null,
   "id": "a65f5ca0",
   "metadata": {
    "vscode": {
     "languageId": "cpp"
    }
   },
   "outputs": [],
   "source": [
    "#include<iostream>\n",
    "#include<vector>\n",
    "#include <tuple> // tuple\n",
    "using namespace std;\n",
    "\n",
    "/*\n",
    "    =============================\n",
    "    - Name Solution: Using Triangle Inequality\n",
    "    - Idea: A triangle is valid if the sum of any two sides is greater than the third side. \n",
    "            Directly check all three combinations using simple comparisons.\n",
    "    - Time: O(1), since it involves only three comparisons\n",
    "    - Space: O(1), no extra memory used\n",
    "    =============================\n",
    "*/\n",
    "class Solution {\n",
    "public:\n",
    "    // Check if three sides can form a valid triangle\n",
    "    bool checkValidity(int a, int b, int c) {\n",
    "        // According to the triangle inequality theorem:\n",
    "        // The sum of the lengths of any two sides \n",
    "        // must be strictly greater than the third side.\n",
    "        // If (a+b <= c) OR (a+c <= b) OR (b+c <= a),\n",
    "        // the condition is violated → Not a valid triangle.\n",
    "        return !(a + b <= c || a + c <= b || b + c <= a);\n",
    "    }\n",
    "};\n",
    "\n",
    "int main()\n",
    "{\n",
    "    Solution sol;\n",
    "\n",
    "    // Test cases: (a, b, c)\n",
    "    vector<tuple<int, int, int>> testCases = {\n",
    "        {3, 4, 5},   // Valid right triangle\n",
    "        {1, 2, 3},   // Invalid (1+2 = 3)\n",
    "        {5, 5, 5},   // Valid equilateral triangle\n",
    "        {2, 3, 10}   // Invalid (2+3 < 10)\n",
    "    };\n",
    "\n",
    "    for (auto &tc : testCases) {\n",
    "        int a, b, c;\n",
    "        tie(a, b, c) = tc;\n",
    "\n",
    "        cout << \"Test case: a = \" << a << \", b = \" << b << \", c = \" << c << endl;\n",
    "        if (sol.checkValidity(a, b, c))\n",
    "            cout << \"=> Valid Triangle\" << endl;\n",
    "        else\n",
    "            cout << \"=> Invalid Triangle\" << endl;\n",
    "        cout << \"-------------------------\" << endl;\n",
    "    }\n",
    "\n",
    "    return 0;\n",
    "}\n"
   ]
  },
  {
   "cell_type": "markdown",
   "id": "cd5602a5-2575-4d2b-9713-8362076faea0",
   "metadata": {},
   "source": [
    "Test Case:"
   ]
  },
  {
   "cell_type": "code",
   "execution_count": null,
   "id": "9b9c38bb",
   "metadata": {
    "vscode": {
     "languageId": "cpp"
    }
   },
   "outputs": [],
   "source": [
    "Solution sol;\n",
    "\n",
    "return 0;"
   ]
  }
 ],
 "metadata": {
  "kernelspec": {
   "display_name": "C++17",
   "language": "C++17",
   "name": "xcpp17"
  },
  "language_info": {
   "codemirror_mode": "text/x-c++src",
   "file_extension": ".cpp",
   "mimetype": "text/x-c++src",
   "name": "c++",
   "version": "17"
  }
 },
 "nbformat": 4,
 "nbformat_minor": 5
}
