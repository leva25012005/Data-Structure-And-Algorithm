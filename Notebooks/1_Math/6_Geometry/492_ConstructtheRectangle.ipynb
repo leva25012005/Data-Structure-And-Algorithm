{
 "cells": [
  {
   "cell_type": "markdown",
   "id": "da93d6c9-8b34-46c4-83ca-ddcf2a2949cd",
   "metadata": {},
   "source": [
    "Solution:\n",
    "\n",
    "---\n",
    "\n",
    "---"
   ]
  },
  {
   "cell_type": "code",
   "execution_count": null,
   "id": "a65f5ca0",
   "metadata": {
    "vscode": {
     "languageId": "cpp"
    }
   },
   "outputs": [],
   "source": [
    "#include<iostream>\n",
    "#include<vector>\n",
    "#include<cmath> // to use sqrt\n",
    "\n",
    "using namespace std;\n",
    "\n",
    "/*\n",
    "    =============================\n",
    "    - Name Solution: Construct Rectangle with Given Area\n",
    "    - Idea: \n",
    "        1. Start from the square root of the area to find the width (w) closest to a square.\n",
    "        2. Decrease w until it divides the area evenly (area % w == 0).\n",
    "        3. Compute length L = area / w. Ensure L >= W as required.\n",
    "        This guarantees minimal difference between length and width.\n",
    "    - Time: O(sqrt(N)), since we check divisors down from sqrt(area)\n",
    "    - Space: O(1), only a few integer variables are used\n",
    "    =============================\n",
    "*/\n",
    "class Solution {\n",
    "public:\n",
    "    vector<int> constructRectangle(int area) {\n",
    "        int w = (int)sqrt(area); // start from square root of area\n",
    "        while (area % w != 0) // go back until find divisor\n",
    "            --w;\n",
    "        return {area / w, w}; // return {L, W}\n",
    "    }\n",
    "};\n",
    "\n",
    "int main()\n",
    "{\n",
    "    Solution sol;\n",
    "\n",
    "    // Test cases \n",
    "    vector < int > testCases = {\n",
    "        4,\n",
    "        37,\n",
    "        122122\n",
    "    };\n",
    "\n",
    "    for (int area: testCases) {\n",
    "        vector < int > res = sol.constructRectangle(area);\n",
    "        cout << \"Area = \" << area << endl;\n",
    "        cout << \"Constructed rectangle: L = \" << res[0] << \", W = \" << res[1] << endl;\n",
    "        cout << \"------------------------\" << endl;\n",
    "    }\n",
    "\n",
    "    return 0;\n",
    "}"
   ]
  },
  {
   "cell_type": "markdown",
   "id": "cd5602a5-2575-4d2b-9713-8362076faea0",
   "metadata": {},
   "source": [
    "Test Case:"
   ]
  },
  {
   "cell_type": "code",
   "execution_count": null,
   "id": "9b9c38bb",
   "metadata": {
    "vscode": {
     "languageId": "cpp"
    }
   },
   "outputs": [],
   "source": [
    "Solution sol;\n",
    "\n",
    "return 0;"
   ]
  }
 ],
 "metadata": {
  "kernelspec": {
   "display_name": "C++17",
   "language": "C++17",
   "name": "xcpp17"
  },
  "language_info": {
   "codemirror_mode": "text/x-c++src",
   "file_extension": ".cpp",
   "mimetype": "text/x-c++src",
   "name": "c++",
   "version": "17"
  }
 },
 "nbformat": 4,
 "nbformat_minor": 5
}
